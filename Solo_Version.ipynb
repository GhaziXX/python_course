{
  "nbformat": 4,
  "nbformat_minor": 0,
  "metadata": {
    "colab": {
      "name": "Solo_Version.ipynb",
      "provenance": [],
      "collapsed_sections": [],
      "authorship_tag": "ABX9TyMNbA+ckDGvMwqu/wy7ZYGC",
      "include_colab_link": true
    },
    "kernelspec": {
      "name": "python3",
      "display_name": "Python 3"
    }
  },
  "cells": [
    {
      "cell_type": "markdown",
      "metadata": {
        "id": "view-in-github",
        "colab_type": "text"
      },
      "source": [
        "<a href=\"https://colab.research.google.com/github/GhaziXX/python_course/blob/master/Solo_Version.ipynb\" target=\"_parent\"><img src=\"https://colab.research.google.com/assets/colab-badge.svg\" alt=\"Open In Colab\"/></a>"
      ]
    },
    {
      "cell_type": "markdown",
      "metadata": {
        "id": "vEOChkp6iRHl",
        "colab_type": "text"
      },
      "source": [
        "                      \n",
        "#Numbers And Math\n",
        "\n",
        "[Number and Math](http://python.slides.com/colt/oop-21/fullscreen)"
      ]
    },
    {
      "cell_type": "code",
      "metadata": {
        "id": "JnIDBBXbWt-g",
        "colab_type": "code",
        "colab": {}
      },
      "source": [
        ""
      ],
      "execution_count": null,
      "outputs": []
    },
    {
      "cell_type": "markdown",
      "metadata": {
        "id": "YDLjY5n6tnBj",
        "colab_type": "text"
      },
      "source": [
        "# Boolean and Conditional Logic\n",
        "\n",
        "[Boolean and Conditional Logic](http://python.slides.com/colt/variables-and-data-types/fullscreen)"
      ]
    },
    {
      "cell_type": "code",
      "metadata": {
        "id": "tNNOmUqPt6Uz",
        "colab_type": "code",
        "colab": {}
      },
      "source": [
        ""
      ],
      "execution_count": null,
      "outputs": []
    },
    {
      "cell_type": "markdown",
      "metadata": {
        "id": "KaZBdE3cuKwT",
        "colab_type": "text"
      },
      "source": [
        "# Section Exercices"
      ]
    },
    {
      "cell_type": "markdown",
      "metadata": {
        "id": "Zo8xZijqvB7D",
        "colab_type": "text"
      },
      "source": [
        "\n",
        "**EX1**\n",
        "\n",
        "At the top of the file is some starter code that randomly picks a number between 1 and 10, and saves it to a variable called `choice`.  Don't touch those lines!\n",
        "Your job is to write a simple conditional to check if `choice` is 7. if `choice` is 7, print out 'lucky'. Otherwise, print out 'unlucky'\n",
        "\n",
        "\n",
        "\n"
      ]
    },
    {
      "cell_type": "code",
      "metadata": {
        "id": "eJvSjxhywhHF",
        "colab_type": "code",
        "colab": {}
      },
      "source": [
        "from random import randint\n",
        "choice = randint(1,10)\n",
        "\n",
        "#Your Code Here"
      ],
      "execution_count": null,
      "outputs": []
    },
    {
      "cell_type": "markdown",
      "metadata": {
        "id": "igibL11Lwehc",
        "colab_type": "text"
      },
      "source": [
        "**EX2**\n",
        "\n",
        "You will be provided with a random number in a variable called `num`.\n",
        "Use a conditional statement to check if the number is odd. If `num` is odd, print \"odd\". Otherwise print \"even\"."
      ]
    },
    {
      "cell_type": "code",
      "metadata": {
        "id": "YzduasQUw_kt",
        "colab_type": "code",
        "colab": {}
      },
      "source": [
        "from random import randint\n",
        "num = randint(1, 1000)\n",
        "\n",
        "#Your Code Here"
      ],
      "execution_count": null,
      "outputs": []
    },
    {
      "cell_type": "markdown",
      "metadata": {
        "id": "LpR25tXbxFJz",
        "colab_type": "text"
      },
      "source": [
        "**EX3**\n",
        "\n",
        "the code written does is randomly set the `food` variable to either 'apple','grape', 'bacon', 'steak', 'worm', or 'dirt'.\n",
        "\n",
        "When you run the prewritten code, `food` will be randomly assigned. You task is to write code that will classify what food is.  \n",
        "\n",
        "If `food` is set to either 'apple' or 'grape', your code should print 'fruit'.\n",
        "If `food` is set to either 'bacon' or 'steak', your code should print 'meat'\n",
        "If `food` is set to either 'dirt' or 'worm' your code should print 'yuck'"
      ]
    },
    {
      "cell_type": "code",
      "metadata": {
        "id": "Jd-V3kr_xf0V",
        "colab_type": "code",
        "colab": {}
      },
      "source": [
        "from random import choice\n",
        "food = choice(['apple','grape', 'bacon', 'steak', 'worm', 'dirt'])\n",
        "\n",
        "#Your Code Here"
      ],
      "execution_count": null,
      "outputs": []
    },
    {
      "cell_type": "markdown",
      "metadata": {
        "id": "LqV1fLxMxitT",
        "colab_type": "text"
      },
      "source": [
        "**EX4**\n",
        "\n",
        "In this exercise `x` and `y`  are two random variables.  The code at the top of the file randomly assigns them (we'll learn how it works later on).  For now, just leave it alone :)\n",
        "\n",
        "If both are positive numbers, print \"both positive\". \n",
        "If both are negative, print \"both negative\". \n",
        "Otherwise, tell us which one is positive and which one is negative, e.g. \"`x` is positive and `y` is negative\"\n"
      ]
    },
    {
      "cell_type": "code",
      "metadata": {
        "id": "7I1bAY3FxyTL",
        "colab_type": "code",
        "colab": {}
      },
      "source": [
        ""
      ],
      "execution_count": null,
      "outputs": []
    },
    {
      "cell_type": "markdown",
      "metadata": {
        "id": "nXLpeUskxy8j",
        "colab_type": "text"
      },
      "source": [
        "**EX5**\n",
        "\n",
        "In this exercise you will be given a few variables that will be set randomly to Boolean values (True  or False ):\n",
        "\n",
        "`actually_sick` - when you legit have the flu!\n",
        "`kinda_sick` - you're feeling under the weather and it's enough to treat yoself with a day off if you can spare it\n",
        "`hate_your_job`  - work sucks, I know... \n",
        "You're also given a random number of `sick_days` between 0 and 10.\n",
        "\n",
        "Finally, there is a variable called `calling_in_sick`  that you must set to True  or False  based on the following scenarios:\n",
        "\n",
        "Set to True if: \n",
        "\n",
        "you're `actually_sick`  and you have `sick_days`  remaining\n",
        "you're `kinda_sick`  and `hate_your_job`  and you have `sick_days`  remaining\n",
        "Otherwise, set to False.\n"
      ]
    },
    {
      "cell_type": "code",
      "metadata": {
        "id": "UieTFd52yLED",
        "colab_type": "code",
        "colab": {}
      },
      "source": [
        "from random import choice, randint\n",
        "\n",
        "actually_sick = choice([True, False])\n",
        "kinda_sick = choice([True, False])\n",
        "hate_your_job = choice([True, False])\n",
        "sick_days = randint(0, 10)\n",
        "\n",
        "calling_in_sick = None\n",
        "\n",
        "#Your Code Here"
      ],
      "execution_count": null,
      "outputs": []
    },
    {
      "cell_type": "markdown",
      "metadata": {
        "id": "OAr8kRRzy93j",
        "colab_type": "text"
      },
      "source": [
        "**Rocks Paper Scissors**"
      ]
    },
    {
      "cell_type": "code",
      "metadata": {
        "id": "37AJ1zdMzOHb",
        "colab_type": "code",
        "colab": {}
      },
      "source": [
        "#Version 1\n",
        "print(\"Rock...\")\n",
        "print(\"Paper...\")\n",
        "print(\"Scissors...\")\n",
        "\n",
        "player1 = input(\"Player 1, make your move: \")\n",
        "player2 = input(\"Player 2, make your move: \")\n",
        "\n",
        "\n",
        "if player1 == \"rock\" and player2 == \"scissors\":\n",
        "\tprint(\"player1 wins!\")\n",
        "elif player1 == \"rock\" and player2 == \"paper\":\n",
        "\tprint(\"player2 wins!\")\n",
        "elif player1 == \"paper\" and player2 == \"rock\":\n",
        "\tprint(\"player1 wins!\")\n",
        "elif player1 == \"paper\" and player2 == \"scissors\":\n",
        "\tprint(\"player2 wins!\")\n",
        "elif player1 == \"scissors\" and player2 == \"rock\":\n",
        "\tprint(\"player2 wins!\")\n",
        "elif player1 == \"scissors\" and player2 == \"paper\":\n",
        "\tprint(\"player1 wins!\")\n",
        "elif player1 == player2:\n",
        "\tprint(\"It's a tie!\")\n",
        "else:\n",
        "\tprint(\"something went wrong\")"
      ],
      "execution_count": null,
      "outputs": []
    },
    {
      "cell_type": "code",
      "metadata": {
        "id": "XuzeV_0CzS8c",
        "colab_type": "code",
        "colab": {}
      },
      "source": [
        "#Version 2\n",
        "from random import randint\n",
        "\n",
        "player = input(\"Player, make your move: \").lower()\n",
        "rand_num = randint(0,2)\n",
        "if rand_num == 0:\n",
        "\tcomputer = \"rock\"\n",
        "elif rand_num == 1:\n",
        "\tcomputer = \"paper\"\n",
        "else:\n",
        "\tcomputer = \"scissors\"\n",
        "\n",
        "print(f\"Computer plays {computer}\" )\n",
        "\n",
        "if player == computer:\n",
        "\tprint(\"It's a tie!\")\n",
        "elif player == \"rock\":\n",
        "\tif computer == \"scissors\":\n",
        "\t\tprint(\"player wins!\")\n",
        "\telse:\n",
        "\t\tprint(\"computer wins!\")\n",
        "elif player == \"paper\":\n",
        "\tif computer == \"rock\":\n",
        "\t\tprint(\"player wins!\")\n",
        "\telse:\n",
        "\t\tprint(\"computer wins!\")\n",
        "elif player == \"scissors\":\n",
        "\tif computer == \"paper\":\n",
        "\t\tprint(\"player wins!\")\n",
        "\telse:\n",
        "\t\tprint(\"computer wins!\")\t\n",
        "else:\n",
        "\tprint(\"Please enter a valid move!\")"
      ],
      "execution_count": null,
      "outputs": []
    },
    {
      "cell_type": "markdown",
      "metadata": {
        "id": "7cQG4L2nyR3G",
        "colab_type": "text"
      },
      "source": [
        "# Loops\n",
        "[Loops](http://python.slides.com/colt/functions-part-1/fullscreen)"
      ]
    },
    {
      "cell_type": "code",
      "metadata": {
        "id": "m92uepHizjRL",
        "colab_type": "code",
        "colab": {}
      },
      "source": [
        ""
      ],
      "execution_count": null,
      "outputs": []
    },
    {
      "cell_type": "markdown",
      "metadata": {
        "id": "LHyPgesxzkkS",
        "colab_type": "text"
      },
      "source": [
        "# Section Exercices"
      ]
    },
    {
      "cell_type": "markdown",
      "metadata": {
        "id": "584uVWoczppr",
        "colab_type": "text"
      },
      "source": [
        "\n",
        "**EX1**\n",
        "\n",
        "Use a for loop to add up every odd number from 10 to 20 (inclusive) and store the result in the variable `x` .  \n",
        "\n",
        "You could cheat and just figure this out using a calculator, but...that would defeat the whole point of this course."
      ]
    },
    {
      "cell_type": "code",
      "metadata": {
        "id": "GSLy-U4o1GaG",
        "colab_type": "code",
        "colab": {}
      },
      "source": [
        ""
      ],
      "execution_count": null,
      "outputs": []
    },
    {
      "cell_type": "markdown",
      "metadata": {
        "id": "N6COnEM71HTy",
        "colab_type": "text"
      },
      "source": [
        "**EX2**\n",
        "\n",
        "Use a while loop to generate a random number between 1 and 10 until you get the number 5. Every time the loop runs, increment the variable `i` .\n",
        "\n",
        "Here are more detailed steps:\n",
        "\n",
        "Generate a random number between 1 and 10 using `randint(1, 10)` , storing the result in the `number` variable\n",
        "Write a while loop to keep regenerating a new random `number` between 1 and 10 while the random `number` is not equal to 5.\n",
        "\n",
        "print how many times the loop has excuted to get the number 5"
      ]
    },
    {
      "cell_type": "code",
      "metadata": {
        "id": "I0JyeRjz1qc1",
        "colab_type": "code",
        "colab": {}
      },
      "source": [
        ""
      ],
      "execution_count": null,
      "outputs": []
    },
    {
      "cell_type": "markdown",
      "metadata": {
        "id": "NP3Ujhgk1q2j",
        "colab_type": "text"
      },
      "source": [
        "**Guessing Game**"
      ]
    },
    {
      "cell_type": "code",
      "metadata": {
        "id": "44cb4tM318qU",
        "colab_type": "code",
        "colab": {}
      },
      "source": [
        "import random\n",
        "\n",
        "random_number = random.randint(1,10)  # numbers 1 - 10\n",
        "guess = None\n",
        "\n",
        "while True:\n",
        "\tguess = input(\"Pick a number from 1 to 10: \")\n",
        "\tguess = int(guess)\n",
        "\tif guess < random_number:\n",
        "\t\tprint(\"TOO LOW!\")\n",
        "\telif guess > random_number:\n",
        "\t\tprint(\"TOO HIGH!\")\n",
        "\telse:\n",
        "\t\tprint(\"YOU WON!!!!\")\n",
        "\t\tplay_again = input(\"Do you want to play again? (y/n) \")\n",
        "\t\tif play_again == \"y\":\n",
        "\t\t\trandom_number = random.randint(1,10)  # numbers 1 - 10\n",
        "\t\t\tguess = None\n",
        "\t\telse:\n",
        "\t\t\tprint(\"Thank you for playing!\")\n",
        "\t\t\tbreak\n"
      ],
      "execution_count": null,
      "outputs": []
    },
    {
      "cell_type": "markdown",
      "metadata": {
        "id": "BR7HrjLf2AfU",
        "colab_type": "text"
      },
      "source": [
        "# Lists\n",
        "\n",
        "[Lists](http://python.slides.com/colt/lists-13/fullscreen)"
      ]
    },
    {
      "cell_type": "code",
      "metadata": {
        "id": "yWFcauYb2J9s",
        "colab_type": "code",
        "colab": {}
      },
      "source": [
        ""
      ],
      "execution_count": null,
      "outputs": []
    },
    {
      "cell_type": "markdown",
      "metadata": {
        "id": "a0xdKfkR2Kkr",
        "colab_type": "text"
      },
      "source": [
        "# Section Exercices"
      ]
    },
    {
      "cell_type": "markdown",
      "metadata": {
        "id": "zBUMw20e9VHV",
        "colab_type": "text"
      },
      "source": [
        "**EX1**\n",
        "\n",
        "It's time to create your own lists.  Define 2 separate lists: \n",
        "\n",
        "First, define a list called `my_stuff` .  It must be be at least 4 elements long.  The data is completely up to you, but it must contain at least 1 string and 1 float. \n",
        "Next, define a list called `nums` . It should be a list containing all the numbers between 1 and 99 (including 99).  Don't type this out manually!"
      ]
    },
    {
      "cell_type": "code",
      "metadata": {
        "id": "-jkKnqfE9oAd",
        "colab_type": "code",
        "colab": {}
      },
      "source": [
        ""
      ],
      "execution_count": null,
      "outputs": []
    },
    {
      "cell_type": "markdown",
      "metadata": {
        "id": "VpQ7MGH99oSU",
        "colab_type": "text"
      },
      "source": [
        "**EX2**\n",
        "\n",
        "I'm having a party, and made a list of people I want to invite.  Unfortunately, I'm a terrible friend and made a couple of spelling errors.  Help me correct them!\n",
        "\n",
        "Change \"Hanna\" to \"Hannah\" (there should be an 'h' at the end)\n",
        "Change \"Geoffrey\" to \"Jeffrey\"\n",
        "Change \"aparna\" to \"Aparna\" (capitalize it)"
      ]
    },
    {
      "cell_type": "code",
      "metadata": {
        "id": "CQGdsqGk9xUt",
        "colab_type": "code",
        "colab": {}
      },
      "source": [
        "people = [\"Hanna\",\"Louisa\",\"Claudia\", \"Angela\",\"Geoffrey\", \"aparna\"]\n",
        "\n",
        "# Your Code Here"
      ],
      "execution_count": null,
      "outputs": []
    },
    {
      "cell_type": "markdown",
      "metadata": {
        "id": "V9oXF-sE91ic",
        "colab_type": "text"
      },
      "source": [
        "**EX3**\n",
        "\n",
        "I've given you a list called `sounds` .  It looks like this:\n",
        "\n",
        "`sounds = [\"super\", \"cali\", \"fragil\", \"istic\", \"expi\", \"ali\", \"docious\"] `\n",
        "\n",
        "Write code that loops over the list and adds all the strings together to form one large combined string (don't add any spaces between them) \n",
        "The combined string should be in all UPPERCASE as well \n",
        "Save the result in a variable called `result`"
      ]
    },
    {
      "cell_type": "code",
      "metadata": {
        "id": "oOkinhBv-Brt",
        "colab_type": "code",
        "colab": {}
      },
      "source": [
        "sounds = [\"super\", \"cali\", \"fragil\", \"istic\", \"expi\", \"ali\", \"docious\"]\n",
        "\n",
        "# Your Code Here"
      ],
      "execution_count": null,
      "outputs": []
    },
    {
      "cell_type": "markdown",
      "metadata": {
        "id": "iqDVQzax-CC8",
        "colab_type": "text"
      },
      "source": [
        "**EX4**\n",
        "\n",
        "Create a list called `instructors`\n",
        "\n",
        "\n",
        "*   Add the following strings to the instructors list \n",
        "\n",
        "    \"Colt\"\n",
        "    \"Blue\"\n",
        "    \"Lisa\"\n",
        "*   Remove the last value in the list\n",
        "\n",
        "\n",
        "*   Add the string \"Done\" to the beginning of the list\n",
        "*   print the new list\n"
      ]
    },
    {
      "cell_type": "code",
      "metadata": {
        "id": "eJcrJh16-wkH",
        "colab_type": "code",
        "colab": {}
      },
      "source": [
        ""
      ],
      "execution_count": null,
      "outputs": []
    },
    {
      "cell_type": "markdown",
      "metadata": {
        "id": "kllEExN8-0_V",
        "colab_type": "text"
      },
      "source": [
        "**EX5**\n",
        "\n",
        "Given a list `[\"Elie\", \"Tim\", \"Matt\"]`, create a variable called `answer`, which is a new list containing the first letter of each name in the list.  I would use a list comprehension, though you could also loop over manually.\n",
        "\n",
        "Given a list `[1,2,3,4,5,6]`, create a new variable called `answer2`, which is a new list of all the even values.  Another good candidate for a list comp."
      ]
    },
    {
      "cell_type": "code",
      "metadata": {
        "id": "B5l2TTWV_CSd",
        "colab_type": "code",
        "colab": {}
      },
      "source": [
        ""
      ],
      "execution_count": null,
      "outputs": []
    },
    {
      "cell_type": "markdown",
      "metadata": {
        "id": "XLa0lqAW_Clc",
        "colab_type": "text"
      },
      "source": [
        "**EX6**\n",
        "\n",
        "1. Given two lists `[1,2,3,4]` and `[3,4,5,6]`, create a variable called `answer`, which is a new list that is the intersection of the two. Your output should be [3,4] .  Hint: use the in operator to test whether an element is in a list.  For example:  `5 in [1,5,2]`  is True.  `3 in [1,5,2]`  is False.\n",
        "\n",
        "2. Given a list of words `[\"Elie\", \"Tim\", \"Matt\"]` create a variable called `answer2`, which is a new list with each word reversed and in lower case (use a slice to do the reversal!) Your output should be `['eile', 'mit', 'ttam']`"
      ]
    },
    {
      "cell_type": "code",
      "metadata": {
        "id": "HHxVWpVL_rIH",
        "colab_type": "code",
        "colab": {}
      },
      "source": [
        ""
      ],
      "execution_count": null,
      "outputs": []
    },
    {
      "cell_type": "markdown",
      "metadata": {
        "id": "My49-wbG_rdl",
        "colab_type": "text"
      },
      "source": [
        "**EX7**\n",
        "\n",
        "For all the numbers between 1 and 100(including 100), create a variable called `answer`, which contains a list with all the numbers that are divisible by 12.  (12, 24, etc)\n",
        "\n",
        "USE A LIST COMPREHENSION."
      ]
    },
    {
      "cell_type": "code",
      "metadata": {
        "id": "naBO86cH_y3d",
        "colab_type": "code",
        "colab": {}
      },
      "source": [
        ""
      ],
      "execution_count": null,
      "outputs": []
    },
    {
      "cell_type": "markdown",
      "metadata": {
        "id": "3PdBaYBi_zMf",
        "colab_type": "text"
      },
      "source": [
        "**EX8**\n",
        "\n",
        "Given the string \"amazing\", create a variable called `answer`, which is a list containing all the letters from \"amazing\" but not the vowels (a, e, i, o, and u). The answer should look like: `['m', 'z', 'n', 'g']`.\n",
        "\n",
        "Use a list comprehension!"
      ]
    },
    {
      "cell_type": "code",
      "metadata": {
        "id": "OnVpSibZ_9Js",
        "colab_type": "code",
        "colab": {}
      },
      "source": [
        ""
      ],
      "execution_count": null,
      "outputs": []
    },
    {
      "cell_type": "markdown",
      "metadata": {
        "id": "6taONDjo_9eE",
        "colab_type": "text"
      },
      "source": [
        "**EX9**\n",
        "\n",
        "Using a nested list comprehension and range(), create a variable called `answer`  with the following value - `[[0, 1, 2], [0, 1, 2], [0, 1, 2]]` .  To break it down...start by using range and a list comp to generate the list `[0,1,2]`.  And then repeat that whole thing 3 times in a nested list comp."
      ]
    },
    {
      "cell_type": "code",
      "metadata": {
        "id": "jQaAQqlpAKwN",
        "colab_type": "code",
        "colab": {}
      },
      "source": [
        ""
      ],
      "execution_count": null,
      "outputs": []
    },
    {
      "cell_type": "markdown",
      "metadata": {
        "id": "O4v-Nn7iALFt",
        "colab_type": "text"
      },
      "source": [
        "**EX10**\n",
        "\n",
        "One More Nested List Comp Challenge\n",
        "Using list comprehension, create a variable called `answer` with the following value :\n",
        "```\n",
        "[\n",
        " [0, 1, 2, 3, 4, 5, 6, 7, 8, 9],\n",
        " [0, 1, 2, 3, 4, 5, 6, 7, 8, 9],\n",
        " [0, 1, 2, 3, 4, 5, 6, 7, 8, 9],\n",
        " [0, 1, 2, 3, 4, 5, 6, 7, 8, 9],\n",
        " [0, 1, 2, 3, 4, 5, 6, 7, 8, 9],\n",
        " [0, 1, 2, 3, 4, 5, 6, 7, 8, 9],\n",
        " [0, 1, 2, 3, 4, 5, 6, 7, 8, 9],\n",
        " [0, 1, 2, 3, 4, 5, 6, 7, 8, 9],\n",
        " [0, 1, 2, 3, 4, 5, 6, 7, 8, 9],\n",
        " [0, 1, 2, 3, 4, 5, 6, 7, 8, 9]\n",
        " ]\n",
        "```\n",
        "\n",
        "it's a 10x10 nested list.  10 rows, each row contains the numbers 0-9.   Use nested list comprehension and range() to accomplish this."
      ]
    },
    {
      "cell_type": "code",
      "metadata": {
        "id": "J2uTexJmAhGm",
        "colab_type": "code",
        "colab": {}
      },
      "source": [
        ""
      ],
      "execution_count": null,
      "outputs": []
    },
    {
      "cell_type": "markdown",
      "metadata": {
        "id": "k5bmJS-aAhwU",
        "colab_type": "text"
      },
      "source": [
        "# Dictionaries\n",
        "\n",
        "[Dictionaries](http://python.slides.com/colt/lists-22/fullscreen)"
      ]
    },
    {
      "cell_type": "code",
      "metadata": {
        "id": "VHoahsAuA1lu",
        "colab_type": "code",
        "colab": {}
      },
      "source": [
        ""
      ],
      "execution_count": null,
      "outputs": []
    },
    {
      "cell_type": "markdown",
      "metadata": {
        "id": "YKuQblepA2al",
        "colab_type": "text"
      },
      "source": [
        "# Section Exercices"
      ]
    },
    {
      "cell_type": "markdown",
      "metadata": {
        "id": "X3suvlHeA7pd",
        "colab_type": "text"
      },
      "source": [
        "**EX1**\n",
        "\n",
        "Given the dictionary below:\n",
        "```\n",
        "artist = {\n",
        "    \"first\": \"Neil\",\n",
        "    \"last\": \"Young\",\n",
        "}\n",
        "```\n",
        "\n",
        "Declare a variable called `full_name`  that is equal to artist's first  and last  names with a space between. You must reference the values associated with those keys in the artist dictionary.\n",
        "\n",
        "print `full_name` \n"
      ]
    },
    {
      "cell_type": "code",
      "metadata": {
        "id": "BSa-ttVGCNP3",
        "colab_type": "code",
        "colab": {}
      },
      "source": [
        ""
      ],
      "execution_count": null,
      "outputs": []
    },
    {
      "cell_type": "markdown",
      "metadata": {
        "id": "FGb5w8iNCNql",
        "colab_type": "text"
      },
      "source": [
        "**EX2**\n",
        "\n",
        "Given the provided dictionary of donations:\n",
        "\n",
        "`donations = dict(sam=25.0, lena=88.99, chuck=13.0, linus=99.5, stan=150.0, lisa=50.25, harrison=10.0) `\n",
        "\n",
        "Use a loop to calculate the total value of the donations.  Save the result to a variable called `total_donations`"
      ]
    },
    {
      "cell_type": "code",
      "metadata": {
        "id": "FlBjQrWCCZJW",
        "colab_type": "code",
        "colab": {}
      },
      "source": [
        ""
      ],
      "execution_count": null,
      "outputs": []
    },
    {
      "cell_type": "markdown",
      "metadata": {
        "id": "lf2dTxgKCZcd",
        "colab_type": "text"
      },
      "source": [
        "**EX3**\n",
        "\n",
        "For this exercise, I've defined some code for you already.\n",
        "\n",
        "The `food`  variable will store a randomly chosen food string like \"gummy bear\" or \"morning bun\".  Some of these items are in the `bakery_stock`  dictionary, and some are not.\n",
        "\n",
        "Your task is to simply print out a string depending on if food  is a value in `bakery_stock` .If food  is contained in `bakery_stock`  print out a string that states how many items are left: \"3 left\" if food is \"toffee cookie\" or \"1 left\" if food is \"morning bun\", etc.\n",
        "\n",
        "If food is not contained in `bakery_stock`  (like \"gummy bear\"), print out \"We don't make that\""
      ]
    },
    {
      "cell_type": "code",
      "metadata": {
        "id": "V0ubUezGCr99",
        "colab_type": "code",
        "colab": {}
      },
      "source": [
        "# This code picks a random food item:\n",
        "from random import choice \n",
        "food = choice([\"cheese pizza\", \"quiche\",\"morning bun\",\"gummy bear\",\"tea cake\"])\n",
        "\n",
        "bakery_stock = {\n",
        "    \"almond croissant\" : 12,\n",
        "    \"toffee cookie\": 3,\n",
        "    \"morning bun\": 1,\n",
        "    \"chocolate chunk cookie\": 9,\n",
        "    \"tea cake\": 25\n",
        "}\n",
        "\n",
        "# YOUR CODE GOES BELOW:"
      ],
      "execution_count": null,
      "outputs": []
    },
    {
      "cell_type": "markdown",
      "metadata": {
        "id": "TjV3UNAeCu99",
        "colab_type": "text"
      },
      "source": [
        "**EX3**\n",
        "\n",
        "Imagine we're creating a video game and want to model the initial starting-state of our game.  I've provided you with a list of strings called `game_properties`.\n",
        "\n",
        "Use `dict.fromkeys`  to generate a new dictionary using the provided `game_properties`  list.  Initialize all values to 0 .  \n",
        "\n",
        "Save the result in a variable called `initial_game_state` \n",
        "\n",
        "HINT: the end result should look like this:\n",
        "\n",
        "`{'current_score': 0, 'high_score': 0, 'number_of_lives': 0, 'items_in_inventory': 0, 'power_ups': 0, 'ammo': 0, 'enemies_on_screen': 0, 'enemy_kills': 0, 'enemy_kill_streaks': 0, 'minutes_played': 0, 'notifications': 0, 'achievements': 0} `\n"
      ]
    },
    {
      "cell_type": "code",
      "metadata": {
        "id": "Tp60wkNgDB2v",
        "colab_type": "code",
        "colab": {}
      },
      "source": [
        "game_properties = [\"current_score\", \"high_score\", \"number_of_lives\", \"items_in_inventory\", \"power_ups\", \"ammo\", \"enemies_on_screen\", \"enemy_kills\", \"enemy_kill_streaks\", \"minutes_played\", \"notifications\", \"achievements\"] "
      ],
      "execution_count": null,
      "outputs": []
    },
    {
      "cell_type": "markdown",
      "metadata": {
        "id": "vI_8ebU1DHAt",
        "colab_type": "text"
      },
      "source": [
        "**EX4**\n",
        "\n",
        "I've provided you with a start dictionary called inventory. \n",
        "\n",
        "`inventory = {'croissant': 19, 'bagel': 4, 'muffin': 8, 'cake': 1}` \n",
        "Follow the instructions found in the comments:\n",
        "\n",
        "1. Make a copy of inventory  and save it to a variable called `stock_list`  using a dictionary method we've covered\n",
        "\n",
        "2. Add the value 18 to `stock_list`  under the key \"cookie\"\n",
        "\n",
        "3. Remove 'cake' from `stock_list`  using a dictionary method we've learned"
      ]
    },
    {
      "cell_type": "code",
      "metadata": {
        "id": "48lQVG7yDVeV",
        "colab_type": "code",
        "colab": {}
      },
      "source": [
        "inventory = {'croissant': 19, 'bagel': 4, 'muffin': 8, 'cake': 1}"
      ],
      "execution_count": null,
      "outputs": []
    },
    {
      "cell_type": "markdown",
      "metadata": {
        "id": "mB0tLIWvDXYl",
        "colab_type": "text"
      },
      "source": [
        "**EX5**\n",
        "\n",
        "Given two lists `[\"CA\", \"NJ\", \"RI\"]` and `[\"California\", \"New Jersey\", \"Rhode Island\"]` create a dictionary that looks like this `{'CA': 'California', 'NJ': 'New Jersey', 'RI': 'Rhode Island'}`. Save it to a variable called `answer`.\n",
        "\n",
        "I expect you to do this with a dictionary comprehension, but you can also use a built-in function called zip .  We cover it later in the course."
      ]
    },
    {
      "cell_type": "code",
      "metadata": {
        "id": "TIKJD7bXDjNW",
        "colab_type": "code",
        "colab": {}
      },
      "source": [
        "list1 = [\"CA\", \"NJ\", \"RI\"]\n",
        "list2 = [\"California\", \"New Jersey\", \"Rhode Island\"]\n",
        "\n",
        "answer = {}"
      ],
      "execution_count": null,
      "outputs": []
    },
    {
      "cell_type": "markdown",
      "metadata": {
        "id": "0CSsItqyDjke",
        "colab_type": "text"
      },
      "source": [
        "**EX6**\n",
        "\n",
        "given a `person` variable:\n",
        "\n",
        "`person = [[\"name\", \"Jared\"], [\"job\", \"Musician\"], [\"city\", \"Bern\"]] `\n",
        "\n",
        "Create a dictionary called `answer` , that makes each first item in each list a key and the second item a corresponding value.  That's a terrible explanation.  I think it'll be easier if you just look at the end goal:\n",
        "\n",
        "`{'name': 'Jared', 'job': 'Musician', 'city': 'Bern'} `\n",
        "\n",
        "There are many potential solutions for this."
      ]
    },
    {
      "cell_type": "code",
      "metadata": {
        "id": "62XLu_sODxyd",
        "colab_type": "code",
        "colab": {}
      },
      "source": [
        "person = [[\"name\", \"Jared\"], [\"job\", \"Musician\"], [\"city\", \"Bern\"]]"
      ],
      "execution_count": null,
      "outputs": []
    },
    {
      "cell_type": "markdown",
      "metadata": {
        "id": "jnevFWrYDyGF",
        "colab_type": "text"
      },
      "source": [
        "# Tuple and Sets\n",
        "\n",
        "[Tuple and Sets](http://python.slides.com/colt/lists-23/fullscreen)"
      ]
    },
    {
      "cell_type": "code",
      "metadata": {
        "id": "_NoWhSrgEDpd",
        "colab_type": "code",
        "colab": {}
      },
      "source": [
        ""
      ],
      "execution_count": null,
      "outputs": []
    },
    {
      "cell_type": "markdown",
      "metadata": {
        "id": "nia7VdWhED_V",
        "colab_type": "text"
      },
      "source": [
        "# Section Exercices"
      ]
    },
    {
      "cell_type": "code",
      "metadata": {
        "id": "wAtxfbrDEJnO",
        "colab_type": "code",
        "colab": {}
      },
      "source": [
        "\n",
        "# 1 - Create a variable called numbers which is a tuple with the the values 1, 2, 3 and 4 inside.\n",
        "\n",
        "# 2 - Create a variable called value which is a tuple with the the value 1 inside.\n",
        "\n",
        "# 3 - Given the following variable:\n",
        "\n",
        "values = [10,20,30]\n",
        "\n",
        "# Create a variable called static_values which is the result of the values variable converted to a tuple\n",
        "\n",
        "# 4 - Given the following variable\n",
        "\n",
        "stuff = [1,3,1,5,2,5,1,2,5]\n",
        "\n",
        "# Create a variable called unique_stuff which is a set of only the unique values in the stuff list"
      ],
      "execution_count": null,
      "outputs": []
    },
    {
      "cell_type": "markdown",
      "metadata": {
        "id": "g4lTJ78PEPjl",
        "colab_type": "text"
      },
      "source": [
        "# Functions I\n",
        "\n",
        "[Functions I](http://python.slides.com/colt/lists-16/fullscreen)"
      ]
    },
    {
      "cell_type": "code",
      "metadata": {
        "id": "NEJ0rDozbRbS",
        "colab_type": "code",
        "colab": {}
      },
      "source": [
        ""
      ],
      "execution_count": null,
      "outputs": []
    },
    {
      "cell_type": "markdown",
      "metadata": {
        "id": "EpIx7zGrbR_K",
        "colab_type": "text"
      },
      "source": [
        "# Section Exercices"
      ]
    },
    {
      "cell_type": "markdown",
      "metadata": {
        "id": "ip5p4T6-bVGA",
        "colab_type": "text"
      },
      "source": [
        "**EX1**\n",
        "\n",
        "Write a function called `generate_evens`  that returns a list of the even numbers between 1 and 50(not including 50). \n",
        "Basically, it should return a list: [2,4,6....all the way up to 48] \n",
        "Inside the function, you can construct the list using either a loop OR list comprehension."
      ]
    },
    {
      "cell_type": "code",
      "metadata": {
        "id": "m-YnHlxNbtDW",
        "colab_type": "code",
        "colab": {}
      },
      "source": [
        ""
      ],
      "execution_count": null,
      "outputs": []
    },
    {
      "cell_type": "markdown",
      "metadata": {
        "id": "oHzA6h1obtdy",
        "colab_type": "text"
      },
      "source": [
        "**EX2**\n",
        "\n",
        "Implement a function `yell`  which accepts a single string argument.  It should return(not print) an uppercased version of the string with an exclamation point aded at the end.  For example:\n",
        "\n",
        "`yell(\"go away\")`   # \"GO AWAY!\"\n",
        "\n",
        "`yell(\"leave me alone\")`   # \"LEAVE ME ALONE!\""
      ]
    },
    {
      "cell_type": "code",
      "metadata": {
        "id": "ls703opmb6z6",
        "colab_type": "code",
        "colab": {}
      },
      "source": [
        ""
      ],
      "execution_count": null,
      "outputs": []
    },
    {
      "cell_type": "markdown",
      "metadata": {
        "id": "L2txJg-cb7OB",
        "colab_type": "text"
      },
      "source": [
        "**EX3**\n",
        "\n",
        "The pre-written `count_dollar_signs`  function is broken.   It's supposed to return the number of $ characters in a given string.  For example: `count_dollar_signs(\"$uper $ize\")`  should return 2 .  But for some reason, the function always returns either 0 or 1. What's going on?\n",
        "\n",
        "Without adding any new lines (just move existing code around), make it work as intended."
      ]
    },
    {
      "cell_type": "code",
      "metadata": {
        "id": "cNO-c_NRcLra",
        "colab_type": "code",
        "colab": {}
      },
      "source": [
        "# Without adding any new lines of code, make count_dollar_signs work as intended\n",
        "def count_dollar_signs(word):\n",
        "    count = 0\n",
        "    for char in word:\n",
        "        if char == '$':\n",
        "            count += 1\n",
        "        return count"
      ],
      "execution_count": null,
      "outputs": []
    },
    {
      "cell_type": "markdown",
      "metadata": {
        "id": "N5rrBdXOcNzy",
        "colab_type": "text"
      },
      "source": [
        "**EX4**\n",
        "\n",
        "Write a function called `speak`  that accepts a single parameter, animal.  \n",
        "\n",
        "If animal is \"pig\", it should return \"oink\". \n",
        "If animal is \"duck\", it should return \"quack\".  \n",
        "If animal is \"cat\", it should return \"meow\"\n",
        "If animal is \"dog\", it should return \"woof\"\n",
        "If animal is anything else, it should return \"?\"\n",
        "If no animal is specified, it should default to \"dog\"\n",
        "\n",
        "\n",
        "`speak()`  # \"woof\"\n",
        "\n",
        "`speak(\"pig\")`  # \"oink\"\n",
        "\n",
        "`speak(\"duck\")`  # \"quack\"\n",
        "\n",
        "`speak(\"cat\")`  # \"meow\"\n",
        "\n",
        "`speak(\"dog\")`  # \"woof\"\n",
        "\n",
        "`speak(\"banana\")`  # \"?\""
      ]
    },
    {
      "cell_type": "code",
      "metadata": {
        "id": "mzWvvsMQcdUL",
        "colab_type": "code",
        "colab": {}
      },
      "source": [
        ""
      ],
      "execution_count": null,
      "outputs": []
    },
    {
      "cell_type": "markdown",
      "metadata": {
        "id": "tkLt-_fXcduL",
        "colab_type": "text"
      },
      "source": [
        "**EX5**\n",
        "\n",
        "Write a function called `product` that accepts two parameters and returns the product of the two parameters (multiply them together)"
      ]
    },
    {
      "cell_type": "code",
      "metadata": {
        "id": "KUw5soxwclf8",
        "colab_type": "code",
        "colab": {}
      },
      "source": [
        ""
      ],
      "execution_count": null,
      "outputs": []
    },
    {
      "cell_type": "markdown",
      "metadata": {
        "id": "dVdeZvsgcl3v",
        "colab_type": "text"
      },
      "source": [
        "**EX6**\n",
        "\n",
        "Write a function called `single_letter_count`. This function takes in two parameters (two strings). The first parameter should be a word and the second should be a letter. The function returns the number of times that letter appears in the word. The function should be case insensitive (does not matter if the input is lowercase or uppercase). If the letter is not found in the word, the function should return 0.  \n",
        "\n",
        "Hint: take advantage of `count()` method"
      ]
    },
    {
      "cell_type": "code",
      "metadata": {
        "id": "Eq5YSBb3c3q0",
        "colab_type": "code",
        "colab": {}
      },
      "source": [
        ""
      ],
      "execution_count": null,
      "outputs": []
    },
    {
      "cell_type": "markdown",
      "metadata": {
        "id": "peP6mXg7c4B8",
        "colab_type": "text"
      },
      "source": [
        "**EX7**\n",
        "\n",
        "Write a function called `multiple_letter_count`. This function takes in one parameter (a string) and returns a dictionary with the keys being the letters and the values being the count of the letter.  Hint: use a dictionary comprehension and `count()`. \n",
        "\n",
        "Here's how it should work:\n",
        "\n",
        "`multiple_letter_count(\"awesome\")`   # {'a': 1, 'e': 2, 'm': 1, 'o': 1, 's': 1, 'w': 1}"
      ]
    },
    {
      "cell_type": "code",
      "metadata": {
        "id": "wKJJO9mehAnr",
        "colab_type": "code",
        "colab": {}
      },
      "source": [
        ""
      ],
      "execution_count": null,
      "outputs": []
    },
    {
      "cell_type": "markdown",
      "metadata": {
        "id": "gjdU3tuFhDtZ",
        "colab_type": "text"
      },
      "source": [
        "**EX8**\n",
        "\n",
        "Write a function called `list_manipulation`. This function should take in four parameters (a list, command, location and value).\n",
        "\n",
        "If the command is \"remove\" and the location is \"end\", the function should remove the last value in the list and return the value removed\n",
        "If the command is \"remove\" and the location is \"beginning\", the function should remove the first value in the list and return the value removed\n",
        "If the command is \"add\" and the location is \"beginning\", the function should add the value (fourth parameter) to the beginning of the list and return the list\n",
        "If the command is \"add\" and the location is \"end\", the function should add the value (fourth parameter) to the end of the list and return the list"
      ]
    },
    {
      "cell_type": "code",
      "metadata": {
        "id": "-knJiko-hNXB",
        "colab_type": "code",
        "colab": {}
      },
      "source": [
        ""
      ],
      "execution_count": null,
      "outputs": []
    },
    {
      "cell_type": "markdown",
      "metadata": {
        "id": "LdVdOCDZhOER",
        "colab_type": "text"
      },
      "source": [
        "**EX9**\n",
        "\n",
        "Write a function called `is_palindrome`. A Palindrome is a word, phrase, number, or other sequence of characters which reads the same backward or forward. This function should take in one parameter and returns True or False depending on whether it is a palindrome. As a bonus, allow your function to ignore whitespace and capitalization so that `is_palindrome`('a man a plan a canal Panama') returns True."
      ]
    },
    {
      "cell_type": "code",
      "metadata": {
        "id": "tJ14Y8TWhUD6",
        "colab_type": "code",
        "colab": {}
      },
      "source": [
        ""
      ],
      "execution_count": null,
      "outputs": []
    },
    {
      "cell_type": "markdown",
      "metadata": {
        "id": "gCfkte3mhUWp",
        "colab_type": "text"
      },
      "source": [
        "**EX10**\n",
        "\n",
        "Write a function called `frequency`. This function accepts a list and a search_term (this will always be a primitive value) and returns the number of times the search_term appears in the list."
      ]
    },
    {
      "cell_type": "code",
      "metadata": {
        "id": "L3jEnCw9hasx",
        "colab_type": "code",
        "colab": {}
      },
      "source": [
        ""
      ],
      "execution_count": null,
      "outputs": []
    },
    {
      "cell_type": "markdown",
      "metadata": {
        "id": "rn20GUTTha_B",
        "colab_type": "text"
      },
      "source": [
        "**EX11**\n",
        "\n",
        "Write a function called `multiply_even_numbers`. This function accepts a list of numbers and returns the product of all even numbers in the list."
      ]
    },
    {
      "cell_type": "code",
      "metadata": {
        "id": "rx1IQj8Nhgla",
        "colab_type": "code",
        "colab": {}
      },
      "source": [
        ""
      ],
      "execution_count": null,
      "outputs": []
    },
    {
      "cell_type": "markdown",
      "metadata": {
        "id": "JBmolqx4hg3S",
        "colab_type": "text"
      },
      "source": [
        "**EX12**\n",
        "\n",
        "Write a function called `capitalize`. This function accepts a string and returns the same string with the first letter capitalized.  You may want to use slices to help you out"
      ]
    },
    {
      "cell_type": "code",
      "metadata": {
        "id": "AkgvS5oihqLS",
        "colab_type": "code",
        "colab": {}
      },
      "source": [
        ""
      ],
      "execution_count": null,
      "outputs": []
    },
    {
      "cell_type": "markdown",
      "metadata": {
        "id": "QQIaHkg_hqd6",
        "colab_type": "text"
      },
      "source": [
        "**EX13**\n",
        "\n",
        "Write a function called `compact`. This function accepts a list and returns a list of values that are truthy values, without any of the falsey values.\n",
        "\n",
        "`compact([0,1,2,\"\",[], False, {}, None, \"All done\"])`     # [1,2, \"All done\"]"
      ]
    },
    {
      "cell_type": "code",
      "metadata": {
        "id": "mvaL3Zz8hxPq",
        "colab_type": "code",
        "colab": {}
      },
      "source": [
        ""
      ],
      "execution_count": null,
      "outputs": []
    },
    {
      "cell_type": "markdown",
      "metadata": {
        "id": "n0HKZPYIhxjK",
        "colab_type": "text"
      },
      "source": [
        "**EX14**\n",
        "\n",
        "Write a function called `intersection`. This function should accept two lists and return a list with the values that are in both input lists.\n",
        "\n",
        "`intersection([1,2,3], [2,3,4])`    #[2,3]\n",
        "\n",
        "`intersection(['a','b','z'], ['x','y','z'])` .  # ['z']"
      ]
    },
    {
      "cell_type": "code",
      "metadata": {
        "id": "Qb44GSFxh4bc",
        "colab_type": "code",
        "colab": {}
      },
      "source": [
        ""
      ],
      "execution_count": null,
      "outputs": []
    },
    {
      "cell_type": "markdown",
      "metadata": {
        "id": "JBdmS-Vnh6Fi",
        "colab_type": "text"
      },
      "source": [
        "**EX15**\n",
        "\n",
        "Write a function called `partition`. This function accepts a list and a callback function (which you can assume returns True  or False  ). \n",
        "\n",
        "The function should iterate over each element in the list and invoke the callback function at each iteration. \n",
        "\n",
        "If the result of the callback function is True , the element should go into the first list (i.e. the \"truthy\" list).\n",
        "If the result of the callback function is False , the element should go into the second list (i.e. the \"falsy\" list).\n",
        "When it's finished, partition should return both lists inside of one larger list, like so:\n",
        "\n",
        "[truthy_list, falsy_list]\n",
        "\n",
        "`partition([1,2,3,4], isEven)` # [[2,4],[1,3]]"
      ]
    },
    {
      "cell_type": "code",
      "metadata": {
        "id": "9cu5np7ziN03",
        "colab_type": "code",
        "colab": {}
      },
      "source": [
        "def isEven(num):\n",
        "    return num % 2 == 0\n",
        "\n",
        "def partition():\n",
        "    pass"
      ],
      "execution_count": null,
      "outputs": []
    },
    {
      "cell_type": "markdown",
      "metadata": {
        "id": "vnIIa5lYiWJU",
        "colab_type": "text"
      },
      "source": [
        "# Functions II\n",
        "\n",
        "[Functions II](http://python.slides.com/colt/generators-and-decorators/fullscreen)"
      ]
    },
    {
      "cell_type": "code",
      "metadata": {
        "id": "2AvsMSb2iihM",
        "colab_type": "code",
        "colab": {}
      },
      "source": [
        ""
      ],
      "execution_count": null,
      "outputs": []
    },
    {
      "cell_type": "markdown",
      "metadata": {
        "id": "cqlPSxgGii6e",
        "colab_type": "text"
      },
      "source": [
        "# Section Exercices"
      ]
    },
    {
      "cell_type": "markdown",
      "metadata": {
        "id": "5bxOZM1timjt",
        "colab_type": "text"
      },
      "source": [
        "**EX1**\n",
        "\n",
        "Define a function `contains_purple`  that accepts any number of arguments.  It should return True  if any of the arguments are \"purple\" (all lowercase). Otherwise, it should return False .  For example:\n",
        "\n",
        "`contains_purple(25, \"purple\")`   #True\n",
        "\n",
        "`contains_purple(\"green\", False, 37, \"blue\", \"hello world\")`   #False\n",
        "\n",
        "`contains_purple(\"purple\")`   #True\n",
        "\n",
        "`contains_purple(\"a\", 99, \"blah blah blah\", 1, True, False, \"purple\")`   #True\n",
        "\n",
        "`contains_purple(1,2,3)`  #False"
      ]
    },
    {
      "cell_type": "code",
      "metadata": {
        "id": "gbkFYnFmi1eV",
        "colab_type": "code",
        "colab": {}
      },
      "source": [
        ""
      ],
      "execution_count": null,
      "outputs": []
    },
    {
      "cell_type": "markdown",
      "metadata": {
        "id": "rdeoDa_Ri1ve",
        "colab_type": "text"
      },
      "source": [
        "**EX2**\n",
        "\n",
        "Write a function called `combine_words`  which accepts a single string called word and any number of additional key word arguments.  If a prefix is provided, return the prefix followed by the word.  If a suffix is provided, return the word followed by the suffix.  If neither is provided, just return the word.  It might sound confusing, but the examples should make this a lot clearer!\n",
        "\n",
        "`combine_words(\"child\")`  #'child'\n",
        "\n",
        "`combine_words(\"child\", prefix=\"man\")`  #'manchild'\n",
        "\n",
        "`combine_words(\"child\", suffix=\"ish\") ` #'childish'\n",
        "\n",
        "`combine_words(\"work\", suffix=\"er\") ` #'worker'\n",
        "\n",
        "`combine_words(\"work\", prefix=\"home\") ` #'homework'"
      ]
    },
    {
      "cell_type": "code",
      "metadata": {
        "id": "YZ9mSYmLjASg",
        "colab_type": "code",
        "colab": {}
      },
      "source": [
        ""
      ],
      "execution_count": null,
      "outputs": []
    },
    {
      "cell_type": "markdown",
      "metadata": {
        "id": "eehmYO7tjBBO",
        "colab_type": "text"
      },
      "source": [
        "**EX3**\n",
        "\n",
        "This time I've defined a function for you. It's called `count_sevens` ,and you need to call it twice.  \n",
        "\n",
        "First, call it with the arguments 1,4, and 7 and save the result to a variable called result1.  \n",
        "Next, call the same `count_sevens` function, passing in all the numbers contained in the nums list as individual arguments (unpack the list).  Save the result to a variable called result2 ."
      ]
    },
    {
      "cell_type": "code",
      "metadata": {
        "id": "lsJ5IpwcjOd3",
        "colab_type": "code",
        "colab": {}
      },
      "source": [
        "def count_sevens(*args):\n",
        "    return args.count(7)\n",
        "\n",
        "nums = [90,1,35,67,89,20,3,1,2,3,4,5,6,9,34,46,57,68,79,12,23,34,55,1,90,54,34,76,8,23,34,45,56,67,78,12,23,34,45,56,67,768,23,4,5,6,7,8,9,12,34,14,15,16,17,11,7,11,8,4,6,2,5,8,7,10,12,13,14,15,7,8,7,7,345,23,34,45,56,67,1,7,3,6,7,2,3,4,5,6,7,8,9,8,7,6,5,4,2,1,2,3,4,5,6,7,8,9,0,9,8,7,8,7,6,5,4,3,2,1,7]\n",
        "\n",
        "# Write your code below:"
      ],
      "execution_count": null,
      "outputs": []
    },
    {
      "cell_type": "markdown",
      "metadata": {
        "id": "myAqPdsjjQwo",
        "colab_type": "text"
      },
      "source": [
        "**EX4**\n",
        "\n",
        "Oh boy, this is a complicated set of instructions.  Bear with me. Write a function called `calculate` that accepts a list of keyword arguments\n",
        "\n",
        "make_float , a boolean which returns a float if True or an integer if False.\n",
        "\n",
        "operation which is either 'add', 'subtract', 'multiply', and 'divide'. \n",
        "\n",
        "first which is a number, second , which is another number, and message which is a string that can be added.\n",
        "\n",
        "The function should return the result of actually running the specified operation with the first and second keyword arguments. The result of the operation with the first  and second  is an integer if the make_float  keyword argument is False , otherwise the result of the operation is a float. If a message is specified, it should return the message keyword argument + the result of the operation.  Otherwise, it should return the string  \"The result is \" joined with the result of the operation."
      ]
    },
    {
      "cell_type": "code",
      "metadata": {
        "id": "b1aCAC9pjaPo",
        "colab_type": "code",
        "colab": {}
      },
      "source": [
        ""
      ],
      "execution_count": null,
      "outputs": []
    },
    {
      "cell_type": "markdown",
      "metadata": {
        "id": "z6idQ1Icjam3",
        "colab_type": "text"
      },
      "source": [
        "**EX5**\n",
        "\n",
        "Write a lambda that accepts a single number and cubes it. Save it in a variable called cube .\n",
        "\n",
        "cube(2)  # 8\n",
        "\n",
        "cube(3)  # 27\n",
        "\n",
        "cube(8)  # 512"
      ]
    },
    {
      "cell_type": "code",
      "metadata": {
        "id": "l1nri2W7jttb",
        "colab_type": "code",
        "colab": {}
      },
      "source": [
        ""
      ],
      "execution_count": null,
      "outputs": []
    },
    {
      "cell_type": "markdown",
      "metadata": {
        "id": "ZHqOfIw6jt_v",
        "colab_type": "text"
      },
      "source": [
        "**EX6**\n",
        "\n",
        "Write a function called `decrement_list`  that accepts a single list of numbers as a parameter.  It should return a copy of the list where each item has been decremented by one. Use map to do this! For example:\n",
        "\n",
        "`decrement_list([1,2,3]) `  #[0,1,2]\n",
        "\n",
        "`decrement_list([20,14,11])`  #[19,13,10]\n",
        "\n",
        "Tips:\n",
        "\n",
        "Remember map doesn't return a list on its own.  decrement_list , however, should return a list.\n",
        "You can either pass map another name function or use a lambda.  A lambda is preferable, even if it is a little scary looking."
      ]
    },
    {
      "cell_type": "code",
      "metadata": {
        "id": "2NJiLoFyj4r3",
        "colab_type": "code",
        "colab": {}
      },
      "source": [
        ""
      ],
      "execution_count": null,
      "outputs": []
    },
    {
      "cell_type": "markdown",
      "metadata": {
        "id": "MfgWYKf4j49q",
        "colab_type": "text"
      },
      "source": [
        "**EX7**\n",
        "\n",
        "Write a function called `remove_negatives` that accepts a list of numbers and returns a copy of the lists with all negative numbers removed. Use filter() in your implementation, not a list comprehension!\n",
        "\n",
        "`remove_negatives([-1,3,4,-99])`     #[3,4]\n",
        "\n",
        "`remove_negatives([-7,0,1,2,3,4,5]) `     #[0, 1, 2, 3, 4, 5]\n",
        "\n",
        "`remove_negatives([50,60,70])`   #[50,60,70]\n",
        "\n",
        "HINTS\n",
        "\n",
        "Make sure you return a list!  Remember filter does not return a list! You have to convert the result to a list yourself.\n",
        "Note that 0 is not considered negative, so it should not be filtered out!"
      ]
    },
    {
      "cell_type": "code",
      "metadata": {
        "id": "aNTVQVrkkAff",
        "colab_type": "code",
        "colab": {}
      },
      "source": [
        ""
      ],
      "execution_count": null,
      "outputs": []
    },
    {
      "cell_type": "markdown",
      "metadata": {
        "id": "qQTk4-2BkAu-",
        "colab_type": "text"
      },
      "source": [
        "**EX8**\n",
        "\n",
        "Implement a function `is_all_strings`  that accepts a single iterable and returns True if it contains ONLY strings.  Otherwise, it should return false.  \n",
        "\n",
        "`is_all_strings(['a', 'b', 'c'])`  #True\n",
        "\n",
        "`is_all_strings([2,'a', 'b', 'c'])`  #False\n",
        "\n",
        "`is_all_strings(('hello', 'goodbye'))`  #True"
      ]
    },
    {
      "cell_type": "code",
      "metadata": {
        "id": "zV5AIgTipsY7",
        "colab_type": "code",
        "colab": {}
      },
      "source": [
        ""
      ],
      "execution_count": null,
      "outputs": []
    },
    {
      "cell_type": "markdown",
      "metadata": {
        "id": "Rg-9F92Gpsrz",
        "colab_type": "text"
      },
      "source": [
        "**EX9**\n",
        "\n",
        "Write a function called `extremes`  which accepts an iterable. It should return a tuple containing the minimum and maximum elements.  For example:\n",
        "\n",
        "`extremes([1,2,3,4,5])`  # (1, 5)\n",
        "\n",
        "`extremes((99,25,30,-7))`  # (-7, 99)\n",
        "\n",
        "`extremes(\"alcatraz\") ` #( 'a', 'z')"
      ]
    },
    {
      "cell_type": "code",
      "metadata": {
        "id": "LC-39S4pp2aw",
        "colab_type": "code",
        "colab": {}
      },
      "source": [
        ""
      ],
      "execution_count": null,
      "outputs": []
    },
    {
      "cell_type": "markdown",
      "metadata": {
        "id": "c2fmR48Fp2s4",
        "colab_type": "text"
      },
      "source": [
        "**EX10**\n",
        "\n",
        "Write a function `max_magnitude`  that accepts a single list full of numbers. It should return the magnitude of the number with the largest magnitude (the number that is furthest away from zero).\n",
        "\n",
        "`max_magnitude([300, 20, -900])`   #900\n",
        "\n",
        "`max_magnitude([10, 11, 12])`   #12\n",
        "\n",
        "`max_magnitude([-5, -1, -89])`   #89\n",
        "\n",
        "Hint: use max and abs!"
      ]
    },
    {
      "cell_type": "code",
      "metadata": {
        "id": "6-o3qpQSqV3h",
        "colab_type": "code",
        "colab": {}
      },
      "source": [
        ""
      ],
      "execution_count": null,
      "outputs": []
    },
    {
      "cell_type": "markdown",
      "metadata": {
        "id": "_7qL_wrAqWKI",
        "colab_type": "text"
      },
      "source": [
        "**EX11**\n",
        "\n",
        "Write a function called `sum_even_values`. This function should accept a variable number of arguments and return the sum of all the arguments that are divisible by 2. If there are no numbers divisible by 2, the function should return 0.  To be clear, it accepts all the numbers as individual arguments!\n",
        "\n",
        "`sum_even_values(1,2,3,4,5,6) `# 12\n",
        "`sum_even_values(4,2,1,10)` # 16\n",
        "`sum_even_values(1)` # 0"
      ]
    },
    {
      "cell_type": "code",
      "metadata": {
        "id": "-3vErSoLqddZ",
        "colab_type": "code",
        "colab": {}
      },
      "source": [
        ""
      ],
      "execution_count": null,
      "outputs": []
    },
    {
      "cell_type": "markdown",
      "metadata": {
        "id": "rdDs9_M4qdx0",
        "colab_type": "text"
      },
      "source": [
        "**EX12**\n",
        "\n",
        "Write a function `interleave`  that accepts two strings.  It should return a new string containing the 2 strings interwoven or zipped together. For example:\n",
        "\n",
        "`interleave('hi','ha')`    # 'hhia'\n",
        "\n",
        "`interleave('aaa', 'zzz')`  # 'azazaz'\n",
        "\n",
        "`interleave('lzr','iad')` #  'lizard'\n",
        "\n",
        "This might seem like an easy task using zip , but in fact there are a couple intermediate steps to go from zip  back to a single string.  If you need help, I've written up a basic walkthrough of the steps:\n",
        "\n",
        "suppose we call interleave('hi', 'no')  \n",
        "\n",
        "zip  the two strings together, giving you a list of tuples (once you convert from the default zip_object) -  [('h','n'), ('i','o')]  \n",
        "\n",
        "For each of the tuples in the list, join them together using \"\".join  resulting in ['hn', 'io']  - Easiest if you use a list comp.  You need to join EACH tuple.\n",
        "\n",
        "Finally, join the items in the list together using \"\".join  again resulting in 'hnio'  "
      ]
    },
    {
      "cell_type": "code",
      "metadata": {
        "id": "dnKVBWXJqn3K",
        "colab_type": "code",
        "colab": {}
      },
      "source": [
        ""
      ],
      "execution_count": null,
      "outputs": []
    },
    {
      "cell_type": "markdown",
      "metadata": {
        "id": "YVkAvtzrqoMM",
        "colab_type": "text"
      },
      "source": [
        "# Debugging\n",
        "\n",
        "[Debugging](http://python.slides.com/colt/lists-24/fullscreen)"
      ]
    },
    {
      "cell_type": "code",
      "metadata": {
        "id": "IzuVbnO9q33R",
        "colab_type": "code",
        "colab": {}
      },
      "source": [
        ""
      ],
      "execution_count": null,
      "outputs": []
    },
    {
      "cell_type": "markdown",
      "metadata": {
        "id": "_YjLrkseq4Oc",
        "colab_type": "text"
      },
      "source": [
        "# Section Exercices"
      ]
    },
    {
      "cell_type": "markdown",
      "metadata": {
        "id": "3AGJ_vKiq8zq",
        "colab_type": "text"
      },
      "source": [
        "**EX1**\n",
        "\n",
        "Write a function called `divide`, which accepts two parameters (you can call them num1 and num2). The function should return the result of num1 divided by num2. If you do not pass the correct type of arguments to the function, it should return the string \"Please provide two integers or floats\". If you pass as the second argument a 0, Python will raise a ZeroDivisionError, so if this function is invoked with a 0 as the value of num2, return the string \"Please do not divide by zero\"\n",
        "\n",
        "    # Examples\n",
        "    \n",
        "    # divide(4,2)  2\n",
        "    # divide([],\"1\")  \"Please provide two integers or floats\"\n",
        "    # divide(1,0)  \"Please do not divide by zero\""
      ]
    },
    {
      "cell_type": "code",
      "metadata": {
        "id": "raGN1ElerAoM",
        "colab_type": "code",
        "colab": {}
      },
      "source": [
        ""
      ],
      "execution_count": null,
      "outputs": []
    },
    {
      "cell_type": "markdown",
      "metadata": {
        "id": "hc0prXRerA4w",
        "colab_type": "text"
      },
      "source": [
        "# Modules\n",
        "\n",
        "\n",
        "[Modules](http://python.slides.com/colt/testing-25/fullscreen)\n"
      ]
    },
    {
      "cell_type": "code",
      "metadata": {
        "id": "1OmWXBNirLAB",
        "colab_type": "code",
        "colab": {}
      },
      "source": [
        ""
      ],
      "execution_count": null,
      "outputs": []
    },
    {
      "cell_type": "markdown",
      "metadata": {
        "id": "1Afk9EQdrLTx",
        "colab_type": "text"
      },
      "source": [
        "**EX1**\n",
        "\n",
        "Define a function called `contains_keyword`  that accepts any number of string arguments.  It should return True  if any of the arguments are considered Python keywords (things like \"def\", \"return\", \"if\", etc.)  Otherwise it should return False.   Python has a built-in module called keyword  that contains a method called iskeyword .  Import keyword  and then use keyword.iskeyword  in you own function to determine if a given string is a keyword.\n",
        "\n",
        "`contains_keyword(\"hello\", \"goodbye\")`  #False"
      ]
    },
    {
      "cell_type": "code",
      "metadata": {
        "id": "-OZJ3ZtQrcJZ",
        "colab_type": "code",
        "colab": {}
      },
      "source": [
        ""
      ],
      "execution_count": null,
      "outputs": []
    },
    {
      "cell_type": "markdown",
      "metadata": {
        "id": "XTF7X9r_rceR",
        "colab_type": "text"
      },
      "source": [
        "# OOP\n",
        "\n",
        "[OOP](http://python.slides.com/colt/lists-18/fullscreen)"
      ]
    },
    {
      "cell_type": "code",
      "metadata": {
        "id": "aS_JfPedrtZR",
        "colab_type": "code",
        "colab": {}
      },
      "source": [
        "#Properties in classes : @property @age.setter"
      ],
      "execution_count": null,
      "outputs": []
    },
    {
      "cell_type": "markdown",
      "metadata": {
        "id": "F0PKSCW6rt9t",
        "colab_type": "text"
      },
      "source": [
        "# Section Exercices"
      ]
    },
    {
      "cell_type": "markdown",
      "metadata": {
        "id": "PzsRc8ZZrySr",
        "colab_type": "text"
      },
      "source": [
        "**EX1**\n",
        "\n",
        "Define a class called `Vehicle`.  It should be completely empty (just add a pass  statement inside) .  After the class is defined, create two instances of Vehicle.  Save one to a variable called car  and another to a variable called boat ."
      ]
    },
    {
      "cell_type": "code",
      "metadata": {
        "id": "xAZpscALsEaD",
        "colab_type": "code",
        "colab": {}
      },
      "source": [
        ""
      ],
      "execution_count": null,
      "outputs": []
    },
    {
      "cell_type": "markdown",
      "metadata": {
        "id": "N9LDm9UVsEyB",
        "colab_type": "text"
      },
      "source": [
        "**EX2**\n",
        "\n",
        "It's time to define your own class! Suppose we're creating a social network application where users can comment on posts and photos.\n",
        "\n",
        "Create a class called Comment .  Each comment should have the following attributes:\n",
        "\n",
        "username  - the username of the person who created the comment (like \"bluethecat\")\n",
        "\n",
        "text  - the actual comment itself (like \"omg so cute!\" or \"hahah\")\n",
        "\n",
        "likes  - the number of likes the comment has.  Likes should default to 0.\n",
        "The following code should work:\n",
        "\n",
        "c = Comment(\"davey123\", \"lol you're so silly\", 3) \n",
        "\n",
        "c. username       #\"davey123\"\n",
        "\n",
        "c. text           #\"lol you're so silly\"\n",
        "\n",
        "c.likes           #3\n",
        "\n",
        "another_comment = Comment(\"rosa77\", \"soooo cute!!!\") \n",
        "\n",
        "another_comment.username        #\"rosa77\"\n",
        "\n",
        "another_comment.text            #\"soooo cute!!!\"\n",
        "\n",
        "another_comment.likes           #0 \n",
        "\n",
        "Hints:\n",
        "\n",
        "__init__ is like any other function.  To add a default value for a parameter, just use the equals sign =.  Remember that your default parameters need to come at the end!"
      ]
    },
    {
      "cell_type": "code",
      "metadata": {
        "id": "EzNncxQasRG5",
        "colab_type": "code",
        "colab": {}
      },
      "source": [
        ""
      ],
      "execution_count": null,
      "outputs": []
    },
    {
      "cell_type": "markdown",
      "metadata": {
        "id": "CTEKydhPsRcS",
        "colab_type": "text"
      },
      "source": [
        "**EX3**\n",
        "\n",
        "Define a new class called `BankAccount`.  \n",
        "\n",
        "Each BankAccount should have an owner , specified when a new BankAccount is created like BankAccount(\"Charlie\") \n",
        "Each BankAccount should have a balance attribute  that always starts out as 0.0 \n",
        "Each instance should have a deposit method that accepts a number and adds it to the balance. It should return the new balance.\n",
        "Each instance should have a withdraw method that accepts a number and subtracts it from the balance. It should return the new balance.\n",
        "\n",
        "acct = BankAccount(\"Darcy\")\n",
        "\n",
        "acct.owner #Darcy\n",
        "\n",
        "acct.balance #0.0\n",
        "\n",
        "acct.deposit(10)  #10.0\n",
        "\n",
        "acct.withdraw(3)  #7.0\n",
        "\n",
        "acct.balance .  #7.0"
      ]
    },
    {
      "cell_type": "code",
      "metadata": {
        "id": "e3fqoJ52sYVS",
        "colab_type": "code",
        "colab": {}
      },
      "source": [
        ""
      ],
      "execution_count": null,
      "outputs": []
    },
    {
      "cell_type": "markdown",
      "metadata": {
        "id": "rdhveFDfsYoC",
        "colab_type": "text"
      },
      "source": [
        "**EX4**\n",
        "\n",
        "Suppose we have a big ol chicken coop in our backyard full of very productive hens. We're going to model our chickens with python! We want to keep track of how many eggs each individual Chicken lays, and at the same time we want to track the total number of eggs all hens have laid. \n",
        "\n",
        " Create a Chicken  class.  Each Chicken has a species  and a name , as well as an integer attribute called eggs . eggs should always start out at 0. \n",
        "\n",
        "Each Chicken should also have an instance method called lay_egg() which should increment and then return that particular Chicken's eggs  attribute. lay_egg()  should also increment a class variable called total_eggs\n",
        "\n",
        "c1 = Chicken(name=\"Alice\", species=\"Partridge Silkie\")\n",
        "\n",
        "c2 = Chicken(name=\"Amelia\", species=\"Speckled Sussex\")\n",
        "\n",
        "Chicken.total_eggs #0\n",
        "\n",
        "c1.lay_egg()  #1\n",
        "\n",
        "Chicken.total_eggs #1\n",
        "\n",
        "c2.lay_egg()  #1\n",
        "\n",
        "c2.lay_egg()  #2\n",
        "\n",
        "Chicken.total_eggs #3"
      ]
    },
    {
      "cell_type": "code",
      "metadata": {
        "id": "13TQrOb3seWK",
        "colab_type": "code",
        "colab": {}
      },
      "source": [
        ""
      ],
      "execution_count": null,
      "outputs": []
    },
    {
      "cell_type": "markdown",
      "metadata": {
        "id": "JJEBCNhdsepz",
        "colab_type": "text"
      },
      "source": [
        "**Deck Of Cards**\n",
        "\n",
        "Your goal in this exercise is to implement two classes, Card and Deck.\n",
        "\n",
        "Specifications\n",
        "\n",
        "Card\n",
        "\n",
        "Each instance of Card should have a suit (\"Hearts\", \"Diamonds\", \"Clubs\", or \"Spades\").\n",
        "\n",
        "Each instance of Card should have a value (\"A\", \"2\", \"3\", \"4\", \"5\", \"6\", \"7\", \"8\", \"9\", \"10\", \"J\", \"Q\", \"K\").\n",
        "\n",
        "Card's __repr__ method should return the card's value and suit (e.g. \"A of Clubs\", \"J of Diamonds\", etc.)\n",
        "\n",
        "Deck\n",
        "\n",
        "Each instance of Deck should have a cards attribute with all 52 possible instances of Card.\n",
        "\n",
        "Deck should have an instance method called count which returns a count of how many cards remain in the deck.\n",
        "\n",
        "Deck's __repr__ method should return information on how many cards are in the deck (e.g. \"Deck of 52 cards\", \"Deck of 12 cards\", etc.)\n",
        "\n",
        "Deck should have an instance method called _deal which accepts a number and removes at most that many cards from the end of the deck (it may need to remove fewer if you request more cards than are currently in the deck!). If there are no cards left, this method should raise a ValueError with the message \"All cards have been dealt\".\n",
        "\n",
        "Deck should have an instance method called shuffle which will shuffle a full deck of cards. If there are cards missing from the deck, this method should raise a ValueError with the message \"Only full decks can be shuffled\".  Shuffle should return the shuffled deck.\n",
        "\n",
        "Deck should have an instance method called deal_card which uses the _deal method to deal a single card from the deck and return that single card.\n",
        "\n",
        "Deck should have an instance method called deal_hand which accepts a number and uses the _deal method to deal a list of cards from the deck and return that list of cards."
      ]
    },
    {
      "cell_type": "code",
      "metadata": {
        "id": "5I5Ok_4ls887",
        "colab_type": "code",
        "colab": {}
      },
      "source": [
        "from random import shuffle\n",
        "# Each instance of Card  should have a suit (\"Hearts\", \"Diamonds\", \"Clubs\", or \"Spades\").\n",
        "# Each instance of Card  should have a value (\"A\", \"2\", \"3\", \"4\", \"5\", \"6\", \"7\", \"8\", \"9\", \"10\", \"J\", \"Q\", \"K\").\n",
        "# Card 's __repr__  method should display the card's value and suit (e.g. \"A of Clubs\", \"J of Diamonds\", etc.)\n",
        "\n",
        "\n",
        "class Card:\n",
        "\tdef __init__(self, value, suit):\n",
        "\t\tself.value = value\n",
        "\t\tself.suit = suit\n",
        "\n",
        "\tdef __repr__(self):\n",
        "\t\t# return \"{} of {}\".format(self.value, self.suit)\n",
        "\t\treturn f\"{self.value} of {self.suit}\"\n",
        "\n",
        "# Each instance of Deck  should have a cards attribute with all 52 possible instances of Card .\n",
        "# Deck  should have an instance method called count  which returns a count of how many cards remain in the deck.\n",
        "# Deck 's __repr__  method should display information on how many cards are in the deck (e.g. \"Deck of 52 cards\", \"Deck of 12 cards\", etc.)\n",
        "# Deck  should have an instance method called _deal  which accepts a number and removes at most that many cards from the deck (it may need to remove fewer if you request more cards than are currently in the deck!). If there are no cards left, this method should return a ValueError  with the message \"All cards have been dealt\".\n",
        "# Deck  should have an instance method called shuffle  which will shuffle a full deck of cards. If there are cards missing from the deck, this method should return a ValueError  with the message \"Only full decks can be shuffled\".\n",
        "# Deck  should have an instance method called deal_card  which uses the _deal  method to deal a single card from the deck.\n",
        "# Deck  should have an instance method called deal_hand  which accepts a number and uses the _deal  method to deal a list of cards from the deck.\n",
        "\n",
        "class Deck:\n",
        "\tdef __init__(self):\n",
        "\t\tsuits = [\"Hearts\", \"Diamonds\", \"Clubs\", \"Spades\"]\n",
        "\t\tvalues = ['A','2','3','4','5','6','7','8','9','10','J','Q','K']\n",
        "\t\tself.cards = [Card(value, suit) for suit in suits for value in values]\n",
        "\n",
        "\tdef __repr__(self):\n",
        "\t\treturn f\"Deck of {self.count()} cards\"\n",
        "\n",
        "\tdef count(self):\n",
        "\t\treturn len(self.cards)\n",
        "\n",
        "\tdef _deal(self, num):\n",
        "\t\tcount = self.count()\n",
        "\t\tactual = min([count,num])\n",
        "\t\tif count == 0:\n",
        "\t\t\traise ValueError(\"All cards have been dealt\")\n",
        "\t\tcards = self.cards[-actual:]\n",
        "\t\tself.cards = self.cards[:-actual]\n",
        "\t\treturn cards\n",
        "\n",
        "\tdef deal_card(self):\n",
        "\t\treturn self._deal(1)[0]\n",
        "\n",
        "\tdef deal_hand(self, hand_size):\n",
        "\t\treturn self._deal(hand_size)\n",
        "\n",
        "\tdef shuffle(self):\n",
        "\t\tif self.count() < 52:\n",
        "\t\t\traise ValueError(\"Only full decks can be shuffled\")\n",
        "\n",
        "\t\tshuffle(self.cards)\n",
        "\t\treturn self\n",
        "\n",
        "\n",
        "d = Deck()\n",
        "d.shuffle()\n",
        "card = d.deal_card()\n",
        "print(card)\n",
        "hand = d.deal_hand(50)\n",
        "card2 = d.deal_card()\n",
        "print(card2)\n",
        "print(d.cards)\n",
        "card2 = d.deal_card()\n",
        "\n",
        "# print(d.cards)"
      ],
      "execution_count": null,
      "outputs": []
    },
    {
      "cell_type": "markdown",
      "metadata": {
        "id": "HXjkOwhltILa",
        "colab_type": "text"
      },
      "source": [
        "**EX5**\n",
        "\n",
        "Let's pretend we're building an RPG (roleplaying game) in Python. Side note: check out these games actually built in Python!\n",
        "\n",
        "1. Define a base class \"Character\" that has the following properties:\n",
        "name  - String\n",
        "hp  - an Integer value representing health (aka hitpoints)\n",
        "level  - an integer value representing experience level\n",
        "\n",
        "2. Define a subclass \"NPC\" (which stands for Non-Player Character) that inherits from Character , and has an additional instance method called speak  which prints the speech that character would say when a player interacts with them. \n",
        "\n",
        "Example:\n",
        "\n",
        "villager = NPC(\"Bob\", 100, 12)\n",
        "villager.name  # Bob\n",
        "villager.hp  # 100\n",
        "villager.level  # 12\n",
        "villager.speak()  # \"I heard there were monsters running around last night!\"."
      ]
    },
    {
      "cell_type": "code",
      "metadata": {
        "id": "qr3ZxorJtXii",
        "colab_type": "code",
        "colab": {}
      },
      "source": [
        ""
      ],
      "execution_count": null,
      "outputs": []
    },
    {
      "cell_type": "markdown",
      "metadata": {
        "id": "v1VlONyutX2J",
        "colab_type": "text"
      },
      "source": [
        "**EX6**\n",
        "\n",
        "Imagine a family where all the kids look exactly like one parent, maybe that parent has more \"dominant\" genetic traits than the other parent.\n",
        "\n",
        "Create three classes, Mother , Father , and Child .\n",
        "\n",
        "Let Mother have the \"dominant\" traits:\n",
        "\n",
        "eye_color = \"brown\"\n",
        "hair_color = \"dark brown\"\n",
        "hair_type = \"curly\"\n",
        "Let Father  have \"recessive\" traits:\n",
        "\n",
        "eye_color = \"blue\"\n",
        "hair_color = \"blond\"\n",
        "hair_type = \"straight\"\n",
        "\n",
        "\n",
        "Now define Child  to have the same attributes, eye_color , hair_color , and hair_type , but don't set them on the class.  Instead, let Child's Method Resolution Order be such that Child inherits from Mother  first, then Father ."
      ]
    },
    {
      "cell_type": "code",
      "metadata": {
        "id": "WTeFmxbdtc16",
        "colab_type": "code",
        "colab": {}
      },
      "source": [
        ""
      ],
      "execution_count": null,
      "outputs": []
    },
    {
      "cell_type": "markdown",
      "metadata": {
        "id": "64jjfyaitdPs",
        "colab_type": "text"
      },
      "source": [
        "**EX7**\n",
        "\n",
        "Create a class Train  that has one attribute: num_cars  which is specified when the train is instantiated.\n",
        "\n",
        "There should also be two special-magic-dunder methods on it:\n",
        "\n",
        "One method that describes the train when we call print  on it by saying \"x car train\" where x is the number of cars (see example below)\n",
        "One method that denotes the length of the train when we call len  on it\n",
        "Example:\n",
        "\n",
        "a_train = Train(4)\n",
        "\n",
        "print(a_train)  # 4 car train\n",
        "\n",
        "len(a_train)  # 4"
      ]
    },
    {
      "cell_type": "code",
      "metadata": {
        "id": "ZQbvVMxKto0L",
        "colab_type": "code",
        "colab": {}
      },
      "source": [
        ""
      ],
      "execution_count": null,
      "outputs": []
    },
    {
      "cell_type": "markdown",
      "metadata": {
        "id": "eUGRolJntpT6",
        "colab_type": "text"
      },
      "source": [
        "# Generators and Decorators\n",
        "\n",
        "[Gen](http://python.slides.com/colt/lists-14/fullscreen)"
      ]
    },
    {
      "cell_type": "code",
      "metadata": {
        "id": "WW8bQtrQt2GC",
        "colab_type": "code",
        "colab": {}
      },
      "source": [
        ""
      ],
      "execution_count": null,
      "outputs": []
    },
    {
      "cell_type": "markdown",
      "metadata": {
        "id": "4FhIHC_pt_vi",
        "colab_type": "text"
      },
      "source": [
        "# Section Exercices"
      ]
    },
    {
      "cell_type": "markdown",
      "metadata": {
        "id": "NAO58ZCAuCtR",
        "colab_type": "text"
      },
      "source": [
        "**EX1**\n",
        "\n",
        "Write a function called make_song, which takes a count and a beverage, and returns a generator that yields verses from a popular song about a the beverage. The number of verses in the song is determined by the count. \n",
        "\n",
        "Each verse of the song should involve one fewer beverage, until there are no beverages remaining. (Check the examples for details on the structure of the lyrics.)\n",
        "\n",
        "The default count should be 99, and the default beverage should be soda.\n"
      ]
    },
    {
      "cell_type": "code",
      "metadata": {
        "id": "X3R6QoyiuRgm",
        "colab_type": "code",
        "colab": {}
      },
      "source": [
        "'''\n",
        "kombucha_song = make_song(5, \"kombucha\")\n",
        "next(kombucha_song) # '5 bottles of kombucha on the wall.'\n",
        "next(kombucha_song) # '4 bottles of kombucha on the wall.'\n",
        "next(kombucha_song) # '3 bottles of kombucha on the wall.'\n",
        "next(kombucha_song) # '2 bottles of kombucha on the wall.'\n",
        "next(kombucha_song) # 'Only 1 bottle of kombucha left!'\n",
        "next(kombucha_song) # 'No more kombucha!'\n",
        "next(kombucha_song) # StopIteration\n",
        "\n",
        "default_song = make_song()\n",
        "next(default_song) # '99 bottles of soda on the wall.\n",
        "'''\n",
        "\n",
        "def make_song():\n",
        "    pass"
      ],
      "execution_count": null,
      "outputs": []
    },
    {
      "cell_type": "markdown",
      "metadata": {
        "id": "L_qiA9RGuYSi",
        "colab_type": "text"
      },
      "source": [
        "**EX2**\n",
        "\n",
        "Write a function called `get_multiples`, which accepts a number and a count, and returns a generator that yields the first count multiples of the number. \n",
        "\n",
        "The default number should be 1, and the default count should be 10."
      ]
    },
    {
      "cell_type": "code",
      "metadata": {
        "id": "CSAgKUfJuc9C",
        "colab_type": "code",
        "colab": {}
      },
      "source": [
        "'''\n",
        "evens = get_multiples(2, 3)\n",
        "next(evens) # 2\n",
        "next(evens) # 4\n",
        "next(evens) # 6\n",
        "next(evens) # StopIteration\n",
        "\n",
        "default_multiples = get_multiples()\n",
        "list(default_multiples) # [1, 2, 3, 4, 5, 6, 7, 8, 9, 10]\n",
        "'''\n",
        "\n",
        "def get_multiples():\n",
        "    pass"
      ],
      "execution_count": null,
      "outputs": []
    },
    {
      "cell_type": "markdown",
      "metadata": {
        "id": "Y_KMsYudufpC",
        "colab_type": "text"
      },
      "source": [
        "**EX3**\n",
        "\n",
        "Write a function called get_unlimited_multiples, which accepts a number and returns a generator that will yield an unlimited number of multiples of that number.\n",
        "\n",
        "The default number should be 1."
      ]
    },
    {
      "cell_type": "code",
      "metadata": {
        "id": "UkXHJRzeukUc",
        "colab_type": "code",
        "colab": {}
      },
      "source": [
        "'''\n",
        "sevens = get_unlimited_multiples(7)\n",
        "[next(sevens) for i in range(15)] \n",
        "# [7, 14, 21, 28, 35, 42, 49, 56, 63, 70, 77, 84, 91, 98, 105]\n",
        "\n",
        "ones = get_unlimited_multiples()\n",
        "[next(ones) for i in range(20)]\n",
        "# [1, 2, 3, 4, 5, 6, 7, 8, 9, 10, 11, 12, 13, 14, 15, 16, 17, 18, 19, 20]\n",
        "'''\n",
        "\n",
        "def get_unlimited_multiples():\n",
        "    pass"
      ],
      "execution_count": null,
      "outputs": []
    },
    {
      "cell_type": "markdown",
      "metadata": {
        "id": "6om_Y55JukmS",
        "colab_type": "text"
      },
      "source": [
        "**EX4**\n",
        "\n",
        "Write a function called `show_args` which accepts a function and returns another function. Before invoking the function passed to it, show_args should be responsible for printing two things: a tuple of the positional arguments, and a dictionary of the keyword arguments. "
      ]
    },
    {
      "cell_type": "code",
      "metadata": {
        "id": "A1WYbxaZuwmk",
        "colab_type": "code",
        "colab": {}
      },
      "source": [
        "\n",
        "'''\n",
        "@show_args\n",
        "def do_nothing(*args, **kwargs):\n",
        "    pass\n",
        "\n",
        "do_nothing(1, 2, 3,a=\"hi\",b=\"bye\")\n",
        "\n",
        "# Should print (on two lines):\n",
        "# Here are the args: (1, 2, 3)\n",
        "# Here are the kwargs: {\"a\": \"hi\", \"b\": \"bye\"}\n",
        "'''\n",
        "\n",
        "from functools import wraps\n",
        "\n",
        "\n",
        "def show_args():\n",
        "    pass"
      ],
      "execution_count": null,
      "outputs": []
    },
    {
      "cell_type": "markdown",
      "metadata": {
        "id": "zfGyQlUMuyXD",
        "colab_type": "text"
      },
      "source": [
        "**EX5**\n",
        "\n",
        "Write a function called `double_return` which accepts a function and returns another function. double_return should decorate a function by returning two copies of the inner function's return value inside of a list."
      ]
    },
    {
      "cell_type": "code",
      "metadata": {
        "id": "VvbhCrILu2MT",
        "colab_type": "code",
        "colab": {}
      },
      "source": [
        "'''\n",
        "@double_return \n",
        "def add(x, y):\n",
        "    return x + y\n",
        "    \n",
        "add(1, 2) # [3, 3]\n",
        "\n",
        "@double_return\n",
        "def greet(name):\n",
        "    return \"Hi, I'm \" + name\n",
        "\n",
        "greet(\"Colt\") # [\"Hi, I'm Colt\", \"Hi, I'm Colt\"]\n",
        "'''\n",
        "\n",
        "def double_return():\n",
        "    pass"
      ],
      "execution_count": null,
      "outputs": []
    },
    {
      "cell_type": "markdown",
      "metadata": {
        "id": "9TxhtBJpu3_a",
        "colab_type": "text"
      },
      "source": [
        "**EX5**\n",
        "\n",
        "Write a function called `ensure_fewer_than_three_args` which accepts a function and returns another function. The function passed to it should only be invoked if there are fewer than three positional arguments passed to it. Otherwise, the inner function should return \"Too many arguments!\""
      ]
    },
    {
      "cell_type": "code",
      "metadata": {
        "id": "GKtqbEWMvDDT",
        "colab_type": "code",
        "colab": {}
      },
      "source": [
        "'''\n",
        "@ensure_fewer_than_three_args\n",
        "def add_all(*nums):\n",
        "    return sum(nums)\n",
        "\n",
        "add_all() # 0\n",
        "add_all(1) # 1\n",
        "add_all(1,2) # 3\n",
        "add_all(1,2,3) # \"Too many arguments!\"\n",
        "add_all(1,2,3,4,5,6) # \"Too many arguments!\"\n",
        "'''\n",
        "\n",
        "from functools import wraps\n",
        "\n",
        "def ensure_fewer_than_three_args():\n",
        "    pass"
      ],
      "execution_count": null,
      "outputs": []
    },
    {
      "cell_type": "markdown",
      "metadata": {
        "id": "0Kgla_dSvEx0",
        "colab_type": "text"
      },
      "source": [
        "**EX6**\n",
        "\n",
        "Write a function called `ensure_authorized` which accepts a function and returns another function. The function passed to it should only be invoked if there exists a keyword argument with a name of \"role\" and a value of \"admin\". Otherwise, the inner function should return \"Unauthorized\""
      ]
    },
    {
      "cell_type": "code",
      "metadata": {
        "id": "WZdgY9mnvUoL",
        "colab_type": "code",
        "colab": {}
      },
      "source": [
        "'''\n",
        "@ensure_authorized\n",
        "def show_secrets(*args, **kwargs):\n",
        "    return \"Shh! Don't tell anybody!\"\n",
        "\n",
        "show_secrets(role=\"admin\") # \"Shh! Don't tell anybody!\"\n",
        "show_secrets(role=\"nobody\") # \"Unauthorized\"\n",
        "show_secrets(a=\"b\") # \"Unauthorized\"\n",
        "'''\n",
        "\n",
        "from functools import wraps\n",
        "\n",
        "def ensure_authorized():\n",
        "    pass"
      ],
      "execution_count": null,
      "outputs": []
    }
  ]
}