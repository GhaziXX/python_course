{
  "nbformat": 4,
  "nbformat_minor": 0,
  "metadata": {
    "colab": {
      "name": "Solo_Version.ipynb",
      "provenance": [],
      "collapsed_sections": [],
      "authorship_tag": "ABX9TyMoZDSpNEV6dzpwqFANhjUG",
      "include_colab_link": true
    },
    "kernelspec": {
      "name": "python3",
      "display_name": "Python 3"
    }
  },
  "cells": [
    {
      "cell_type": "markdown",
      "metadata": {
        "id": "view-in-github",
        "colab_type": "text"
      },
      "source": [
        "<a href=\"https://colab.research.google.com/github/GhaziXX/python_course/blob/master/Solo_Version.ipynb\" target=\"_parent\"><img src=\"https://colab.research.google.com/assets/colab-badge.svg\" alt=\"Open In Colab\"/></a>"
      ]
    },
    {
      "cell_type": "markdown",
      "metadata": {
        "id": "vEOChkp6iRHl",
        "colab_type": "text"
      },
      "source": [
        "                      \n",
        "#Numbers And Math\n",
        "\n",
        "[Number and Math](http://python.slides.com/colt/oop-21/fullscreen)"
      ]
    },
    {
      "cell_type": "code",
      "metadata": {
        "id": "JnIDBBXbWt-g",
        "colab_type": "code",
        "colab": {}
      },
      "source": [
        ""
      ],
      "execution_count": null,
      "outputs": []
    },
    {
      "cell_type": "markdown",
      "metadata": {
        "id": "YDLjY5n6tnBj",
        "colab_type": "text"
      },
      "source": [
        "# Boolean and Conditional Logic\n",
        "\n",
        "[Boolean and Conditional Logic](http://python.slides.com/colt/variables-and-data-types/fullscreen)"
      ]
    },
    {
      "cell_type": "code",
      "metadata": {
        "id": "tNNOmUqPt6Uz",
        "colab_type": "code",
        "colab": {}
      },
      "source": [
        ""
      ],
      "execution_count": null,
      "outputs": []
    },
    {
      "cell_type": "markdown",
      "metadata": {
        "id": "KaZBdE3cuKwT",
        "colab_type": "text"
      },
      "source": [
        "# Section Exercices"
      ]
    },
    {
      "cell_type": "markdown",
      "metadata": {
        "id": "Zo8xZijqvB7D",
        "colab_type": "text"
      },
      "source": [
        "\n",
        "**EX1**\n",
        "\n",
        "At the top of the file is some starter code that randomly picks a number between 1 and 10, and saves it to a variable called `choice`.  Don't touch those lines!\n",
        "Your job is to write a simple conditional to check if `choice` is 7. if `choice` is 7, print out 'lucky'. Otherwise, print out 'unlucky'\n",
        "\n",
        "\n",
        "\n"
      ]
    },
    {
      "cell_type": "code",
      "metadata": {
        "id": "eJvSjxhywhHF",
        "colab_type": "code",
        "colab": {}
      },
      "source": [
        "from random import randint\n",
        "choice = randint(1,10)\n",
        "\n",
        "#Your Code Here"
      ],
      "execution_count": null,
      "outputs": []
    },
    {
      "cell_type": "markdown",
      "metadata": {
        "id": "igibL11Lwehc",
        "colab_type": "text"
      },
      "source": [
        "**EX2**\n",
        "\n",
        "You will be provided with a random number in a variable called `num`.\n",
        "Use a conditional statement to check if the number is odd. If `num` is odd, print \"odd\". Otherwise print \"even\"."
      ]
    },
    {
      "cell_type": "code",
      "metadata": {
        "id": "YzduasQUw_kt",
        "colab_type": "code",
        "colab": {}
      },
      "source": [
        "from random import randint\n",
        "num = randint(1, 1000)\n",
        "\n",
        "#Your Code Here"
      ],
      "execution_count": null,
      "outputs": []
    },
    {
      "cell_type": "markdown",
      "metadata": {
        "id": "LpR25tXbxFJz",
        "colab_type": "text"
      },
      "source": [
        "**EX3**\n",
        "\n",
        "the code written does is randomly set the `food` variable to either 'apple','grape', 'bacon', 'steak', 'worm', or 'dirt'.\n",
        "\n",
        "When you run the prewritten code, `food` will be randomly assigned. You task is to write code that will classify what food is.  \n",
        "\n",
        "If `food` is set to either 'apple' or 'grape', your code should print 'fruit'.\n",
        "If `food` is set to either 'bacon' or 'steak', your code should print 'meat'\n",
        "If `food` is set to either 'dirt' or 'worm' your code should print 'yuck'"
      ]
    },
    {
      "cell_type": "code",
      "metadata": {
        "id": "Jd-V3kr_xf0V",
        "colab_type": "code",
        "colab": {}
      },
      "source": [
        "from random import choice\n",
        "food = choice(['apple','grape', 'bacon', 'steak', 'worm', 'dirt'])\n",
        "\n",
        "#Your Code Here"
      ],
      "execution_count": null,
      "outputs": []
    },
    {
      "cell_type": "markdown",
      "metadata": {
        "id": "LqV1fLxMxitT",
        "colab_type": "text"
      },
      "source": [
        "**EX4**\n",
        "\n",
        "In this exercise `x` and `y`  are two random variables.  The code at the top of the file randomly assigns them (we'll learn how it works later on).  For now, just leave it alone :)\n",
        "\n",
        "If both are positive numbers, print \"both positive\". \n",
        "If both are negative, print \"both negative\". \n",
        "Otherwise, tell us which one is positive and which one is negative, e.g. \"`x` is positive and `y` is negative\"\n"
      ]
    },
    {
      "cell_type": "code",
      "metadata": {
        "id": "7I1bAY3FxyTL",
        "colab_type": "code",
        "colab": {}
      },
      "source": [
        ""
      ],
      "execution_count": null,
      "outputs": []
    },
    {
      "cell_type": "markdown",
      "metadata": {
        "id": "nXLpeUskxy8j",
        "colab_type": "text"
      },
      "source": [
        "**EX5**\n",
        "\n",
        "In this exercise you will be given a few variables that will be set randomly to Boolean values (True  or False ):\n",
        "\n",
        "`actually_sick` - when you legit have the flu!\n",
        "`kinda_sick` - you're feeling under the weather and it's enough to treat yoself with a day off if you can spare it\n",
        "`hate_your_job`  - work sucks, I know... \n",
        "You're also given a random number of `sick_days` between 0 and 10.\n",
        "\n",
        "Finally, there is a variable called `calling_in_sick`  that you must set to True  or False  based on the following scenarios:\n",
        "\n",
        "Set to True if: \n",
        "\n",
        "you're `actually_sick`  and you have `sick_days`  remaining\n",
        "you're `kinda_sick`  and `hate_your_job`  and you have `sick_days`  remaining\n",
        "Otherwise, set to False.\n"
      ]
    },
    {
      "cell_type": "code",
      "metadata": {
        "id": "UieTFd52yLED",
        "colab_type": "code",
        "colab": {}
      },
      "source": [
        "from random import choice, randint\n",
        "\n",
        "actually_sick = choice([True, False])\n",
        "kinda_sick = choice([True, False])\n",
        "hate_your_job = choice([True, False])\n",
        "sick_days = randint(0, 10)\n",
        "\n",
        "calling_in_sick = None\n",
        "\n",
        "#Your Code Here"
      ],
      "execution_count": null,
      "outputs": []
    },
    {
      "cell_type": "markdown",
      "metadata": {
        "id": "OAr8kRRzy93j",
        "colab_type": "text"
      },
      "source": [
        "**Rocks Paper Scissors**"
      ]
    },
    {
      "cell_type": "code",
      "metadata": {
        "id": "37AJ1zdMzOHb",
        "colab_type": "code",
        "colab": {}
      },
      "source": [
        "#Version 1\n",
        "print(\"Rock...\")\n",
        "print(\"Paper...\")\n",
        "print(\"Scissors...\")\n",
        "\n",
        "player1 = input(\"Player 1, make your move: \")\n",
        "player2 = input(\"Player 2, make your move: \")\n",
        "\n",
        "\n",
        "if player1 == \"rock\" and player2 == \"scissors\":\n",
        "\tprint(\"player1 wins!\")\n",
        "elif player1 == \"rock\" and player2 == \"paper\":\n",
        "\tprint(\"player2 wins!\")\n",
        "elif player1 == \"paper\" and player2 == \"rock\":\n",
        "\tprint(\"player1 wins!\")\n",
        "elif player1 == \"paper\" and player2 == \"scissors\":\n",
        "\tprint(\"player2 wins!\")\n",
        "elif player1 == \"scissors\" and player2 == \"rock\":\n",
        "\tprint(\"player2 wins!\")\n",
        "elif player1 == \"scissors\" and player2 == \"paper\":\n",
        "\tprint(\"player1 wins!\")\n",
        "elif player1 == player2:\n",
        "\tprint(\"It's a tie!\")\n",
        "else:\n",
        "\tprint(\"something went wrong\")"
      ],
      "execution_count": null,
      "outputs": []
    },
    {
      "cell_type": "code",
      "metadata": {
        "id": "XuzeV_0CzS8c",
        "colab_type": "code",
        "colab": {}
      },
      "source": [
        "#Version 2\n",
        "from random import randint\n",
        "\n",
        "player = input(\"Player, make your move: \").lower()\n",
        "rand_num = randint(0,2)\n",
        "if rand_num == 0:\n",
        "\tcomputer = \"rock\"\n",
        "elif rand_num == 1:\n",
        "\tcomputer = \"paper\"\n",
        "else:\n",
        "\tcomputer = \"scissors\"\n",
        "\n",
        "print(f\"Computer plays {computer}\" )\n",
        "\n",
        "if player == computer:\n",
        "\tprint(\"It's a tie!\")\n",
        "elif player == \"rock\":\n",
        "\tif computer == \"scissors\":\n",
        "\t\tprint(\"player wins!\")\n",
        "\telse:\n",
        "\t\tprint(\"computer wins!\")\n",
        "elif player == \"paper\":\n",
        "\tif computer == \"rock\":\n",
        "\t\tprint(\"player wins!\")\n",
        "\telse:\n",
        "\t\tprint(\"computer wins!\")\n",
        "elif player == \"scissors\":\n",
        "\tif computer == \"paper\":\n",
        "\t\tprint(\"player wins!\")\n",
        "\telse:\n",
        "\t\tprint(\"computer wins!\")\t\n",
        "else:\n",
        "\tprint(\"Please enter a valid move!\")"
      ],
      "execution_count": null,
      "outputs": []
    },
    {
      "cell_type": "markdown",
      "metadata": {
        "id": "7cQG4L2nyR3G",
        "colab_type": "text"
      },
      "source": [
        "# Loops\n",
        "[Loops](http://python.slides.com/colt/functions-part-1/fullscreen)"
      ]
    },
    {
      "cell_type": "code",
      "metadata": {
        "id": "m92uepHizjRL",
        "colab_type": "code",
        "colab": {}
      },
      "source": [
        ""
      ],
      "execution_count": null,
      "outputs": []
    },
    {
      "cell_type": "markdown",
      "metadata": {
        "id": "LHyPgesxzkkS",
        "colab_type": "text"
      },
      "source": [
        "# Section Exercices"
      ]
    },
    {
      "cell_type": "markdown",
      "metadata": {
        "id": "584uVWoczppr",
        "colab_type": "text"
      },
      "source": [
        "\n",
        "**EX1**\n",
        "\n",
        "Use a for loop to add up every odd number from 10 to 20 (inclusive) and store the result in the variable `x` .  \n",
        "\n",
        "You could cheat and just figure this out using a calculator, but...that would defeat the whole point of this course."
      ]
    },
    {
      "cell_type": "code",
      "metadata": {
        "id": "GSLy-U4o1GaG",
        "colab_type": "code",
        "colab": {}
      },
      "source": [
        ""
      ],
      "execution_count": null,
      "outputs": []
    },
    {
      "cell_type": "markdown",
      "metadata": {
        "id": "N6COnEM71HTy",
        "colab_type": "text"
      },
      "source": [
        "**EX2**\n",
        "\n",
        "Use a while loop to generate a random number between 1 and 10 until you get the number 5. Every time the loop runs, increment the variable `i` .\n",
        "\n",
        "Here are more detailed steps:\n",
        "\n",
        "Generate a random number between 1 and 10 using `randint(1, 10)` , storing the result in the `number` variable\n",
        "Write a while loop to keep regenerating a new random `number` between 1 and 10 while the random `number` is not equal to 5.\n",
        "\n",
        "print how many times the loop has excuted to get the number 5"
      ]
    },
    {
      "cell_type": "code",
      "metadata": {
        "id": "I0JyeRjz1qc1",
        "colab_type": "code",
        "colab": {}
      },
      "source": [
        ""
      ],
      "execution_count": null,
      "outputs": []
    },
    {
      "cell_type": "markdown",
      "metadata": {
        "id": "NP3Ujhgk1q2j",
        "colab_type": "text"
      },
      "source": [
        "**Guessing Game**"
      ]
    },
    {
      "cell_type": "code",
      "metadata": {
        "id": "44cb4tM318qU",
        "colab_type": "code",
        "colab": {}
      },
      "source": [
        "import random\n",
        "\n",
        "random_number = random.randint(1,10)  # numbers 1 - 10\n",
        "guess = None\n",
        "\n",
        "while True:\n",
        "\tguess = input(\"Pick a number from 1 to 10: \")\n",
        "\tguess = int(guess)\n",
        "\tif guess < random_number:\n",
        "\t\tprint(\"TOO LOW!\")\n",
        "\telif guess > random_number:\n",
        "\t\tprint(\"TOO HIGH!\")\n",
        "\telse:\n",
        "\t\tprint(\"YOU WON!!!!\")\n",
        "\t\tplay_again = input(\"Do you want to play again? (y/n) \")\n",
        "\t\tif play_again == \"y\":\n",
        "\t\t\trandom_number = random.randint(1,10)  # numbers 1 - 10\n",
        "\t\t\tguess = None\n",
        "\t\telse:\n",
        "\t\t\tprint(\"Thank you for playing!\")\n",
        "\t\t\tbreak\n"
      ],
      "execution_count": null,
      "outputs": []
    },
    {
      "cell_type": "markdown",
      "metadata": {
        "id": "BR7HrjLf2AfU",
        "colab_type": "text"
      },
      "source": [
        "# Lists\n",
        "\n",
        "[Lists](http://python.slides.com/colt/lists-13/fullscreen)"
      ]
    },
    {
      "cell_type": "code",
      "metadata": {
        "id": "yWFcauYb2J9s",
        "colab_type": "code",
        "colab": {}
      },
      "source": [
        ""
      ],
      "execution_count": null,
      "outputs": []
    },
    {
      "cell_type": "markdown",
      "metadata": {
        "id": "a0xdKfkR2Kkr",
        "colab_type": "text"
      },
      "source": [
        "# Section Exercices"
      ]
    },
    {
      "cell_type": "markdown",
      "metadata": {
        "id": "zBUMw20e9VHV",
        "colab_type": "text"
      },
      "source": [
        "**EX1**\n",
        "\n",
        "It's time to create your own lists.  Define 2 separate lists: \n",
        "\n",
        "First, define a list called `my_stuff` .  It must be be at least 4 elements long.  The data is completely up to you, but it must contain at least 1 string and 1 float. \n",
        "Next, define a list called `nums` . It should be a list containing all the numbers between 1 and 99 (including 99).  Don't type this out manually!"
      ]
    },
    {
      "cell_type": "code",
      "metadata": {
        "id": "-jkKnqfE9oAd",
        "colab_type": "code",
        "colab": {}
      },
      "source": [
        ""
      ],
      "execution_count": null,
      "outputs": []
    },
    {
      "cell_type": "markdown",
      "metadata": {
        "id": "VpQ7MGH99oSU",
        "colab_type": "text"
      },
      "source": [
        "**EX2**\n",
        "\n",
        "I'm having a party, and made a list of people I want to invite.  Unfortunately, I'm a terrible friend and made a couple of spelling errors.  Help me correct them!\n",
        "\n",
        "Change \"Hanna\" to \"Hannah\" (there should be an 'h' at the end)\n",
        "Change \"Geoffrey\" to \"Jeffrey\"\n",
        "Change \"aparna\" to \"Aparna\" (capitalize it)"
      ]
    },
    {
      "cell_type": "code",
      "metadata": {
        "id": "CQGdsqGk9xUt",
        "colab_type": "code",
        "colab": {}
      },
      "source": [
        "people = [\"Hanna\",\"Louisa\",\"Claudia\", \"Angela\",\"Geoffrey\", \"aparna\"]\n",
        "\n",
        "# Your Code Here"
      ],
      "execution_count": null,
      "outputs": []
    },
    {
      "cell_type": "markdown",
      "metadata": {
        "id": "V9oXF-sE91ic",
        "colab_type": "text"
      },
      "source": [
        "**EX3**\n",
        "\n",
        "I've given you a list called `sounds` .  It looks like this:\n",
        "\n",
        "`sounds = [\"super\", \"cali\", \"fragil\", \"istic\", \"expi\", \"ali\", \"docious\"] `\n",
        "\n",
        "Write code that loops over the list and adds all the strings together to form one large combined string (don't add any spaces between them) \n",
        "The combined string should be in all UPPERCASE as well \n",
        "Save the result in a variable called `result`"
      ]
    },
    {
      "cell_type": "code",
      "metadata": {
        "id": "oOkinhBv-Brt",
        "colab_type": "code",
        "colab": {}
      },
      "source": [
        "sounds = [\"super\", \"cali\", \"fragil\", \"istic\", \"expi\", \"ali\", \"docious\"]\n",
        "\n",
        "# Your Code Here"
      ],
      "execution_count": null,
      "outputs": []
    },
    {
      "cell_type": "markdown",
      "metadata": {
        "id": "iqDVQzax-CC8",
        "colab_type": "text"
      },
      "source": [
        "**EX4**\n",
        "\n",
        "Create a list called `instructors`\n",
        "\n",
        "\n",
        "*   Add the following strings to the instructors list \n",
        "\n",
        "    \"Colt\"\n",
        "    \"Blue\"\n",
        "    \"Lisa\"\n",
        "*   Remove the last value in the list\n",
        "\n",
        "\n",
        "*   Add the string \"Done\" to the beginning of the list\n",
        "*   print the new list\n"
      ]
    },
    {
      "cell_type": "code",
      "metadata": {
        "id": "eJcrJh16-wkH",
        "colab_type": "code",
        "colab": {}
      },
      "source": [
        ""
      ],
      "execution_count": null,
      "outputs": []
    },
    {
      "cell_type": "markdown",
      "metadata": {
        "id": "kllEExN8-0_V",
        "colab_type": "text"
      },
      "source": [
        "**EX5**\n",
        "\n",
        "Given a list `[\"Elie\", \"Tim\", \"Matt\"]`, create a variable called `answer`, which is a new list containing the first letter of each name in the list.  I would use a list comprehension, though you could also loop over manually.\n",
        "\n",
        "Given a list `[1,2,3,4,5,6]`, create a new variable called `answer2`, which is a new list of all the even values.  Another good candidate for a list comp."
      ]
    },
    {
      "cell_type": "code",
      "metadata": {
        "id": "B5l2TTWV_CSd",
        "colab_type": "code",
        "colab": {}
      },
      "source": [
        ""
      ],
      "execution_count": null,
      "outputs": []
    },
    {
      "cell_type": "markdown",
      "metadata": {
        "id": "XLa0lqAW_Clc",
        "colab_type": "text"
      },
      "source": [
        "**EX6**\n",
        "\n",
        "1. Given two lists `[1,2,3,4]` and `[3,4,5,6]`, create a variable called `answer`, which is a new list that is the intersection of the two. Your output should be [3,4] .  Hint: use the in operator to test whether an element is in a list.  For example:  `5 in [1,5,2]`  is True.  `3 in [1,5,2]`  is False.\n",
        "\n",
        "2. Given a list of words `[\"Elie\", \"Tim\", \"Matt\"]` create a variable called `answer2`, which is a new list with each word reversed and in lower case (use a slice to do the reversal!) Your output should be `['eile', 'mit', 'ttam']`"
      ]
    },
    {
      "cell_type": "code",
      "metadata": {
        "id": "HHxVWpVL_rIH",
        "colab_type": "code",
        "colab": {}
      },
      "source": [
        ""
      ],
      "execution_count": null,
      "outputs": []
    },
    {
      "cell_type": "markdown",
      "metadata": {
        "id": "My49-wbG_rdl",
        "colab_type": "text"
      },
      "source": [
        "**EX7**\n",
        "\n",
        "For all the numbers between 1 and 100(including 100), create a variable called `answer`, which contains a list with all the numbers that are divisible by 12.  (12, 24, etc)\n",
        "\n",
        "USE A LIST COMPREHENSION."
      ]
    },
    {
      "cell_type": "code",
      "metadata": {
        "id": "naBO86cH_y3d",
        "colab_type": "code",
        "colab": {}
      },
      "source": [
        ""
      ],
      "execution_count": null,
      "outputs": []
    },
    {
      "cell_type": "markdown",
      "metadata": {
        "id": "3PdBaYBi_zMf",
        "colab_type": "text"
      },
      "source": [
        "**EX8**\n",
        "\n",
        "Given the string \"amazing\", create a variable called `answer`, which is a list containing all the letters from \"amazing\" but not the vowels (a, e, i, o, and u). The answer should look like: `['m', 'z', 'n', 'g']`.\n",
        "\n",
        "Use a list comprehension!"
      ]
    },
    {
      "cell_type": "code",
      "metadata": {
        "id": "OnVpSibZ_9Js",
        "colab_type": "code",
        "colab": {}
      },
      "source": [
        ""
      ],
      "execution_count": null,
      "outputs": []
    },
    {
      "cell_type": "markdown",
      "metadata": {
        "id": "6taONDjo_9eE",
        "colab_type": "text"
      },
      "source": [
        "**EX9**\n",
        "\n",
        "Using a nested list comprehension and range(), create a variable called `answer`  with the following value - `[[0, 1, 2], [0, 1, 2], [0, 1, 2]]` .  To break it down...start by using range and a list comp to generate the list `[0,1,2]`.  And then repeat that whole thing 3 times in a nested list comp."
      ]
    },
    {
      "cell_type": "code",
      "metadata": {
        "id": "jQaAQqlpAKwN",
        "colab_type": "code",
        "colab": {}
      },
      "source": [
        ""
      ],
      "execution_count": null,
      "outputs": []
    },
    {
      "cell_type": "markdown",
      "metadata": {
        "id": "O4v-Nn7iALFt",
        "colab_type": "text"
      },
      "source": [
        "**EX10**\n",
        "\n",
        "One More Nested List Comp Challenge\n",
        "Using list comprehension, create a variable called `answer` with the following value :\n",
        "```\n",
        "[\n",
        " [0, 1, 2, 3, 4, 5, 6, 7, 8, 9],\n",
        " [0, 1, 2, 3, 4, 5, 6, 7, 8, 9],\n",
        " [0, 1, 2, 3, 4, 5, 6, 7, 8, 9],\n",
        " [0, 1, 2, 3, 4, 5, 6, 7, 8, 9],\n",
        " [0, 1, 2, 3, 4, 5, 6, 7, 8, 9],\n",
        " [0, 1, 2, 3, 4, 5, 6, 7, 8, 9],\n",
        " [0, 1, 2, 3, 4, 5, 6, 7, 8, 9],\n",
        " [0, 1, 2, 3, 4, 5, 6, 7, 8, 9],\n",
        " [0, 1, 2, 3, 4, 5, 6, 7, 8, 9],\n",
        " [0, 1, 2, 3, 4, 5, 6, 7, 8, 9]\n",
        " ]\n",
        "```\n",
        "\n",
        "it's a 10x10 nested list.  10 rows, each row contains the numbers 0-9.   Use nested list comprehension and range() to accomplish this."
      ]
    },
    {
      "cell_type": "code",
      "metadata": {
        "id": "J2uTexJmAhGm",
        "colab_type": "code",
        "colab": {}
      },
      "source": [
        ""
      ],
      "execution_count": null,
      "outputs": []
    },
    {
      "cell_type": "markdown",
      "metadata": {
        "id": "k5bmJS-aAhwU",
        "colab_type": "text"
      },
      "source": [
        "# Dictionaries\n",
        "\n",
        "[Dictionaries](http://python.slides.com/colt/lists-22/fullscreen)"
      ]
    },
    {
      "cell_type": "code",
      "metadata": {
        "id": "VHoahsAuA1lu",
        "colab_type": "code",
        "colab": {}
      },
      "source": [
        ""
      ],
      "execution_count": null,
      "outputs": []
    },
    {
      "cell_type": "markdown",
      "metadata": {
        "id": "YKuQblepA2al",
        "colab_type": "text"
      },
      "source": [
        "# Section Exercices"
      ]
    },
    {
      "cell_type": "markdown",
      "metadata": {
        "id": "X3suvlHeA7pd",
        "colab_type": "text"
      },
      "source": [
        "**EX1**\n",
        "\n",
        "Given the dictionary below:\n",
        "```\n",
        "artist = {\n",
        "    \"first\": \"Neil\",\n",
        "    \"last\": \"Young\",\n",
        "}\n",
        "```\n",
        "\n",
        "Declare a variable called `full_name`  that is equal to artist's first  and last  names with a space between. You must reference the values associated with those keys in the artist dictionary.\n",
        "\n",
        "print `full_name` \n"
      ]
    },
    {
      "cell_type": "code",
      "metadata": {
        "id": "BSa-ttVGCNP3",
        "colab_type": "code",
        "colab": {}
      },
      "source": [
        ""
      ],
      "execution_count": null,
      "outputs": []
    },
    {
      "cell_type": "markdown",
      "metadata": {
        "id": "FGb5w8iNCNql",
        "colab_type": "text"
      },
      "source": [
        "**EX2**\n",
        "\n",
        "Given the provided dictionary of donations:\n",
        "\n",
        "`donations = dict(sam=25.0, lena=88.99, chuck=13.0, linus=99.5, stan=150.0, lisa=50.25, harrison=10.0) `\n",
        "\n",
        "Use a loop to calculate the total value of the donations.  Save the result to a variable called `total_donations`"
      ]
    },
    {
      "cell_type": "code",
      "metadata": {
        "id": "FlBjQrWCCZJW",
        "colab_type": "code",
        "colab": {}
      },
      "source": [
        ""
      ],
      "execution_count": null,
      "outputs": []
    },
    {
      "cell_type": "markdown",
      "metadata": {
        "id": "lf2dTxgKCZcd",
        "colab_type": "text"
      },
      "source": [
        "**EX3**\n",
        "\n",
        "For this exercise, I've defined some code for you already.\n",
        "\n",
        "The `food`  variable will store a randomly chosen food string like \"gummy bear\" or \"morning bun\".  Some of these items are in the `bakery_stock`  dictionary, and some are not.\n",
        "\n",
        "Your task is to simply print out a string depending on if food  is a value in `bakery_stock` .If food  is contained in `bakery_stock`  print out a string that states how many items are left: \"3 left\" if food is \"toffee cookie\" or \"1 left\" if food is \"morning bun\", etc.\n",
        "\n",
        "If food is not contained in `bakery_stock`  (like \"gummy bear\"), print out \"We don't make that\""
      ]
    },
    {
      "cell_type": "code",
      "metadata": {
        "id": "V0ubUezGCr99",
        "colab_type": "code",
        "colab": {}
      },
      "source": [
        "# This code picks a random food item:\n",
        "from random import choice \n",
        "food = choice([\"cheese pizza\", \"quiche\",\"morning bun\",\"gummy bear\",\"tea cake\"])\n",
        "\n",
        "bakery_stock = {\n",
        "    \"almond croissant\" : 12,\n",
        "    \"toffee cookie\": 3,\n",
        "    \"morning bun\": 1,\n",
        "    \"chocolate chunk cookie\": 9,\n",
        "    \"tea cake\": 25\n",
        "}\n",
        "\n",
        "# YOUR CODE GOES BELOW:"
      ],
      "execution_count": null,
      "outputs": []
    },
    {
      "cell_type": "markdown",
      "metadata": {
        "id": "TjV3UNAeCu99",
        "colab_type": "text"
      },
      "source": [
        "**EX3**\n",
        "\n",
        "Imagine we're creating a video game and want to model the initial starting-state of our game.  I've provided you with a list of strings called `game_properties`.\n",
        "\n",
        "Use `dict.fromkeys`  to generate a new dictionary using the provided `game_properties`  list.  Initialize all values to 0 .  \n",
        "\n",
        "Save the result in a variable called `initial_game_state` \n",
        "\n",
        "HINT: the end result should look like this:\n",
        "\n",
        "`{'current_score': 0, 'high_score': 0, 'number_of_lives': 0, 'items_in_inventory': 0, 'power_ups': 0, 'ammo': 0, 'enemies_on_screen': 0, 'enemy_kills': 0, 'enemy_kill_streaks': 0, 'minutes_played': 0, 'notifications': 0, 'achievements': 0} `\n"
      ]
    },
    {
      "cell_type": "code",
      "metadata": {
        "id": "Tp60wkNgDB2v",
        "colab_type": "code",
        "colab": {}
      },
      "source": [
        "game_properties = [\"current_score\", \"high_score\", \"number_of_lives\", \"items_in_inventory\", \"power_ups\", \"ammo\", \"enemies_on_screen\", \"enemy_kills\", \"enemy_kill_streaks\", \"minutes_played\", \"notifications\", \"achievements\"] "
      ],
      "execution_count": null,
      "outputs": []
    },
    {
      "cell_type": "markdown",
      "metadata": {
        "id": "vI_8ebU1DHAt",
        "colab_type": "text"
      },
      "source": [
        "**EX4**\n",
        "\n",
        "I've provided you with a start dictionary called inventory. \n",
        "\n",
        "`inventory = {'croissant': 19, 'bagel': 4, 'muffin': 8, 'cake': 1}` \n",
        "Follow the instructions found in the comments:\n",
        "\n",
        "1. Make a copy of inventory  and save it to a variable called `stock_list`  using a dictionary method we've covered\n",
        "\n",
        "2. Add the value 18 to `stock_list`  under the key \"cookie\"\n",
        "\n",
        "3. Remove 'cake' from `stock_list`  using a dictionary method we've learned"
      ]
    },
    {
      "cell_type": "code",
      "metadata": {
        "id": "48lQVG7yDVeV",
        "colab_type": "code",
        "colab": {}
      },
      "source": [
        "inventory = {'croissant': 19, 'bagel': 4, 'muffin': 8, 'cake': 1}"
      ],
      "execution_count": null,
      "outputs": []
    },
    {
      "cell_type": "markdown",
      "metadata": {
        "id": "mB0tLIWvDXYl",
        "colab_type": "text"
      },
      "source": [
        "**EX5**\n",
        "\n",
        "Given two lists `[\"CA\", \"NJ\", \"RI\"]` and `[\"California\", \"New Jersey\", \"Rhode Island\"]` create a dictionary that looks like this `{'CA': 'California', 'NJ': 'New Jersey', 'RI': 'Rhode Island'}`. Save it to a variable called `answer`.\n",
        "\n",
        "I expect you to do this with a dictionary comprehension, but you can also use a built-in function called zip .  We cover it later in the course."
      ]
    },
    {
      "cell_type": "code",
      "metadata": {
        "id": "TIKJD7bXDjNW",
        "colab_type": "code",
        "colab": {}
      },
      "source": [
        "list1 = [\"CA\", \"NJ\", \"RI\"]\n",
        "list2 = [\"California\", \"New Jersey\", \"Rhode Island\"]\n",
        "\n",
        "answer = {}"
      ],
      "execution_count": null,
      "outputs": []
    },
    {
      "cell_type": "markdown",
      "metadata": {
        "id": "0CSsItqyDjke",
        "colab_type": "text"
      },
      "source": [
        "**EX6**\n",
        "\n",
        "given a `person` variable:\n",
        "\n",
        "`person = [[\"name\", \"Jared\"], [\"job\", \"Musician\"], [\"city\", \"Bern\"]] `\n",
        "\n",
        "Create a dictionary called `answer` , that makes each first item in each list a key and the second item a corresponding value.  That's a terrible explanation.  I think it'll be easier if you just look at the end goal:\n",
        "\n",
        "`{'name': 'Jared', 'job': 'Musician', 'city': 'Bern'} `\n",
        "\n",
        "There are many potential solutions for this."
      ]
    },
    {
      "cell_type": "code",
      "metadata": {
        "id": "62XLu_sODxyd",
        "colab_type": "code",
        "colab": {}
      },
      "source": [
        "person = [[\"name\", \"Jared\"], [\"job\", \"Musician\"], [\"city\", \"Bern\"]]"
      ],
      "execution_count": null,
      "outputs": []
    },
    {
      "cell_type": "markdown",
      "metadata": {
        "id": "jnevFWrYDyGF",
        "colab_type": "text"
      },
      "source": [
        "# Tuple and Sets\n",
        "\n",
        "[Tuple and Sets](http://python.slides.com/colt/lists-23/fullscreen)"
      ]
    },
    {
      "cell_type": "code",
      "metadata": {
        "id": "_NoWhSrgEDpd",
        "colab_type": "code",
        "colab": {}
      },
      "source": [
        ""
      ],
      "execution_count": null,
      "outputs": []
    },
    {
      "cell_type": "markdown",
      "metadata": {
        "id": "nia7VdWhED_V",
        "colab_type": "text"
      },
      "source": [
        "# Section Exercices"
      ]
    },
    {
      "cell_type": "code",
      "metadata": {
        "id": "wAtxfbrDEJnO",
        "colab_type": "code",
        "colab": {}
      },
      "source": [
        "\n",
        "# 1 - Create a variable called numbers which is a tuple with the the values 1, 2, 3 and 4 inside.\n",
        "\n",
        "# 2 - Create a variable called value which is a tuple with the the value 1 inside.\n",
        "\n",
        "# 3 - Given the following variable:\n",
        "\n",
        "values = [10,20,30]\n",
        "\n",
        "# Create a variable called static_values which is the result of the values variable converted to a tuple\n",
        "\n",
        "# 4 - Given the following variable\n",
        "\n",
        "stuff = [1,3,1,5,2,5,1,2,5]\n",
        "\n",
        "# Create a variable called unique_stuff which is a set of only the unique values in the stuff list"
      ],
      "execution_count": null,
      "outputs": []
    },
    {
      "cell_type": "markdown",
      "metadata": {
        "id": "g4lTJ78PEPjl",
        "colab_type": "text"
      },
      "source": [
        "# Functions I\n",
        "\n",
        "[Functions I](http://python.slides.com/colt/lists-16/fullscreen)"
      ]
    }
  ]
}