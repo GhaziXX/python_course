{
  "nbformat": 4,
  "nbformat_minor": 0,
  "metadata": {
    "colab": {
      "name": "Untitled8.ipynb",
      "provenance": [],
      "authorship_tag": "ABX9TyPKt7WTMgtRkU0D+TpfRX62",
      "include_colab_link": true
    },
    "kernelspec": {
      "name": "python3",
      "display_name": "Python 3"
    }
  },
  "cells": [
    {
      "cell_type": "markdown",
      "metadata": {
        "id": "view-in-github",
        "colab_type": "text"
      },
      "source": [
        "<a href=\"https://colab.research.google.com/github/GhaziXX/python_course/blob/master/oop.ipynb\" target=\"_parent\"><img src=\"https://colab.research.google.com/assets/colab-badge.svg\" alt=\"Open In Colab\"/></a>"
      ]
    },
    {
      "cell_type": "code",
      "metadata": {
        "id": "Oqh_KmnAxTmh",
        "colab_type": "code",
        "colab": {}
      },
      "source": [
        "class User:\n",
        "  def __init__(self,first,last,age):\n",
        "    self.first = first\n",
        "    self.last = last\n",
        "    self.age = age\n",
        "    self._under = \"one underscore\"\n",
        "    self.__double = \"double underscore\"\n",
        "    self.__dunder__ = 'this is a dunder'"
      ],
      "execution_count": null,
      "outputs": []
    },
    {
      "cell_type": "code",
      "metadata": {
        "id": "Zcc0L7o0p2kD",
        "colab_type": "code",
        "colab": {}
      },
      "source": [
        "user1 = User(\"Ghazi\",'Tounsi',21)\n",
        "print(user1.age)"
      ],
      "execution_count": null,
      "outputs": []
    },
    {
      "cell_type": "code",
      "metadata": {
        "id": "YJ70cCPUqrYL",
        "colab_type": "code",
        "colab": {}
      },
      "source": [
        "#_name\n",
        "#__name\n",
        "#__name__"
      ],
      "execution_count": null,
      "outputs": []
    },
    {
      "cell_type": "code",
      "metadata": {
        "id": "_JpTLptZsB3C",
        "colab_type": "code",
        "colab": {}
      },
      "source": [
        "u = User('ghazi','tounsi',21)\n",
        "print(u._under)\n",
        "print(u.__dunder__)\n",
        "print(u.__double)\n"
      ],
      "execution_count": null,
      "outputs": []
    },
    {
      "cell_type": "code",
      "metadata": {
        "id": "XkxyYlBXsTob",
        "colab_type": "code",
        "colab": {}
      },
      "source": [
        "dir(u)"
      ],
      "execution_count": null,
      "outputs": []
    },
    {
      "cell_type": "code",
      "metadata": {
        "id": "wYif5NrCsa_T",
        "colab_type": "code",
        "colab": {}
      },
      "source": [
        "print(u._User__double)"
      ],
      "execution_count": null,
      "outputs": []
    },
    {
      "cell_type": "code",
      "metadata": {
        "id": "OUKJYWIVu2vu",
        "colab_type": "code",
        "colab": {}
      },
      "source": [
        "class Pet:\n",
        "  allowed = ['cat','dog','tiger']\n",
        "  def __init__(self,name, species):\n",
        "    if species not in Pet.allowed:\n",
        "      raise ValueError(f'You can\"t have a {species} pet!')\n",
        "    self.name = name\n",
        "    self.species = species\n",
        "  "
      ],
      "execution_count": null,
      "outputs": []
    },
    {
      "cell_type": "code",
      "metadata": {
        "id": "O3bHn07wvUTU",
        "colab_type": "code",
        "colab": {}
      },
      "source": [
        "cat = Pet('Blue','cat')\n",
        "fish = Pet('Nemo','fish')"
      ],
      "execution_count": null,
      "outputs": []
    },
    {
      "cell_type": "code",
      "metadata": {
        "id": "lE8EfCGa6Zi9",
        "colab_type": "code",
        "colab": {}
      },
      "source": [
        "class User:\n",
        "\tactive_users = 0\n",
        "\n",
        "\t@classmethod\n",
        "\tdef display_active_users(cls):\n",
        "\t\treturn f\"There are currently {cls.active_users} active users\"\n",
        "\n",
        "\t@classmethod\n",
        "\tdef from_string(cls, data_str):\n",
        "\t\tfirst,last,age = data_str.split(\",\")\n",
        "\t\treturn cls(first, last, int(age))\n",
        "\n",
        "\tdef __init__(self, first, last, age):\n",
        "\t\tself.first = first\n",
        "\t\tself.last = last\n",
        "\t\tself.age = age\n",
        "\t\tUser.active_users += 1\n",
        "\n",
        "\tdef __repr__(self):\n",
        "\t\treturn f\"{self.first} is {self.age}\"\n",
        "\n",
        "\n",
        "\n",
        "\tdef logout(self):\n",
        "\t\tUser.active_users -= 1\n",
        "\t\treturn f\"{self.first} has logged out\"\n",
        "\n",
        "\tdef full_name(self):\n",
        "\t\treturn f\"{self.first} {self.last}\"\n",
        "\n",
        "\tdef initials(self):\n",
        "\t\treturn f\"{self.first[0]}.{self.last[0]}.\"\n",
        "\n",
        "\tdef likes(self, thing):\n",
        "\t\treturn f\"{self.first} likes {thing}\"\n",
        "\n",
        "\tdef is_senior(self):\n",
        "\t\treturn self.age >= 65\n",
        "\n",
        "\tdef birthday(self):\n",
        "\t\tself.age += 1\n",
        "\t\treturn f\"Happy {self.age}th, {self.first}\"\n"
      ],
      "execution_count": null,
      "outputs": []
    },
    {
      "cell_type": "code",
      "metadata": {
        "id": "yxsFzg0e8muy",
        "colab_type": "code",
        "colab": {}
      },
      "source": [
        "\n",
        "user1 = User(\"Joe\", \"Smith\", 68)\n",
        "user2 = User(\"Blanca\", \"Lopez\", 41)\n",
        "print(User.display_active_users())\n",
        "user1 = User(\"Joe\", \"Smith\", 68)\n",
        "user2 = User(\"Blanca\", \"Lopez\", 41)\n",
        "print(User.display_active_users())"
      ],
      "execution_count": null,
      "outputs": []
    },
    {
      "cell_type": "code",
      "metadata": {
        "id": "XcSqioi08rvq",
        "colab_type": "code",
        "colab": {}
      },
      "source": [
        "tom = User.from_string(\"Tom,Jones,89\")\n",
        "print(tom.first)\n",
        "print(tom.full_name())\n",
        "print(tom.birthday())"
      ],
      "execution_count": null,
      "outputs": []
    },
    {
      "cell_type": "code",
      "metadata": {
        "id": "rmq9GVSh_GMM",
        "colab_type": "code",
        "colab": {}
      },
      "source": [
        "print(tom)"
      ],
      "execution_count": null,
      "outputs": []
    }
  ]
}