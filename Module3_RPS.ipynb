{
  "nbformat": 4,
  "nbformat_minor": 0,
  "metadata": {
    "colab": {
      "name": "Module3.ipynb",
      "provenance": [],
      "authorship_tag": "ABX9TyPQ+ceU368PtxjxUtHESAnr",
      "include_colab_link": true
    },
    "kernelspec": {
      "name": "python3",
      "display_name": "Python 3"
    }
  },
  "cells": [
    {
      "cell_type": "markdown",
      "metadata": {
        "id": "view-in-github",
        "colab_type": "text"
      },
      "source": [
        "<a href=\"https://colab.research.google.com/github/GhaziXX/python_course/blob/master/Module3_RPS.ipynb\" target=\"_parent\"><img src=\"https://colab.research.google.com/assets/colab-badge.svg\" alt=\"Open In Colab\"/></a>"
      ]
    },
    {
      "cell_type": "code",
      "metadata": {
        "id": "h7aTXb5Czksj",
        "colab_type": "code",
        "colab": {}
      },
      "source": [
        "# Rock Paper Scissor Game"
      ],
      "execution_count": null,
      "outputs": []
    },
    {
      "cell_type": "code",
      "metadata": {
        "id": "DVamYYtb0KAz",
        "colab_type": "code",
        "colab": {}
      },
      "source": [
        "#V1\n",
        "print(\"Rock...\")\n",
        "print(\"Paper...\")\n",
        "print(\"Scissors...\")\n",
        "\n",
        "player1 = input(\"Player 1, make your move: \")\n",
        "player2 = input(\"Player 2, make your move: \")\n",
        "\n",
        "\n",
        "if player1 == \"rock\" and player2 == \"scissors\":\n",
        "\tprint(\"player1 wins!\")\n",
        "elif player1 == \"rock\" and player2 == \"paper\":\n",
        "\tprint(\"player2 wins!\")\n",
        "elif player1 == \"paper\" and player2 == \"rock\":\n",
        "\tprint(\"player1 wins!\")\n",
        "elif player1 == \"paper\" and player2 == \"scissors\":\n",
        "\tprint(\"player2 wins!\")\n",
        "elif player1 == \"scissors\" and player2 == \"rock\":\n",
        "\tprint(\"player2 wins!\")\n",
        "elif player1 == \"scissors\" and player2 == \"paper\":\n",
        "\tprint(\"player1 wins!\")\n",
        "elif player1 == player2:\n",
        "\tprint(\"It's a tie!\")\n",
        "else:\n",
        "\tprint(\"something went wrong\")"
      ],
      "execution_count": null,
      "outputs": []
    },
    {
      "cell_type": "code",
      "metadata": {
        "id": "CX0D-bYR0a--",
        "colab_type": "code",
        "colab": {}
      },
      "source": [
        "#V2\n",
        "\n",
        "from random import randint\n",
        "\n",
        "player = input(\"Player, make your move: \").lower()\n",
        "rand_num = randint(0,2)\n",
        "if rand_num == 0:\n",
        "\tcomputer = \"rock\"\n",
        "elif rand_num == 1:\n",
        "\tcomputer = \"paper\"\n",
        "else:\n",
        "\tcomputer = \"scissors\"\n",
        "\n",
        "print(f\"Computer plays {computer}\" )\n",
        "\n",
        "if player == computer:\n",
        "\tprint(\"It's a tie!\")\n",
        "elif player == \"rock\":\n",
        "\tif computer == \"scissors\":\n",
        "\t\tprint(\"player wins!\")\n",
        "\telse:\n",
        "\t\tprint(\"computer wins!\")\n",
        "elif player == \"paper\":\n",
        "\tif computer == \"rock\":\n",
        "\t\tprint(\"player wins!\")\n",
        "\telse:\n",
        "\t\tprint(\"computer wins!\")\n",
        "elif player == \"scissors\":\n",
        "\tif computer == \"paper\":\n",
        "\t\tprint(\"player wins!\")\n",
        "\telse:\n",
        "\t\tprint(\"computer wins!\")\t\n",
        "else:\n",
        "\tprint(\"Please enter a valid move!\")"
      ],
      "execution_count": null,
      "outputs": []
    }
  ]
}