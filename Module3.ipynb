{
  "nbformat": 4,
  "nbformat_minor": 0,
  "metadata": {
    "colab": {
      "name": "Module3.ipynb",
      "provenance": [],
      "authorship_tag": "ABX9TyO8myxbc1iIq2NVbgmxbH9+",
      "include_colab_link": true
    },
    "kernelspec": {
      "name": "python3",
      "display_name": "Python 3"
    }
  },
  "cells": [
    {
      "cell_type": "markdown",
      "metadata": {
        "id": "view-in-github",
        "colab_type": "text"
      },
      "source": [
        "<a href=\"https://colab.research.google.com/github/GhaziXX/python_course/blob/master/Module3.ipynb\" target=\"_parent\"><img src=\"https://colab.research.google.com/assets/colab-badge.svg\" alt=\"Open In Colab\"/></a>"
      ]
    },
    {
      "cell_type": "code",
      "metadata": {
        "id": "Bmj0x_c0TZo1",
        "colab_type": "code",
        "colab": {}
      },
      "source": [
        "for i in range(10):\n",
        "  print(i)"
      ],
      "execution_count": null,
      "outputs": []
    },
    {
      "cell_type": "code",
      "metadata": {
        "id": "0sLmBusINOqQ",
        "colab_type": "code",
        "colab": {}
      },
      "source": [
        "r = range(10)\n",
        "list(r)"
      ],
      "execution_count": null,
      "outputs": []
    },
    {
      "cell_type": "code",
      "metadata": {
        "id": "Xeyk0kqkTD19",
        "colab_type": "code",
        "colab": {}
      },
      "source": [
        "r = range(3,10)\n",
        "list(r)"
      ],
      "execution_count": null,
      "outputs": []
    },
    {
      "cell_type": "code",
      "metadata": {
        "id": "xjhOrRLjTJlC",
        "colab_type": "code",
        "colab": {}
      },
      "source": [
        "r = range(1,10,2)\n",
        "list(r)"
      ],
      "execution_count": null,
      "outputs": []
    },
    {
      "cell_type": "code",
      "metadata": {
        "id": "7sQthAlcTOTa",
        "colab_type": "code",
        "colab": {}
      },
      "source": [
        "r = range(10,0,-1)\n",
        "list(r)"
      ],
      "execution_count": null,
      "outputs": []
    },
    {
      "cell_type": "code",
      "metadata": {
        "id": "j4h3BH5_TxVL",
        "colab_type": "code",
        "colab": {}
      },
      "source": [
        "# Simple Exercice\n",
        "\"\"\" Loop through numbers 1-20:\n",
        "      for 4 and 13 print \"x is unlucky\"\n",
        "      for even numbers, print \"x is even\"\n",
        "      for odd numbers, print \"x is odd\"\n",
        "\"\"\"\n",
        "\n",
        "\n",
        "for num in range(1,21):\n",
        "  if num == 4 or num == 13:\n",
        "    state = 'Unlucky'\n",
        "  elif num % 2 == 0:\n",
        "    state = 'Even'\n",
        "  else:\n",
        "    state = 'Odd'\n",
        "  print(f'{num} is {state}')"
      ],
      "execution_count": null,
      "outputs": []
    },
    {
      "cell_type": "code",
      "metadata": {
        "id": "wGHjUe8uVcQM",
        "colab_type": "code",
        "colab": {}
      },
      "source": [
        "msg = input(\"Whats the secret password?\")\n",
        "while msg != '1234':\n",
        "  print(\"WRONG!\")\n",
        "  msg = input(\"Whats the secret password?\")\n",
        "print(\"CORRECT!\")"
      ],
      "execution_count": null,
      "outputs": []
    },
    {
      "cell_type": "code",
      "metadata": {
        "id": "tsjWbNNnZBe-",
        "colab_type": "code",
        "colab": {}
      },
      "source": [
        "for num in range(1,11):\n",
        "  print(num)"
      ],
      "execution_count": null,
      "outputs": []
    },
    {
      "cell_type": "code",
      "metadata": {
        "id": "PEWjJ4EnZHF1",
        "colab_type": "code",
        "colab": {}
      },
      "source": [
        "num = 1\n",
        "while num<11:\n",
        "  print(num)\n",
        "  num+=1"
      ],
      "execution_count": null,
      "outputs": []
    },
    {
      "cell_type": "code",
      "metadata": {
        "id": "aoFYWzvzZdfD",
        "colab_type": "code",
        "colab": {}
      },
      "source": [
        "while True:\n",
        "  cmd = input('Type \"Exit\" to exit ')\n",
        "  if cmd == 'Exit':\n",
        "    break"
      ],
      "execution_count": null,
      "outputs": []
    },
    {
      "cell_type": "code",
      "metadata": {
        "id": "bYkPuWDDbCKb",
        "colab_type": "code",
        "colab": {}
      },
      "source": [
        "# Guessing Game\n",
        "\"\"\" Handle user guesses\n",
        "    if they guess correct, tell them they won\n",
        "    otherwise tell them if they are too high or too low\n",
        "    let the player play again if they want\n",
        "\"\"\"\n",
        "\n",
        "import random\n",
        "\n",
        "random_num = random.randint(1,10)\n",
        "\n",
        "\n",
        "while True:\n",
        "  user_guess = int(input(\"Guess a number between 1 and 10 \"))\n",
        "  if random_num == user_guess:\n",
        "    print('You win! ')\n",
        "    cont = input('do you want to continue? [y]/[n] ')\n",
        "    if cont == 'n':\n",
        "      break\n",
        "    random_num = random.randint(1,10)\n",
        "  elif random_num <= user_guess:\n",
        "    print('Too High! Try again! ')\n",
        "  else:\n",
        "    print('Too Low! Try again! ')"
      ],
      "execution_count": null,
      "outputs": []
    }
  ]
}