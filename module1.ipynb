{
  "nbformat": 4,
  "nbformat_minor": 0,
  "metadata": {
    "colab": {
      "name": "Untitled0.ipynb",
      "provenance": [],
      "collapsed_sections": [],
      "include_colab_link": true
    },
    "kernelspec": {
      "name": "python3",
      "display_name": "Python 3"
    }
  },
  "cells": [
    {
      "cell_type": "markdown",
      "metadata": {
        "id": "view-in-github",
        "colab_type": "text"
      },
      "source": [
        "<a href=\"https://colab.research.google.com/github/GhaziXX/python_course/blob/master/module1.ipynb\" target=\"_parent\"><img src=\"https://colab.research.google.com/assets/colab-badge.svg\" alt=\"Open In Colab\"/></a>"
      ]
    },
    {
      "cell_type": "markdown",
      "metadata": {
        "id": "D8vTq2Cncn0c",
        "colab_type": "text"
      },
      "source": [
        "# **Get to know integer and float datatypes, operators and comments**"
      ]
    },
    {
      "cell_type": "code",
      "metadata": {
        "id": "8OI5t8T0McSt",
        "colab_type": "code",
        "colab": {}
      },
      "source": [
        "19 # Integer Value"
      ],
      "execution_count": null,
      "outputs": []
    },
    {
      "cell_type": "code",
      "metadata": {
        "id": "mvEwixkKZg0P",
        "colab_type": "code",
        "colab": {}
      },
      "source": [
        "1.2 # Float Value"
      ],
      "execution_count": null,
      "outputs": []
    },
    {
      "cell_type": "code",
      "metadata": {
        "id": "asI26jb9cWHY",
        "colab_type": "code",
        "colab": {}
      },
      "source": [
        "type(9.9) # Know the type of a variable"
      ],
      "execution_count": null,
      "outputs": []
    },
    {
      "cell_type": "code",
      "metadata": {
        "id": "RqGqZms2ckLy",
        "colab_type": "code",
        "colab": {}
      },
      "source": [
        "type(9999999)"
      ],
      "execution_count": null,
      "outputs": []
    },
    {
      "cell_type": "code",
      "metadata": {
        "id": "2H9wZ3Ceikex",
        "colab_type": "code",
        "colab": {}
      },
      "source": [
        "1 + 3 "
      ],
      "execution_count": null,
      "outputs": []
    },
    {
      "cell_type": "code",
      "metadata": {
        "id": "_maYrlvCinDo",
        "colab_type": "code",
        "colab": {}
      },
      "source": [
        "1 - 1.5"
      ],
      "execution_count": null,
      "outputs": []
    },
    {
      "cell_type": "code",
      "metadata": {
        "id": "AZLwokk5irqh",
        "colab_type": "code",
        "colab": {}
      },
      "source": [
        "1/2"
      ],
      "execution_count": null,
      "outputs": []
    },
    {
      "cell_type": "markdown",
      "metadata": {
        "id": "ZSN2_VJTjhxH",
        "colab_type": "text"
      },
      "source": [
        "The **PEMDAS** word\n",
        "\n",
        "\n",
        "> P : prantheses , E : exponents , M : Multiplication , D : Division , A : Addition , S : Substraction\n",
        "\n",
        "\n",
        "\n",
        "\n",
        "\n",
        "\n"
      ]
    },
    {
      "cell_type": "code",
      "metadata": {
        "id": "qm6cQSK3jD7K",
        "colab_type": "code",
        "colab": {}
      },
      "source": [
        "3 + 5 * 6 / 7"
      ],
      "execution_count": null,
      "outputs": []
    },
    {
      "cell_type": "code",
      "metadata": {
        "id": "g1Vd0T1FmbwA",
        "colab_type": "code",
        "colab": {}
      },
      "source": [
        "2 ** 3"
      ],
      "execution_count": null,
      "outputs": []
    },
    {
      "cell_type": "code",
      "metadata": {
        "id": "khoASMjtme-g",
        "colab_type": "code",
        "colab": {}
      },
      "source": [
        "2**0.5"
      ],
      "execution_count": null,
      "outputs": []
    },
    {
      "cell_type": "code",
      "metadata": {
        "id": "UiKb7EdMmgpg",
        "colab_type": "code",
        "colab": {}
      },
      "source": [
        "10 % 3"
      ],
      "execution_count": null,
      "outputs": []
    },
    {
      "cell_type": "code",
      "metadata": {
        "id": "60TmQ8eGmv5Y",
        "colab_type": "code",
        "colab": {}
      },
      "source": [
        "10 // 3"
      ],
      "execution_count": null,
      "outputs": []
    },
    {
      "cell_type": "code",
      "metadata": {
        "id": "Vj5fA5aAm9-Z",
        "colab_type": "code",
        "colab": {}
      },
      "source": [
        "# The above two lines can also be replaced by the function\n",
        "divmod(5,3)"
      ],
      "execution_count": null,
      "outputs": []
    },
    {
      "cell_type": "code",
      "metadata": {
        "id": "aHW1PYpMlOW8",
        "colab_type": "code",
        "colab": {}
      },
      "source": [
        "1/3 # this line always return a float\n",
        "\n",
        "# print(5/5) this line won't run"
      ],
      "execution_count": null,
      "outputs": []
    },
    {
      "cell_type": "markdown",
      "metadata": {
        "id": "cXbnuDXwnqr4",
        "colab_type": "text"
      },
      "source": [
        "# **Variables and strings**"
      ]
    },
    {
      "cell_type": "code",
      "metadata": {
        "id": "uMHTaRKLnvPg",
        "colab_type": "code",
        "colab": {}
      },
      "source": [
        "x = 99\n",
        "print(x)\n",
        "x"
      ],
      "execution_count": null,
      "outputs": []
    },
    {
      "cell_type": "code",
      "metadata": {
        "id": "wYhK_sBC1V1J",
        "colab_type": "code",
        "colab": {}
      },
      "source": [
        "x*2"
      ],
      "execution_count": null,
      "outputs": []
    },
    {
      "cell_type": "code",
      "metadata": {
        "id": "kdLey7rF1vv5",
        "colab_type": "code",
        "colab": {}
      },
      "source": [
        "x = 15\n",
        "x"
      ],
      "execution_count": null,
      "outputs": []
    },
    {
      "cell_type": "code",
      "metadata": {
        "id": "oD8rEIJx1zwW",
        "colab_type": "code",
        "colab": {}
      },
      "source": [
        "x = x-1\n",
        "# we can also write x-=1\n",
        "x"
      ],
      "execution_count": null,
      "outputs": []
    },
    {
      "cell_type": "code",
      "metadata": {
        "id": "2LSFWV5-2A4v",
        "colab_type": "code",
        "colab": {}
      },
      "source": [
        "new_x = x\n",
        "new_x"
      ],
      "execution_count": null,
      "outputs": []
    },
    {
      "cell_type": "code",
      "metadata": {
        "id": "wU99AkUE3Ly5",
        "colab_type": "code",
        "colab": {}
      },
      "source": [
        "x2x = 1"
      ],
      "execution_count": null,
      "outputs": []
    },
    {
      "cell_type": "code",
      "metadata": {
        "id": "kZoNf8R63P_f",
        "colab_type": "code",
        "colab": {}
      },
      "source": [
        "2x = 1"
      ],
      "execution_count": null,
      "outputs": []
    },
    {
      "cell_type": "code",
      "metadata": {
        "id": "Y0nbREzf3XbX",
        "colab_type": "code",
        "colab": {}
      },
      "source": [
        "x+x = 1"
      ],
      "execution_count": null,
      "outputs": []
    },
    {
      "cell_type": "code",
      "metadata": {
        "id": "Oc-QGTum5_YQ",
        "colab_type": "code",
        "colab": {}
      },
      "source": [
        "is_active = True\n",
        "is_active"
      ],
      "execution_count": null,
      "outputs": []
    },
    {
      "cell_type": "code",
      "metadata": {
        "id": "Ql7LvJNq6K_E",
        "colab_type": "code",
        "colab": {}
      },
      "source": [
        "game_over = false"
      ],
      "execution_count": null,
      "outputs": []
    },
    {
      "cell_type": "code",
      "metadata": {
        "id": "w06gxTDE6PYI",
        "colab_type": "code",
        "colab": {}
      },
      "source": [
        "a_string = 'hello'\n",
        "print(type(a_string))\n",
        "a_string"
      ],
      "execution_count": null,
      "outputs": []
    },
    {
      "cell_type": "code",
      "metadata": {
        "id": "P-vfOKGl7Kq4",
        "colab_type": "code",
        "colab": {}
      },
      "source": [
        "# The None value\n",
        "age = None\n",
        "type(age)"
      ],
      "execution_count": null,
      "outputs": []
    },
    {
      "cell_type": "code",
      "metadata": {
        "id": "DWScuy-F9W7t",
        "colab_type": "code",
        "colab": {}
      },
      "source": [
        "name = 'Ahmed'\n",
        "name2 = \"Ahmed\"\n",
        "print(name)\n",
        "print(name2)"
      ],
      "execution_count": null,
      "outputs": []
    },
    {
      "cell_type": "code",
      "metadata": {
        "id": "_EeHOUOQ9gMd",
        "colab_type": "code",
        "colab": {}
      },
      "source": [
        "msg = \"lets test \"double quote\"\"\n",
        "msg"
      ],
      "execution_count": null,
      "outputs": []
    },
    {
      "cell_type": "code",
      "metadata": {
        "id": "W2b9cBTw9rJs",
        "colab_type": "code",
        "colab": {}
      },
      "source": [
        "msg = \"lets test 'double quote'\"\n",
        "msg"
      ],
      "execution_count": null,
      "outputs": []
    },
    {
      "cell_type": "code",
      "metadata": {
        "id": "fgKZ4D3P-EGy",
        "colab_type": "code",
        "colab": {}
      },
      "source": [
        "msg = 'lets test the \\nenter key'\n",
        "print(msg)"
      ],
      "execution_count": null,
      "outputs": []
    },
    {
      "cell_type": "code",
      "metadata": {
        "id": "T_g-jpGa-to8",
        "colab_type": "code",
        "colab": {}
      },
      "source": [
        "msg = 'test backslash \\'\n",
        "print(msg)"
      ],
      "execution_count": null,
      "outputs": []
    },
    {
      "cell_type": "code",
      "metadata": {
        "id": "WLxUIf1z-7Dv",
        "colab_type": "code",
        "colab": {}
      },
      "source": [
        "msg = 'test backslash \\\\'\n",
        "print(msg)"
      ],
      "execution_count": null,
      "outputs": []
    },
    {
      "cell_type": "code",
      "metadata": {
        "id": "Lh1KdIkK_FMM",
        "colab_type": "code",
        "colab": {}
      },
      "source": [
        "msg = 'test \\'hello\\' '\n",
        "print(msg)"
      ],
      "execution_count": null,
      "outputs": []
    },
    {
      "cell_type": "code",
      "metadata": {
        "id": "FhxfYA4Q_1Ru",
        "colab_type": "code",
        "colab": {}
      },
      "source": [
        "username = 'coder101'\n",
        "print(\"hello \" + username)"
      ],
      "execution_count": null,
      "outputs": []
    },
    {
      "cell_type": "code",
      "metadata": {
        "id": "6iUErzrsAA8K",
        "colab_type": "code",
        "colab": {}
      },
      "source": [
        "'a' + 'b' + 'c'"
      ],
      "execution_count": null,
      "outputs": []
    },
    {
      "cell_type": "code",
      "metadata": {
        "id": "74DeiG48AD9q",
        "colab_type": "code",
        "colab": {}
      },
      "source": [
        "8 + 'hell no'"
      ],
      "execution_count": null,
      "outputs": []
    },
    {
      "cell_type": "code",
      "metadata": {
        "id": "LKlhjVL2AIiE",
        "colab_type": "code",
        "colab": {}
      },
      "source": [
        "\"hell no \"*8"
      ],
      "execution_count": null,
      "outputs": []
    },
    {
      "cell_type": "code",
      "metadata": {
        "id": "VGtgYQtGAaVO",
        "colab_type": "code",
        "colab": {}
      },
      "source": [
        "x = 10\n",
        "print(f'this way is {x} time better than the other ways')"
      ],
      "execution_count": null,
      "outputs": []
    },
    {
      "cell_type": "code",
      "metadata": {
        "id": "GizRRaWKAxAC",
        "colab_type": "code",
        "colab": {}
      },
      "source": [
        "x = 'Lol'\n",
        "print(x[0])\n",
        "print(x[-1])\n",
        "print(x[0:2])\n",
        "print(x[1:3])\n",
        "print(x[:])\n",
        "print(x[3])"
      ],
      "execution_count": null,
      "outputs": []
    },
    {
      "cell_type": "code",
      "metadata": {
        "id": "oZBecA02Bapl",
        "colab_type": "code",
        "colab": {}
      },
      "source": [
        "y = 'more lols'\n",
        "print(y[0::2])"
      ],
      "execution_count": null,
      "outputs": []
    },
    {
      "cell_type": "code",
      "metadata": {
        "id": "6sz3bZj6CtK7",
        "colab_type": "code",
        "colab": {}
      },
      "source": [
        "num = 12.3\n",
        "print(type(num))\n",
        "num = int(num)\n",
        "print(num)\n",
        "print(type(num))"
      ],
      "execution_count": null,
      "outputs": []
    },
    {
      "cell_type": "markdown",
      "metadata": {
        "id": "eCpsXtIGGECH",
        "colab_type": "text"
      },
      "source": [
        "Milestone project: celsius to fahrenheit"
      ]
    },
    {
      "cell_type": "code",
      "metadata": {
        "id": "zUa9IhIHGnmd",
        "colab_type": "code",
        "colab": {}
      },
      "source": [
        "print(\"What is the Temperature in Celsius? \")\n",
        "tmp = input()\n",
        "tmp_f = (float(tmp) * (9/5) + 32)\n",
        "print(f'That is Equal to {tmp_f} F')\n",
        "# print(f'That is Equal to {round(tmp_f,2)} F')"
      ],
      "execution_count": null,
      "outputs": []
    }
  ]
}