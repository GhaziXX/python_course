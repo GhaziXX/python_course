{
 "metadata": {
  "language_info": {
   "codemirror_mode": {
    "name": "ipython",
    "version": 3
   },
   "file_extension": ".py",
   "mimetype": "text/x-python",
   "name": "python",
   "nbconvert_exporter": "python",
   "pygments_lexer": "ipython3",
   "version": 3
  },
  "orig_nbformat": 2,
  "kernelspec": {
   "name": "python_defaultSpec_1596890007920",
   "display_name": "Python 3.7.7 64-bit ('tensorflow': conda)"
  }
 },
 "nbformat": 4,
 "nbformat_minor": 2,
 "cells": [
  {
   "cell_type": "code",
   "execution_count": null,
   "metadata": {},
   "outputs": [],
   "source": [
    "# Section 8"
   ]
  },
  {
   "cell_type": "code",
   "execution_count": null,
   "metadata": {},
   "outputs": [],
   "source": [
    "\"\"\"At the top of the file is some starter code that randomly picks a number between 1 and 10, and saves it to a variable called choice.  Don't touch those lines! (please)\n",
    "Your job is to write a simple conditional to check if choice is 7. if choise is 7, print out 'lucky'. Otherwise, print out 'unlucky' \"\"\"\n",
    "\n",
    "# NO TOUCHING PLEASE---------------\n",
    "from random import randint\n",
    "choice = randint(1,10)\n",
    "# NO TOUCHING PLEASE---------------\n",
    "\n",
    "# YOUR CODE GOES HERE:\n"
   ]
  },
  {
   "cell_type": "code",
   "execution_count": null,
   "metadata": {},
   "outputs": [],
   "source": [
    "\"\"\" You will be provided with a random number in a variable called num.\n",
    "Use a conditional statement to check if the number is odd. If num is odd, print \"odd\". Otherwise print \"even\". \"\"\"\n",
    "\n",
    "# NO TOUCHING\n",
    "from random import randint\n",
    "num = randint(1, 1000) #picks random number from 1-1000\n",
    "\n",
    "# YOUR CODE GOES HERE:"
   ]
  },
  {
   "cell_type": "code",
   "execution_count": null,
   "metadata": {},
   "outputs": [],
   "source": [
    "\"\"\"I've written some code at the top of the file for you. Please don't touch it, if you'd like the tests to work :)   All the code does is randomly set the food  variable to either 'apple','grape', 'bacon', 'steak', 'worm', or 'dirt'.   Don't worry about how it works for now, we'll learn more shortly.\n",
    "\n",
    "When you run the prewritten code, food will be randomly assigned.  You task is to write code that will classify what food is.  \n",
    "\n",
    "If food is set to either 'apple' or 'grape', your code should print 'fruit'.\n",
    "If food is set to either 'bacon' or 'steak', your code should print 'meat'\n",
    "If food is set to either 'dirt' or 'worm' your code should print 'yuck' \"\"\"\n",
    "\n",
    "\n",
    "# NO TOUCHING\n",
    "from random import choice\n",
    "food = choice(['apple','grape', 'bacon', 'steak', 'worm', 'dirt'])\n",
    "\n",
    "# YOUR CODE GOES HERE\n",
    "\n"
   ]
  },
  {
   "cell_type": "code",
   "execution_count": null,
   "metadata": {},
   "outputs": [],
   "source": [
    "\"\"\" In this exercise x  and y  are two random variables.  The code at the top of the file randomly assigns them (we'll learn how it works later on).  For now, just leave it alone :)\n",
    "\n",
    "If both are positive numbers, print \"both positive\". \n",
    "If both are negative, print \"both negative\". \n",
    "Otherwise, tell us which one is positive and which one is negative, e.g. \"x is positive and y is negative\"\n",
    "The print statements are filled in for you, just add logic. \n",
    "\n",
    "For the tests to pass, don't change the print statements!\"\"\""
   ]
  },
  {
   "cell_type": "code",
   "execution_count": null,
   "metadata": {},
   "outputs": [],
   "source": [
    "\"\"\"In this exercise you will be given a few variables that will be set randomly to Boolean values (True  or False ):\n",
    "\n",
    "actually_sick  - when you legit have the flu!\n",
    "kinda_sick  - you're feeling under the weather and it's enough to treat yoself with a day off if you can spare it\n",
    "hate_your_job  - work sucks, I know... \n",
    "You're also given a random number of sick_days between 0 and 10.\n",
    "\n",
    "Finally, there is a variable called calling_in_sick  that you must set to True  or False  based on the following scenarios:\n",
    "\n",
    "Set to True if: \n",
    "\n",
    "you're actually_sick  and you have sick_days  remaining\n",
    "you're kinda_sick  and hate_your_job  and you have sick_days  remaining\n",
    "Otherwise, set to False.\n",
    "\n",
    "The tests check that the value of calling_in_sick  is correct based on the conditions specified above.\"\"\"\n",
    "\n",
    "# NO TOUCHING\n",
    "\n",
    "from random import choice, randint\n",
    "\n",
    "# randomly assigns values to these four variables\n",
    "actually_sick = choice([True, False])\n",
    "kinda_sick = choice([True, False])\n",
    "hate_your_job = choice([True, False])\n",
    "sick_days = randint(0, 10)\n",
    "\n",
    "calling_in_sick = None  # set this to True or False with Boolean Logic and Conditionals!\n",
    "\n",
    "# YOUR CODE GOES HERE \n",
    "\n"
   ]
  },
  {
   "cell_type": "code",
   "execution_count": null,
   "metadata": {},
   "outputs": [],
   "source": [
    "# Section 10"
   ]
  },
  {
   "cell_type": "code",
   "execution_count": null,
   "metadata": {},
   "outputs": [],
   "source": [
    "\"\"\" Use a for loop to add up every odd number from 10 to 20 (inclusive) and store the result in the variable x .  \n",
    "\n",
    "You could cheat and just figure this out using a calculator, but...that would defeat the whole point of this course.\n",
    "\n",
    "Can I put emoji in here? Let's see...🤗 It works!!! \"\"\""
   ]
  },
  {
   "cell_type": "code",
   "execution_count": null,
   "metadata": {},
   "outputs": [],
   "source": [
    "\"\"\" While loops are really hard for me to write tests for(until we learn about things like lists), so this exercise is a bit tricky to explain. :(   Here's the main idea:\n",
    "\n",
    "Use a while loop to generate a random number between 1 and 10 until you get the number 5. Every time the loop runs, increment the variable i .\n",
    "\n",
    "Here are more detailed steps:\n",
    "\n",
    "Generate a random number between 1 and 10 using randint(1, 10) , storing the result in the number variable\n",
    "Write a while loop to keep regenerating a new random number between 1 and 10 while the random number is not equal to 5.\n",
    "In order for my tests to work, please add 1 to i  each time through the loop.  My tests use this variable to check how many times your loops runs.\n",
    "\"\"\""
   ]
  },
  {
   "cell_type": "code",
   "execution_count": null,
   "metadata": {},
   "outputs": [],
   "source": [
    "# Section 12"
   ]
  },
  {
   "cell_type": "code",
   "execution_count": null,
   "metadata": {},
   "outputs": [],
   "source": [
    "\"\"\"It's time to create your own lists.  Define 2 separate lists: \n",
    "\n",
    "First, define a list called my_stuff .  It must be be at least 4 elements long.  The data is completely up to you, but it must contain at least 1 string and 1 float. \n",
    "Next, define a list called nums . It should be a list containing all the numbers between 1 and 99 (including 99).  Don't type this out manually! Use what we learned at the end of the previous video!\"\"\""
   ]
  },
  {
   "cell_type": "code",
   "execution_count": null,
   "metadata": {},
   "outputs": [],
   "source": [
    "\"\"\" I'm having a party, and made a list of people I want to invite.  Unfortunately, I'm a terrible friend and made a couple of spelling errors.  Help me correct them!\n",
    "\n",
    "Change \"Hanna\" to \"Hannah\" (there should be an 'h' at the end)\n",
    "Change \"Geoffrey\" to \"Jeffrey\"\n",
    "Change \"aparna\" to \"Aparna\" (capitalize it) \"\"\"\n",
    "\n",
    "people = [\"Hanna\",\"Louisa\",\"Claudia\", \"Angela\",\"Geoffrey\", \"aparna\"]"
   ]
  },
  {
   "cell_type": "code",
   "execution_count": null,
   "metadata": {},
   "outputs": [],
   "source": [
    "\"\"\" I've given you a list called sounds .  It looks like this:\n",
    "\n",
    "sounds = [\"super\", \"cali\", \"fragil\", \"istic\", \"expi\", \"ali\", \"docious\"] \n",
    "\n",
    "Write code that loops over the list and adds all the strings together to form one large combined string (don't add any spaces between them) \n",
    "The combined string should be in all UPPERCASE as well \n",
    "Save the result in a variable called result  \"\"\"\n",
    "\n",
    "sounds = [\"super\", \"cali\", \"fragil\", \"istic\", \"expi\", \"ali\", \"docious\"]"
   ]
  },
  {
   "cell_type": "code",
   "execution_count": null,
   "metadata": {},
   "outputs": [],
   "source": [
    "# Create a list called instructors\n",
    "\n",
    "# Add the following strings to the instructors list \n",
    "    # \"Colt\"\n",
    "    # \"Blue\"\n",
    "    # \"Lisa\"\n",
    "\n",
    "# Remove the last value in the list\n",
    "\n",
    "# Remove the first value in the list\n",
    "\n",
    "# Add the string \"Done\" to the beginning of the list\n",
    "\n",
    "# Run the tests to make sure you've done this correctly!\n"
   ]
  },
  {
   "cell_type": "code",
   "execution_count": null,
   "metadata": {},
   "outputs": [],
   "source": [
    "# Section 13"
   ]
  },
  {
   "cell_type": "code",
   "execution_count": null,
   "metadata": {},
   "outputs": [],
   "source": [
    "\"\"\" Given a list [\"Elie\", \"Tim\", \"Matt\"], create a variable called answer, which is a new list containing the first letter of each name in the list.  I would use a list comprehension, though you could also loop over manually.\n",
    "\n",
    "Given a list [1,2,3,4,5,6], create a new variable called answer2, which is a new list of all the even values.  Another good candidate for a list comp. \"\"\""
   ]
  },
  {
   "cell_type": "code",
   "execution_count": null,
   "metadata": {},
   "outputs": [],
   "source": [
    "\"\"\" 1. Given two lists [1,2,3,4] and [3,4,5,6], create a variable called answer, which is a new list that is the intersection of the two. Your output should be [3,4] .  Hint: use the in  operator to test whether an element is in a list.  For example:  5 in [1,5,2]  is True.  3 in [1,5,2]  is False.\n",
    "\n",
    "2. Given a list of words [\"Elie\", \"Tim\", \"Matt\"] create a variable called answer2, which is a new list with each word reversed and in lower case (use a slice to do the reversal!) Your output should be ['eile', 'mit', 'ttam'] \"\"\""
   ]
  },
  {
   "cell_type": "code",
   "execution_count": null,
   "metadata": {},
   "outputs": [],
   "source": [
    "\"\"\" For all the numbers between 1 and 100(including 100), create a variable called answer, which contains a list with all the numbers that are divisible by 12.  (12, 24, etc)\n",
    "\n",
    "USE A LIST COMPREHENSION. \"\"\""
   ]
  },
  {
   "cell_type": "code",
   "execution_count": null,
   "metadata": {},
   "outputs": [],
   "source": [
    "\"\"\" Given the string \"amazing\", create a variable called answer, which is a list containing all the letters from \"amazing\" but not the vowels (a, e, i, o, and u).  The answer should look like: ['m', 'z', 'n', 'g'].\n",
    "\n",
    "Use a list comprehension! \"\"\""
   ]
  },
  {
   "cell_type": "code",
   "execution_count": null,
   "metadata": {},
   "outputs": [],
   "source": [
    "\"\"\" Using a nested list comprehension and range(), create a variable called answer  with the following value - [[0, 1, 2], [0, 1, 2], [0, 1, 2]] .  To break it down...start by using range and a list comp to generate the list [0,1,2].  And then repeat that whole thing 3 times in a nested list comp.  It's all a bit tricky to discuss, so maybe it's just best to look at the solution if you get stuck.  \"\"\""
   ]
  },
  {
   "cell_type": "code",
   "execution_count": null,
   "metadata": {},
   "outputs": [],
   "source": [
    "\"\"\" One More Nested List Comp Challenge\n",
    "Using list comprehension, create a variable called answer with the following value :\n",
    "\n",
    "[\n",
    " [0, 1, 2, 3, 4, 5, 6, 7, 8, 9],\n",
    " [0, 1, 2, 3, 4, 5, 6, 7, 8, 9],\n",
    " [0, 1, 2, 3, 4, 5, 6, 7, 8, 9],\n",
    " [0, 1, 2, 3, 4, 5, 6, 7, 8, 9],\n",
    " [0, 1, 2, 3, 4, 5, 6, 7, 8, 9],\n",
    " [0, 1, 2, 3, 4, 5, 6, 7, 8, 9],\n",
    " [0, 1, 2, 3, 4, 5, 6, 7, 8, 9],\n",
    " [0, 1, 2, 3, 4, 5, 6, 7, 8, 9],\n",
    " [0, 1, 2, 3, 4, 5, 6, 7, 8, 9],\n",
    " [0, 1, 2, 3, 4, 5, 6, 7, 8, 9]\n",
    " ]\n",
    "it's a 10x10 nested list.  10 rows, each row contains the numbers 0-9.   Don't worry about the formatting/spacing, I just added a bunch of returns to make things clearer. Your answer will be all on one giant line. Use nested list comprehension and range() to accomplish this. \"\"\""
   ]
  },
  {
   "cell_type": "code",
   "execution_count": null,
   "metadata": {},
   "outputs": [],
   "source": [
    "# Section 14"
   ]
  },
  {
   "cell_type": "code",
   "execution_count": null,
   "metadata": {},
   "outputs": [],
   "source": [
    "\"\"\" Create a dictionary called user_info  and add at least 3 key value pairs to it (totally up to you what they are) \"\"\""
   ]
  },
  {
   "cell_type": "code",
   "execution_count": null,
   "metadata": {},
   "outputs": [],
   "source": [
    "\"\"\" Given the dictionary below:\n",
    "\n",
    "artist = {\n",
    "    \"first\": \"Neil\",\n",
    "    \"last\": \"Young\",\n",
    "}\n",
    "Declare a variable called full_name  that is equal to artist's first  and last  names with a space between. You must reference the values associated with those keys in the artist dictionary.\n",
    "\n",
    "print(full_name)\n",
    "# Neil Young \"\"\"\n",
    "\n",
    "artist = {\n",
    "    \"first\": \"Neil\",\n",
    "    \"last\": \"Young\",\n",
    "}"
   ]
  },
  {
   "cell_type": "code",
   "execution_count": null,
   "metadata": {},
   "outputs": [],
   "source": [
    "\"\"\" Given the provided dictionary of donations:\n",
    "\n",
    "donations = dict(sam=25.0, lena=88.99, chuck=13.0, linus=99.5, stan=150.0, lisa=50.25, harrison=10.0) \n",
    "\n",
    "Use a loop to calculate the total value of the donations.  Save the result to a variable called total_donations \"\"\""
   ]
  },
  {
   "cell_type": "code",
   "execution_count": null,
   "metadata": {},
   "outputs": [],
   "source": [
    "\"\"\" For this exercise, I've defined some code for you already.\n",
    "\n",
    "The food  variable will store a randomly chosen food string like \"gummy bear\" or \"morning bun\".  Some of these items are in the bakery_stock  dictionary, and some are not.\n",
    "\n",
    "Your task is to simply print out a string depending on if food  is a value in bakery_stock .If food  is contained in bakery_stock  print out a string that states how many items are left: \"3 left\" if food is \"toffee cookie\" or \"1 left\" if food is \"morning bun\", etc.\n",
    "\n",
    "If food is not contained in bakery_stock  (like \"gummy bear\"), print out \"We don't make that\" \"\"\"\n",
    "\n",
    "# This code picks a random food item:\n",
    "from random import choice \n",
    "food = choice([\"cheese pizza\", \"quiche\",\"morning bun\",\"gummy bear\",\"tea cake\"])\n",
    "\n",
    "bakery_stock = {\n",
    "    \"almond croissant\" : 12,\n",
    "    \"toffee cookie\": 3,\n",
    "    \"morning bun\": 1,\n",
    "    \"chocolate chunk cookie\": 9,\n",
    "    \"tea cake\": 25\n",
    "}\n",
    "\n",
    "# YOUR CODE GOES BELOW:\n"
   ]
  },
  {
   "cell_type": "code",
   "execution_count": null,
   "metadata": {},
   "outputs": [],
   "source": [
    "\"\"\" Imagine we're creating a video game and want to model the initial starting-state of our game.  I've provided you with a list of strings called game_properties.\n",
    "\n",
    "Use dict.fromkeys  to generate a new dictionary using the provided game_properties  list.  Initialize all values to 0 .  \n",
    "\n",
    "Save the result in a variable called initial_game_state \n",
    "\n",
    "HINT: the end result should look like this:\n",
    "\n",
    "{'current_score': 0, 'high_score': 0, 'number_of_lives': 0, 'items_in_inventory': 0, 'power_ups': 0, 'ammo': 0, 'enemies_on_screen': 0, 'enemy_kills': 0, 'enemy_kill_streaks': 0, 'minutes_played': 0, 'notifications': 0, 'achievements': 0} \"\"\"\n",
    "\n",
    "game_properties = [\"current_score\", \"high_score\", \"number_of_lives\", \"items_in_inventory\", \"power_ups\", \"ammo\", \"enemies_on_screen\", \"enemy_kills\", \"enemy_kill_streaks\", \"minutes_played\", \"notifications\", \"achievements\"] \n",
    "\n",
    "# Use the game_properties list and dict.fromkeys() to generate a dictionary with all values set to 0. Save the result to a variable called initial_game_state\n"
   ]
  },
  {
   "cell_type": "code",
   "execution_count": null,
   "metadata": {},
   "outputs": [],
   "source": [
    "\"\"\" I've provided you with a start dictionary called inventory. \n",
    "\n",
    "inventory = {'croissant': 19, 'bagel': 4, 'muffin': 8, 'cake': 1} #DON'T CHANGE THIS LINE! \n",
    "\n",
    "Follow the instructions found in the comments:\n",
    "\n",
    "1. Make a copy of inventory  and save it to a variable called stock_list  using a dictionary method we've covered\n",
    "\n",
    "2. Add the value 18 to stock_list  under the key \"cookie\"\n",
    "\n",
    "3. Remove 'cake' from stock_list  using a dictionary method we've learned \"\"\"\n",
    "\n",
    "inventory = {'croissant': 19, 'bagel': 4, 'muffin': 8, 'cake': 1}\n",
    "\n",
    "# Make a copy of inventory and save it to a variable called stock_list USE A DICTIONARY METHOD\n",
    "\n",
    "\n",
    "\n",
    "# add the value 18 to stock_list under the key \"cookie\"\n",
    "\n",
    "\n",
    "\n",
    "# remove 'cake' from stock_list USE A DICTIONARY METHOD\n"
   ]
  },
  {
   "cell_type": "code",
   "execution_count": null,
   "metadata": {},
   "outputs": [],
   "source": [
    "# Section 15"
   ]
  },
  {
   "cell_type": "code",
   "execution_count": null,
   "metadata": {},
   "outputs": [],
   "source": [
    "\"\"\" Given two lists [\"CA\", \"NJ\", \"RI\"] and [\"California\", \"New Jersey\", \"Rhode Island\"] create a dictionary that looks like this {'CA': 'California', 'NJ': 'New Jersey', 'RI': 'Rhode Island'}. Save it to a variable called answer.\n",
    "\n",
    "I expect you to do this with a dictionary comprehension, but you can also use a built-in function called zip .  We cover it later in the course. \"\"\"\n",
    "\n",
    "list1 = [\"CA\", \"NJ\", \"RI\"]\n",
    "list2 = [\"California\", \"New Jersey\", \"Rhode Island\"]\n",
    "\n",
    "answer = {}"
   ]
  },
  {
   "cell_type": "code",
   "execution_count": null,
   "metadata": {},
   "outputs": [],
   "source": [
    "\"\"\" Given a person variable:\n",
    "\n",
    "person = [[\"name\", \"Jared\"], [\"job\", \"Musician\"], [\"city\", \"Bern\"]] \n",
    "\n",
    "Create a dictionary called answer , that makes each first item in each list a key and the second item a corresponding value.  That's a terrible explanation.  I think it'll be easier if you just look at the end goal:\n",
    "\n",
    "{'name': 'Jared', 'job': 'Musician', 'city': 'Bern'} \n",
    "\n",
    "There are many potential solutions for this. \"\"\"\n",
    "\n",
    "person = [[\"name\", \"Jared\"], [\"job\", \"Musician\"], [\"city\", \"Bern\"]]\n"
   ]
  },
  {
   "cell_type": "code",
   "execution_count": null,
   "metadata": {},
   "outputs": [],
   "source": [
    "\"\"\" Create a dictionary with the key as a vowel in the alphabet and the value as 0. Your dictionary should look like this {'a': 0, 'e': 0, 'i': 0, 'o': 0, 'u': 0}.\n",
    "\n",
    "Do this programmatically (using a dict comprehension or dict method) rather than hard coding the answer! \"\"\""
   ]
  },
  {
   "cell_type": "code",
   "execution_count": null,
   "metadata": {},
   "outputs": [],
   "source": [
    "# Section 16"
   ]
  },
  {
   "cell_type": "code",
   "execution_count": null,
   "metadata": {},
   "outputs": [],
   "source": [
    "# 1 - Create a variable called numbers which is a tuple with the the values 1, 2, 3 and 4 inside.\n",
    "\n",
    "\n",
    "# 2 - Create a variable called value which is a tuple with the the value 1 inside.\n",
    "\n",
    "\n",
    "# 3 - Given the following variable:\n",
    "\n",
    "values = [10,20,30]\n",
    "\n",
    "# Create a variable called static_values which is the result of the values variable converted to a tuple\n",
    "\n",
    "\n",
    "# 4 - Given the following variable\n",
    "\n",
    "stuff = [1,3,1,5,2,5,1,2,5]\n",
    "\n",
    "# Create a variable called unique_stuff which is a set of only the unique values in the stuff list\n"
   ]
  },
  {
   "cell_type": "code",
   "execution_count": null,
   "metadata": {},
   "outputs": [],
   "source": [
    "# Section 17"
   ]
  },
  {
   "cell_type": "code",
   "execution_count": null,
   "metadata": {},
   "outputs": [],
   "source": [
    "\"\"\"Define a function named make_noise  that prints \"THE CROWD GOES WILD\" (make sure you spell it exactly the same).  Execute it once at the bottom of your file.\"\"\"\n"
   ]
  },
  {
   "cell_type": "code",
   "execution_count": null,
   "metadata": {},
   "outputs": [],
   "source": [
    "\"\"\"Write a function called speak_pig that returns 'Nice'.  Yup, that's it.\"\"\""
   ]
  },
  {
   "cell_type": "code",
   "execution_count": null,
   "metadata": {},
   "outputs": [],
   "source": [
    "\"\"\" This exercise is a little harder than the previous make_noise  function. \n",
    "\n",
    "Write a function called generate_evens  that returns a list of the even numbers between 1 and 50(not including 50). \n",
    "Basically, it should return a list: [2,4,6....all the way up to 48] \n",
    "Inside the function, you can construct the list using either a loop OR list comprehension.\n",
    "You do not need to call the function in this exercise, defining it is enough.\"\"\""
   ]
  },
  {
   "cell_type": "code",
   "execution_count": null,
   "metadata": {},
   "outputs": [],
   "source": [
    "\"\"\"Implement a function yell  which accepts a single string argument.  It should return(not print) an uppercased version of the string with an exclamation point aded at the end.  For example:\n",
    "\n",
    "yell(\"go away\")   # \"GO AWAY!\"\n",
    "\n",
    "yell(\"leave me alone\")   # \"LEAVE ME ALONE!\" \"\"\"\n"
   ]
  },
  {
   "cell_type": "code",
   "execution_count": null,
   "metadata": {},
   "outputs": [],
   "source": [
    "\"\"\" The pre-written count_dollar_signs  function is broken.   It's supposed to return the number of $ characters in a given string.  For example: count_dollar_signs(\"$uper $ize\")  should return 2 .  But for some reason, the function always returns either 0 or 1. What's going on?\n",
    "\n",
    "Without adding any new lines (just move existing code around), make it work as intended. \"\"\"\n",
    "\n",
    "# Without adding any new lines of code, make count_dollar_signs work as intended\n",
    "def count_dollar_signs(word):\n",
    "    count = 0\n",
    "    for char in word:\n",
    "        if char == '$':\n",
    "            count += 1\n",
    "        return count"
   ]
  },
  {
   "cell_type": "code",
   "execution_count": null,
   "metadata": {},
   "outputs": [],
   "source": [
    "\"\"\"Write a function called speak  that accepts a single parameter, animal.  \n",
    "\n",
    "If animal is \"pig\", it should return \"oink\". \n",
    "If animal is \"duck\", it should return \"quack\".  \n",
    "If animal is \"cat\", it should return \"meow\"\n",
    "If animal is \"dog\", it should return \"woof\"\n",
    "If animal is anything else, it should return \"?\"\n",
    "If no animal is specified, it should default to \"dog\"\n",
    "\n",
    "\n",
    "speak()  # \"woof\"\n",
    "speak(\"pig\")  # \"oink\"\n",
    "speak(\"duck\")  # \"quack\"\n",
    "speak(\"cat\")  # \"meow\"\n",
    "speak(\"dog\")  # \"woof\"\n",
    "speak(\"banana\")  # \"?\"\n",
    "\"\"\""
   ]
  },
  {
   "cell_type": "code",
   "execution_count": null,
   "metadata": {},
   "outputs": [],
   "source": [
    "# Section 18"
   ]
  },
  {
   "cell_type": "code",
   "execution_count": null,
   "metadata": {},
   "outputs": [],
   "source": [
    "\"\"\" Write a function called product that accepts two parameters and returns the product of the two parameters (multiply them together) \"\"\""
   ]
  },
  {
   "cell_type": "code",
   "execution_count": null,
   "metadata": {},
   "outputs": [],
   "source": [
    "\"\"\" Write a function called return_day. this function takes in one parameter (a number from 1-7) and returns the day of the week (1 is Sunday, 2 is Monday, 3 is Tuesday etc.). If the number is less than 1 or greater than 7, the function should return None\n",
    "\n",
    "Hint: store the days of the week in a list (or dict using numbers as keys). \"\"\"\n",
    "\n",
    "'''\n",
    "return_day(1) # \"Sunday\"\n",
    "return_day(2) # \"Monday\"\n",
    "return_day(3) # \"Tuesday\"\n",
    "return_day(4) # \"Wednesday\"\n",
    "return_day(5) # \"Thursday\"\n",
    "return_day(6) # \"Friday\"\n",
    "return_day(7) # \"Saturday\"\n",
    "return_day(41) # None\n",
    "'''\n",
    "\n",
    "def return_day():\n",
    "    pass"
   ]
  },
  {
   "cell_type": "code",
   "execution_count": null,
   "metadata": {},
   "outputs": [],
   "source": [
    "\"\"\" Write a function called last_element. This function takes in one parameter (a list) and returns the last value in the list. It should return None if the list is empty. \"\"\""
   ]
  },
  {
   "cell_type": "code",
   "execution_count": null,
   "metadata": {},
   "outputs": [],
   "source": [
    "\"\"\" Write a function called number_compare. This function takes in two parameters (both numbers). If the first is greater than the second, this function returns \"First is greater\" If the second number is greater than the first, the function returns \"Second is greater.\" Otherwise the function returns \"Numbers are equal\" \"\"\"\n",
    "\n",
    "'''\n",
    "number_compare(1,1) # \"Numbers are equal\"\n",
    "number_compare(1,0) # \"First is greater\"\n",
    "number_compare(2,4) # \"Second is greater\"\n",
    "'''\n",
    "\n",
    "def number_compare():\n",
    "    pass\n"
   ]
  },
  {
   "cell_type": "code",
   "execution_count": null,
   "metadata": {},
   "outputs": [],
   "source": [
    "\"\"\" Write a function called single_letter_count. This function takes in two parameters (two strings). The first parameter should be a word and the second should be a letter. The function returns the number of times that letter appears in the word. The function should be case insensitive (does not matter if the input is lowercase or uppercase). If the letter is not found in the word, the function should return 0.  \n",
    "\n",
    "Hint: take advantage of count() method \"\"\""
   ]
  },
  {
   "cell_type": "code",
   "execution_count": null,
   "metadata": {},
   "outputs": [],
   "source": [
    "\"\"\" Write a function called multiple_letter_count. This function takes in one parameter (a string) and returns a dictionary with the keys being the letters and the values being the count of the letter.  Hint: use a dictionary comprehension and count(). \n",
    "\n",
    "Here's how it should work:\n",
    "\n",
    "multiple_letter_count(\"awesome\")   # {'a': 1, 'e': 2, 'm': 1, 'o': 1, 's': 1, 'w': 1} \"\"\""
   ]
  },
  {
   "cell_type": "code",
   "execution_count": null,
   "metadata": {},
   "outputs": [],
   "source": [
    "\"\"\" Write a function called list_manipulation. This function should take in four parameters (a list, command, location and value).\n",
    "\n",
    "If the command is \"remove\" and the location is \"end\", the function should remove the last value in the list and return the value removed\n",
    "If the command is \"remove\" and the location is \"beginning\", the function should remove the first value in the list and return the value removed\n",
    "If the command is \"add\" and the location is \"beginning\", the function should add the value (fourth parameter) to the beginning of the list and return the list\n",
    "If the command is \"add\" and the location is \"end\", the function should add the value (fourth parameter) to the end of the list and return the list \"\"\""
   ]
  },
  {
   "cell_type": "code",
   "execution_count": null,
   "metadata": {},
   "outputs": [],
   "source": [
    "\"\"\" Write a function called is_palindrome. A Palindrome is a word, phrase, number, or other sequence of characters which reads the same backward or forward. This function should take in one parameter and returns True or False depending on whether it is a palindrome. As a bonus, allow your function to ignore whitespace and capitalization so that is_palindrome('a man a plan a canal Panama') returns True. \"\"\""
   ]
  },
  {
   "cell_type": "code",
   "execution_count": null,
   "metadata": {},
   "outputs": [],
   "source": [
    "\"\"\" Write a function called frequency. This function accepts a list and a search_term (this will always be a primitive value) and returns the number of times the search_term appears in the list. \"\"\""
   ]
  },
  {
   "cell_type": "code",
   "execution_count": null,
   "metadata": {},
   "outputs": [],
   "source": [
    "\"\"\" Write a function called multiply_even_numbers. This function accepts a list of numbers and returns the product of all even numbers in the list. \"\"\""
   ]
  },
  {
   "cell_type": "code",
   "execution_count": null,
   "metadata": {},
   "outputs": [],
   "source": [
    "\"\"\" Write a function called capitalize. This function accepts a string and returns the same string with the first letter capitalized.  You may want to use slices to help you out. \"\"\""
   ]
  },
  {
   "cell_type": "code",
   "execution_count": null,
   "metadata": {},
   "outputs": [],
   "source": [
    "\"\"\" Write a function called compact. This function accepts a list and returns a list of values that are truthy values, without any of the falsey values.\n",
    "\n",
    "compact([0,1,2,\"\",[], False, {}, None, \"All done\"])     # [1,2, \"All done\"] \"\"\""
   ]
  },
  {
   "cell_type": "code",
   "execution_count": null,
   "metadata": {},
   "outputs": [],
   "source": [
    "\"\"\" Write a function called intersection. This function should accept two lists and return a list with the values that are in both input lists.\n",
    "\n",
    "intersection([1,2,3], [2,3,4])    #[2,3]\n",
    "intersection(['a','b','z'], ['x','y','z']) .  # ['z'] \"\"\""
   ]
  },
  {
   "cell_type": "code",
   "execution_count": null,
   "metadata": {},
   "outputs": [],
   "source": [
    "\"\"\" Write a function called partition. This function accepts a list and a callback function (which you can assume returns True  or False  ). \n",
    "\n",
    "The function should iterate over each element in the list and invoke the callback function at each iteration. \n",
    "\n",
    "If the result of the callback function is True , the element should go into the first list (i.e. the \"truthy\" list).\n",
    "If the result of the callback function is False , the element should go into the second list (i.e. the \"falsy\" list).\n",
    "When it's finished, partition should return both lists inside of one larger list, like so:\n",
    "\n",
    "[truthy_list, falsy_list] \"\"\"\n",
    "\n",
    "\n",
    "'''\n",
    "def isEven(num):\n",
    "    return num % 2 == 0\n",
    "\n",
    "partition([1,2,3,4], isEven) # [[2,4],[1,3]]\n",
    "'''\n",
    "\n",
    "def partition():\n",
    "    pass"
   ]
  },
  {
   "cell_type": "code",
   "execution_count": null,
   "metadata": {},
   "outputs": [],
   "source": [
    "# Section 19"
   ]
  },
  {
   "cell_type": "code",
   "execution_count": null,
   "metadata": {},
   "outputs": [],
   "source": [
    "\"\"\" Define a function contains_purple  that accepts any number of arguments.  It should return True  if any of the arguments are \"purple\" (all lowercase). Otherwise, it should return False .  For example:\n",
    "\n",
    "contains_purple(25, \"purple\")   #True\n",
    "\n",
    "contains_purple(\"green\", False, 37, \"blue\", \"hello world\")   #False\n",
    "\n",
    "contains_purple(\"purple\")   #True\n",
    "\n",
    "contains_purple(\"a\", 99, \"blah blah blah\", 1, True, False, \"purple\")   #True\n",
    "\n",
    "contains_purple(1,2,3)  #False\n",
    "\n",
    "Always remember, purple is the best color on this earth.  All hail purple. \"\"\""
   ]
  },
  {
   "cell_type": "code",
   "execution_count": null,
   "metadata": {},
   "outputs": [],
   "source": [
    "\"\"\"\n",
    "Write a function called combine_words  which accepts a single string called word and any number of additional key word arguments.  If a prefix is provided, return the prefix followed by the word.  If a suffix is provided, return the word followed by the suffix.  If neither is provided, just return the word.  It might sound confusing, but the examples should make this a lot clearer!\n",
    "\n",
    "combine_words(\"child\")  #'child'\n",
    "\n",
    "combine_words(\"child\", prefix=\"man\")  #'manchild'\n",
    "\n",
    "combine_words(\"child\", suffix=\"ish\")  #'childish'\n",
    "\n",
    "combine_words(\"work\", suffix=\"er\")  #'worker'\n",
    "\n",
    "combine_words(\"work\", prefix=\"home\")  #'homework' \"\"\""
   ]
  },
  {
   "cell_type": "code",
   "execution_count": null,
   "metadata": {},
   "outputs": [],
   "source": [
    "\"\"\" This time I've defined a function for you. It's called count_sevens ,and you need to call it twice.  \n",
    "\n",
    "First, call it with the arguments 1,4, and 7 and save the result to a variable called result1.  \n",
    "Next, call the same count_sevens function, passing in all the numbers contained in the nums list as individual arguments (unpack the list).  Save the result to a variable called result2 .\"\"\"\n",
    "\n",
    "def count_sevens(*args):\n",
    "    return args.count(7)\n",
    "\n",
    "nums = [90,1,35,67,89,20,3,1,2,3,4,5,6,9,34,46,57,68,79,12,23,34,55,1,90,54,34,76,8,23,34,45,56,67,78,12,23,34,45,56,67,768,23,4,5,6,7,8,9,12,34,14,15,16,17,11,7,11,8,4,6,2,5,8,7,10,12,13,14,15,7,8,7,7,345,23,34,45,56,67,1,7,3,6,7,2,3,4,5,6,7,8,9,8,7,6,5,4,2,1,2,3,4,5,6,7,8,9,0,9,8,7,8,7,6,5,4,3,2,1,7]\n",
    "\n",
    "# Write your code below:\n"
   ]
  },
  {
   "cell_type": "code",
   "execution_count": null,
   "metadata": {},
   "outputs": [],
   "source": [
    "\"\"\" Oh boy, this is a complicated set of instructions.  Bear with me. Write a function called calculate that accepts a list of keyword arguments\n",
    "\n",
    "make_float , a boolean which returns a float if True or an integer if False.\n",
    "\n",
    "operation which is either 'add', 'subtract', 'multiply', and 'divide'. \n",
    "\n",
    "first which is a number, second , which is another number, and message which is a string that can be added.\n",
    "\n",
    "The function should return the result of actually running the specified operation with the first and second keyword arguments. The result of the operation with the first  and second  is an integer if the make_float  keyword argument is False , otherwise the result of the operation is a float. If a message is specified, it should return the message keyword argument + the result of the operation.  Otherwise, it should return the string  \"The result is \" joined with the result of the operation. \"\"\""
   ]
  },
  {
   "cell_type": "code",
   "execution_count": null,
   "metadata": {},
   "outputs": [],
   "source": [
    "# Section 20"
   ]
  },
  {
   "cell_type": "code",
   "execution_count": null,
   "metadata": {},
   "outputs": [],
   "source": [
    "\"\"\" Write a lambda that accepts a single number and cubes it. Save it in a variable called cube .\n",
    "\n",
    "cube(2)  # 8\n",
    "\n",
    "cube(3)  # 27\n",
    "\n",
    "cube(8)  # 512 \"\"\""
   ]
  },
  {
   "cell_type": "code",
   "execution_count": null,
   "metadata": {},
   "outputs": [],
   "source": [
    "\"\"\" Write a function called decrement_list  that accepts a single list of numbers as a parameter.  It should return a copy of the list where each item has been decremented by one. Use map to do this! For example:\n",
    "\n",
    "decrement_list([1,2,3])   #[0,1,2]\n",
    "\n",
    "decrement_list([20,14,11])  #[19,13,10]\n",
    "\n",
    "Tips:\n",
    "\n",
    "Remember map doesn't return a list on its own.  decrement_list , however, should return a list.\n",
    "You can either pass map another name function or use a lambda.  A lambda is preferable, even if it is a little scary looking. \"\"\""
   ]
  },
  {
   "cell_type": "code",
   "execution_count": null,
   "metadata": {},
   "outputs": [],
   "source": [
    "\"\"\" Write a function called remove_negatives that accepts a list of numbers and returns a copy of the lists with all negative numbers removed. Use filter() in your implementation, not a list comprehension!\n",
    "\n",
    "remove_negatives([-1,3,4,-99])     #[3,4]\n",
    "\n",
    "remove_negatives([-7,0,1,2,3,4,5])      #[0, 1, 2, 3, 4, 5]\n",
    "\n",
    "remove_negatives([50,60,70])   #[50,60,70]\n",
    "\n",
    "HINTS\n",
    "\n",
    "Make sure you return a list!  Remember filter does not return a list! You have to convert the result to a list yourself.\n",
    "Note that 0 is not considered negative, so it should not be filtered out! \"\"\""
   ]
  },
  {
   "cell_type": "code",
   "execution_count": null,
   "metadata": {},
   "outputs": [],
   "source": [
    "\"\"\" Implement a function is_all_strings  that accepts a single iterable and returns True if it contains ONLY strings.  Otherwise, it should return false.  \n",
    "\n",
    "is_all_strings(['a', 'b', 'c'])  #True\n",
    "\n",
    "is_all_strings([2,'a', 'b', 'c'])  #False\n",
    "\n",
    "is_all_strings(('hello', 'goodbye'))  #True \"\"\""
   ]
  },
  {
   "cell_type": "code",
   "execution_count": null,
   "metadata": {},
   "outputs": [],
   "source": [
    "\"\"\" Write a function called extremes  which accepts an iterable. It should return a tuple containing the minimum and maximum elements.  For example:\n",
    "\n",
    "extremes([1,2,3,4,5])  # (1, 5)\n",
    "\n",
    "extremes((99,25,30,-7))  # (-7, 99)\n",
    "\n",
    "extremes(\"alcatraz\")  #( 'a', 'z')\n"
   ]
  },
  {
   "cell_type": "code",
   "execution_count": null,
   "metadata": {},
   "outputs": [],
   "source": [
    "\"\"\" Write a function max_magnitude  that accepts a single list full of numbers. It should return the magnitude of the number with the largest magnitude (the number that is furthest away from zero).\n",
    "\n",
    "max_magnitude([300, 20, -900])   #900\n",
    "\n",
    "max_magnitude([10, 11, 12])   #12\n",
    "\n",
    "max_magnitude([-5, -1, -89])   #89\n",
    "\n",
    "Hint: use max and abs! \"\"\""
   ]
  },
  {
   "cell_type": "code",
   "execution_count": null,
   "metadata": {},
   "outputs": [],
   "source": [
    "\"\"\" Write a function called sum_even_values. This function should accept a variable number of arguments and return the sum of all the arguments that are divisible by 2. If there are no numbers divisible by 2, the function should return 0.  To be clear, it accepts all the numbers as individual arguments!\n",
    "\n",
    "sum_even_values(1,2,3,4,5,6) # 12\n",
    "sum_even_values(4,2,1,10) # 16\n",
    "sum_even_values(1) # 0 \"\"\""
   ]
  },
  {
   "cell_type": "code",
   "execution_count": null,
   "metadata": {},
   "outputs": [],
   "source": [
    "\"\"\" Write a function called sum_floats. This function should accept a variable number of arguments. The function should return the sum of all the parameters that are floats. If there are no floats the function should return 0 \"\"\""
   ]
  },
  {
   "cell_type": "code",
   "execution_count": null,
   "metadata": {},
   "outputs": [],
   "source": [
    "\"\"\"\n",
    "Write a function interleave  that accepts two strings.  It should return a new string containing the 2 strings interwoven or zipped together. For example:\n",
    "\n",
    "interleave('hi','ha')    # 'hhia'\n",
    "\n",
    "interleave('aaa', 'zzz')  # 'azazaz'\n",
    "\n",
    "interleave('lzr','iad') #  'lizard'\n",
    "\n",
    " This might seem like an easy task using zip , but in fact there are a couple intermediate steps to go from zip  back to a single string.  If you need help, I've written up a basic walkthrough of the steps:\n",
    "\n",
    "suppose we call interleave('hi', 'no')  \n",
    "\n",
    "zip  the two strings together, giving you a list of tuples (once you convert from the default zip_object) -  [('h','n'), ('i','o')]  \n",
    "\n",
    "For each of the tuples in the list, join them together using \"\".join  resulting in ['hn', 'io']  - Easiest if you use a list comp.  You need to join EACH tuple.\n",
    "\n",
    "Finally, join the items in the list together using \"\".join  again resulting in 'hnio'  \n",
    "\n",
    "Don't stress if you don't get this one!\n",
    "\n"
   ]
  },
  {
   "cell_type": "code",
   "execution_count": null,
   "metadata": {},
   "outputs": [],
   "source": [
    "\"\"\" Write a function called triple_and_filter. This function should accept a list of numbers, filter out every number that is not divisible by 4, and return a new list where every remaining number is tripled. \"\"\""
   ]
  },
  {
   "cell_type": "code",
   "execution_count": null,
   "metadata": {},
   "outputs": [],
   "source": [
    "\"\"\" Write a function called extract_full_name. This function should accept a list of dictionaries and return a new list of strings with the first and last name keys in each dictionary concatenated. \"\"\"\n",
    "\n",
    "\n",
    "'''\n",
    "names = [{'first': 'Elie', 'last': 'Schoppik'}, {'first': 'Colt', 'last': 'Steele'}]\n",
    "extract_full_name(names) # ['Elie Schoppik', 'Colt Steele']\n",
    "'''\n",
    "\n",
    "def extract_full_name():\n",
    "    pass"
   ]
  },
  {
   "cell_type": "code",
   "execution_count": null,
   "metadata": {},
   "outputs": [],
   "source": [
    "# Section 21"
   ]
  },
  {
   "cell_type": "code",
   "execution_count": null,
   "metadata": {},
   "outputs": [],
   "source": [
    "# Write a function called divide, which accepts two parameters (you can call them num1 and num2). The function should return the result of num1 divided by num2. If you do not pass the correct type of arguments to the function, it should return the string \"Please provide two integers or floats\". If you pass as the second argument a 0, Python will raise a ZeroDivisionError, so if this function is invoked with a 0 as the value of num2, return the string \"Please do not divide by zero\"\n",
    "\n",
    "    # Examples\n",
    "    \n",
    "    # divide(4,2)  2\n",
    "    # divide([],\"1\")  \"Please provide two integers or floats\"\n",
    "    # divide(1,0)  \"Please do not divide by zero\""
   ]
  },
  {
   "cell_type": "code",
   "execution_count": null,
   "metadata": {},
   "outputs": [],
   "source": [
    "# Section 22"
   ]
  },
  {
   "cell_type": "code",
   "execution_count": null,
   "metadata": {},
   "outputs": [],
   "source": [
    "\"\"\" It's time to get some practice with built-in modules.  Here's your mission;\n",
    "\n",
    "Import the math  module\n",
    "Use math.sqrt  to find the square root of 15129 and save it to variable called answer .\"\"\""
   ]
  },
  {
   "cell_type": "code",
   "execution_count": null,
   "metadata": {},
   "outputs": [],
   "source": [
    "\"\"\" Define a function called contains_keyword  that accepts any number of string arguments.  It should return True  if any of the arguments are considered Python keywords (things like \"def\", \"return\", \"if\", etc.)  Otherwise it should return False.   Python has a built-in module called keyword  that contains a method called iskeyword .  Import keyword  and then use keyword.iskeyword  in you own function to determine if a given string is a keyword.\n",
    "\n",
    "contains_keyword(\"hello\", \"goodbye\")  #False \"\"\""
   ]
  },
  {
   "cell_type": "code",
   "execution_count": null,
   "metadata": {},
   "outputs": [],
   "source": [
    "\"\"\" Your task is to write a function in the helpers.py file, and then call it from the exercise.py file.  More specifically:\n",
    "\n",
    "In helpers.py, define a function called lucky_number()  that always returns the number 37.  That's it.   It always returns 37, no matter what.\n",
    "\n",
    "In exercise.py, import the helpers module.  In order for the testing logic to work properly, don't use the 'as', or 'from' keywords when importing.  Just do a plain old import.\n",
    "\n",
    "From inside exercise.py, call the lucky_number  function you defined in the helpers module. Save the result to a variable called num\n",
    "\n",
    "The point of this exercise is to get comfortable working with multiple files, and defining custom modules.   Because of that, the testing logic actually checks to see that your code is all in the correct filed rather than just checking if you got the right answer. \"\"\""
   ]
  },
  {
   "cell_type": "code",
   "execution_count": null,
   "metadata": {},
   "outputs": [],
   "source": [
    "# Section 24"
   ]
  },
  {
   "cell_type": "code",
   "execution_count": null,
   "metadata": {},
   "outputs": [],
   "source": [
    "\"\"\" Define a class called Vehicle.  It should be completely empty (just add a pass  statement inside) .  After the class is defined, create two instances of Vehicle.  Save one to a variable called car  and another to a variable called boat . \"\"\""
   ]
  },
  {
   "cell_type": "code",
   "execution_count": null,
   "metadata": {},
   "outputs": [],
   "source": [
    "\"\"\" It's time to define your own class! Suppose we're creating a social network application where users can comment on posts and photos.\n",
    "\n",
    "Create a class called Comment .  Each comment should have the following attributes:\n",
    "\n",
    "username  - the username of the person who created the comment (like \"bluethecat\")\n",
    "text  - the actual comment itself (like \"omg so cute!\" or \"hahah\")\n",
    "likes  - the number of likes the comment has.  Likes should default to 0.\n",
    "The following code should work:\n",
    "\n",
    "c = Comment(\"davey123\", \"lol you're so silly\", 3) \n",
    "c. username       #\"davey123\"\n",
    "c. text           #\"lol you're so silly\"\n",
    "c.likes           #3\n",
    "another_comment = Comment(\"rosa77\", \"soooo cute!!!\") \n",
    "another_comment.username        #\"rosa77\"\n",
    "another_comment.text            #\"soooo cute!!!\"\n",
    "another_comment.likes           #0 \n",
    "Hints:\n",
    "\n",
    "__init__ is like any other function.  To add a default value for a parameter, just use the equals sign =.  Remember that your default parameters need to come at the end! \"\"\""
   ]
  },
  {
   "cell_type": "code",
   "execution_count": null,
   "metadata": {},
   "outputs": [],
   "source": [
    "\"\"\" Define a new class called BankAccount.  \n",
    "\n",
    "Each BankAccount should have an owner , specified when a new BankAccount is created like BankAccount(\"Charlie\") \n",
    "Each BankAccount should have a balance attribute  that always starts out as 0.0 \n",
    "Each instance should have a deposit method that accepts a number and adds it to the balance. It should return the new balance.\n",
    "Each instance should have a withdraw method that accepts a number and subtracts it from the balance. It should return the new balance.\n",
    "acct = BankAccount(\"Darcy\")\n",
    "acct.owner #Darcy\n",
    "acct.balance #0.0\n",
    "acct.deposit(10)  #10.0\n",
    "acct.withdraw(3)  #7.0\n",
    "acct.balance .  #7.0 \"\"\""
   ]
  },
  {
   "cell_type": "code",
   "execution_count": null,
   "metadata": {},
   "outputs": [],
   "source": [
    "\"\"\" Suppose we have a big ol chicken coop in our backyard full of very productive hens. We're going to model our chickens with python! We want to keep track of how many eggs each individual Chicken lays, and at the same time we want to track the total number of eggs all hens have laid. \n",
    "\n",
    " Create a Chicken  class.  Each Chicken has a species  and a name , as well as an integer attribute called eggs . eggs should always start out at 0. \n",
    "\n",
    "Each Chicken should also have an instance method called lay_egg() which should increment and then return that particular Chicken's eggs  attribute. lay_egg()  should also increment a class variable called total_eggs\n",
    "\n",
    "c1 = Chicken(name=\"Alice\", species=\"Partridge Silkie\")\n",
    "c2 = Chicken(name=\"Amelia\", species=\"Speckled Sussex\")\n",
    "Chicken.total_eggs #0\n",
    "c1.lay_egg()  #1\n",
    "Chicken.total_eggs #1\n",
    "c2.lay_egg()  #1\n",
    "c2.lay_egg()  #2\n",
    "Chicken.total_eggs #3 \"\"\""
   ]
  },
  {
   "cell_type": "code",
   "execution_count": null,
   "metadata": {},
   "outputs": [],
   "source": [
    "# Section 25"
   ]
  },
  {
   "cell_type": "code",
   "execution_count": null,
   "metadata": {},
   "outputs": [],
   "source": [
    "\"\"\" Your goal in this exercise is to implement two classes, Card and Deck.\n",
    "\n",
    "Specifications\n",
    "\n",
    "Card\n",
    "\n",
    "Each instance of Card should have a suit (\"Hearts\", \"Diamonds\", \"Clubs\", or \"Spades\").\n",
    "\n",
    "Each instance of Card should have a value (\"A\", \"2\", \"3\", \"4\", \"5\", \"6\", \"7\", \"8\", \"9\", \"10\", \"J\", \"Q\", \"K\").\n",
    "\n",
    "Card's __repr__ method should return the card's value and suit (e.g. \"A of Clubs\", \"J of Diamonds\", etc.)\n",
    "\n",
    "Deck\n",
    "\n",
    "Each instance of Deck should have a cards attribute with all 52 possible instances of Card.\n",
    "\n",
    "Deck should have an instance method called count which returns a count of how many cards remain in the deck.\n",
    "\n",
    "Deck's __repr__ method should return information on how many cards are in the deck (e.g. \"Deck of 52 cards\", \"Deck of 12 cards\", etc.)\n",
    "\n",
    "Deck should have an instance method called _deal which accepts a number and removes at most that many cards from the end of the deck (it may need to remove fewer if you request more cards than are currently in the deck!). If there are no cards left, this method should raise a ValueError with the message \"All cards have been dealt\".\n",
    "\n",
    "Deck should have an instance method called shuffle which will shuffle a full deck of cards. If there are cards missing from the deck, this method should raise a ValueError with the message \"Only full decks can be shuffled\".  Shuffle should return the shuffled deck.\n",
    "\n",
    "Deck should have an instance method called deal_card which uses the _deal method to deal a single card from the deck and return that single card.\n",
    "\n",
    "Deck should have an instance method called deal_hand which accepts a number and uses the _deal method to deal a list of cards from the deck and return that list of cards. \"\"\"\n",
    "\n",
    "class Card:\n",
    "    pass\n",
    "\n",
    "\n",
    "class Deck:\n",
    "    pass"
   ]
  },
  {
   "cell_type": "code",
   "execution_count": null,
   "metadata": {},
   "outputs": [],
   "source": [
    "# Section 26"
   ]
  },
  {
   "cell_type": "code",
   "execution_count": null,
   "metadata": {},
   "outputs": [],
   "source": [
    "\"\"\" Let's pretend we're building an RPG (roleplaying game) in Python. Side note: check out these games actually built in Python!\n",
    "\n",
    "1. Define a base class \"Character\" that has the following properties:\n",
    "\n",
    "name  - String\n",
    "hp  - an Integer value representing health (aka hitpoints)\n",
    "level  - an integer value representing experience level\n",
    "2. Define a subclass \"NPC\" (which stands for Non-Player Character) that inherits from Character , and has an additional instance method called speak  which prints the speech that character would say when a player interacts with them. \n",
    "\n",
    "Example:\n",
    "\n",
    "villager = NPC(\"Bob\", 100, 12)\n",
    "villager.name  # Bob\n",
    "villager.hp  # 100\n",
    "villager.level  # 12\n",
    "villager.speak()  # \"I heard there were monsters running around last night!\". \"\"\""
   ]
  },
  {
   "cell_type": "code",
   "execution_count": null,
   "metadata": {},
   "outputs": [],
   "source": [
    "\"\"\" Imagine a family where all the kids look exactly like one parent, maybe that parent has more \"dominant\" genetic traits than the other parent.\n",
    "\n",
    "Create three classes, Mother , Father , and Child .\n",
    "\n",
    "Let Mother have the \"dominant\" traits:\n",
    "\n",
    "eye_color = \"brown\"\n",
    "hair_color = \"dark brown\"\n",
    "hair_type = \"curly\"\n",
    "Let Father  have \"recessive\" traits:\n",
    "\n",
    "eye_color = \"blue\"\n",
    "hair_color = \"blond\"\n",
    "hair_type = \"straight\"\n",
    "\n",
    "\n",
    "Now define Child  to have the same attributes, eye_color , hair_color , and hair_type , but don't set them on the class.  Instead, let Child's Method Resolution Order be such that Child inherits from Mother  first, then Father . \"\"\""
   ]
  },
  {
   "cell_type": "code",
   "execution_count": null,
   "metadata": {},
   "outputs": [],
   "source": [
    "\"\"\" Create a class Train  that has one attribute: num_cars  which is specified when the train is instantiated.\n",
    "\n",
    "There should also be two special/magic/dunder methods on it:\n",
    "\n",
    "One method that describes the train when we call print  on it by saying \"x car train\" where x is the number of cars (see example below)\n",
    "One method that denotes the length of the train when we call len  on it\n",
    "Example:\n",
    "\n",
    "a_train = Train(4)\n",
    "print(a_train)  # 4 car train\n",
    "len(a_train)  # 4 \"\"\""
   ]
  },
  {
   "cell_type": "code",
   "execution_count": null,
   "metadata": {},
   "outputs": [],
   "source": [
    "# Section 27"
   ]
  },
  {
   "cell_type": "code",
   "execution_count": null,
   "metadata": {},
   "outputs": [],
   "source": [
    "\"\"\" Write a function called week, which returns a generator that yields each day of the week, starting with Monday and ending with Sunday.  After Sunday, the generator is exhausted.  It does not start over. \"\"\"\n",
    "\n",
    "'''\n",
    "days = week()\n",
    "next(days) # 'Monday'\n",
    "next(days) # 'Tuesday'\n",
    "next(days) # 'Wednesday'\n",
    "next(days) # 'Thursday'\n",
    "next(days) # 'Friday'\n",
    "next(days) # 'Saturday'\n",
    "next(days) # 'Sunday'\n",
    "next(days) # StopIteration\n",
    "'''\n"
   ]
  },
  {
   "cell_type": "code",
   "execution_count": null,
   "metadata": {},
   "outputs": [],
   "source": [
    "\"\"\" Write a function called yes_or_no, which returns a generator that first yields yes , then no , then yes , then no , and so on. \"\"\"\n",
    "\n",
    "'''\n",
    "gen = yes_or_no()\n",
    "next(gen) # 'yes'\n",
    "next(gen) # 'no'\n",
    "next(gen) # 'yes'\n",
    "next(gen) # 'no'\n",
    "'''\n",
    "\n",
    "def yes_or_no():\n",
    "    pass"
   ]
  },
  {
   "cell_type": "code",
   "execution_count": null,
   "metadata": {},
   "outputs": [],
   "source": [
    "\"\"\" Write a function called make_song, which takes a count and a beverage, and returns a generator that yields verses from a popular song about a the beverage. The number of verses in the song is determined by the count. \n",
    "\n",
    "Each verse of the song should involve one fewer beverage, until there are no beverages remaining. (Check the examples for details on the structure of the lyrics.)\n",
    "\n",
    "The default count should be 99, and the default beverage should be soda. \"\"\"\n",
    "\n",
    "\n",
    "\n",
    "'''\n",
    "kombucha_song = make_song(5, \"kombucha\")\n",
    "next(kombucha_song) # '5 bottles of kombucha on the wall.'\n",
    "next(kombucha_song) # '4 bottles of kombucha on the wall.'\n",
    "next(kombucha_song) # '3 bottles of kombucha on the wall.'\n",
    "next(kombucha_song) # '2 bottles of kombucha on the wall.'\n",
    "next(kombucha_song) # 'Only 1 bottle of kombucha left!'\n",
    "next(kombucha_song) # 'No more kombucha!'\n",
    "next(kombucha_song) # StopIteration\n",
    "\n",
    "default_song = make_song()\n",
    "next(default_song) # '99 bottles of soda on the wall.'\n",
    "'''\n",
    "\n",
    "def make_song():\n",
    "    pass"
   ]
  },
  {
   "cell_type": "code",
   "execution_count": null,
   "metadata": {},
   "outputs": [],
   "source": [
    "\"\"\" Write a function called get_multiples, which accepts a number and a count, and returns a generator that yields the first count multiples of the number. \n",
    "\n",
    "The default number should be 1, and the default count should be 10. \"\"\"\n",
    "\n",
    "\n",
    "'''\n",
    "evens = get_multiples(2, 3)\n",
    "next(evens) # 2\n",
    "next(evens) # 4\n",
    "next(evens) # 6\n",
    "next(evens) # StopIteration\n",
    "\n",
    "default_multiples = get_multiples()\n",
    "list(default_multiples) # [1, 2, 3, 4, 5, 6, 7, 8, 9, 10]\n",
    "'''\n",
    "\n",
    "def get_multiples():\n",
    "    pass"
   ]
  },
  {
   "cell_type": "code",
   "execution_count": null,
   "metadata": {},
   "outputs": [],
   "source": [
    "\"\"\" Write a function called get_unlimited_multiples, which accepts a number and returns a generator that will yield an unlimited number of multiples of that number.\n",
    "\n",
    "The default number should be 1.\"\"\"\n",
    "\n",
    "\n",
    "'''\n",
    "sevens = get_unlimited_multiples(7)\n",
    "[next(sevens) for i in range(15)] \n",
    "# [7, 14, 21, 28, 35, 42, 49, 56, 63, 70, 77, 84, 91, 98, 105]\n",
    "\n",
    "ones = get_unlimited_multiples()\n",
    "[next(ones) for i in range(20)]\n",
    "# [1, 2, 3, 4, 5, 6, 7, 8, 9, 10, 11, 12, 13, 14, 15, 16, 17, 18, 19, 20]\n",
    "'''\n",
    "\n",
    "def get_unlimited_multiples():\n",
    "    pass"
   ]
  },
  {
   "cell_type": "code",
   "execution_count": null,
   "metadata": {},
   "outputs": [],
   "source": [
    "# Section 28"
   ]
  },
  {
   "cell_type": "code",
   "execution_count": null,
   "metadata": {},
   "outputs": [],
   "source": [
    "\"\"\" Write a function called show_args which accepts a function and returns another function. Before invoking the function passed to it, show_args should be responsible for printing two things: a tuple of the positional arguments, and a dictionary of the keyword arguments. \"\"\"\n",
    "\n",
    "\n",
    "'''\n",
    "@show_args\n",
    "def do_nothing(*args, **kwargs):\n",
    "    pass\n",
    "\n",
    "do_nothing(1, 2, 3,a=\"hi\",b=\"bye\")\n",
    "\n",
    "# Should print (on two lines):\n",
    "# Here are the args: (1, 2, 3)\n",
    "# Here are the kwargs: {\"a\": \"hi\", \"b\": \"bye\"}\n",
    "'''\n",
    "\n",
    "from functools import wraps\n",
    "\n",
    "\n",
    "def show_args():\n",
    "    pass"
   ]
  },
  {
   "cell_type": "code",
   "execution_count": null,
   "metadata": {},
   "outputs": [],
   "source": [
    "\"\"\" Write a function called double_return which accepts a function and returns another function. double_return should decorate a function by returning two copies of the inner function's return value inside of a list. \"\"\"\n",
    "\n",
    "\n",
    "'''\n",
    "@double_return \n",
    "def add(x, y):\n",
    "    return x + y\n",
    "    \n",
    "add(1, 2) # [3, 3]\n",
    "\n",
    "@double_return\n",
    "def greet(name):\n",
    "    return \"Hi, I'm \" + name\n",
    "\n",
    "greet(\"Colt\") # [\"Hi, I'm Colt\", \"Hi, I'm Colt\"]\n",
    "'''\n",
    "\n",
    "def double_return():\n",
    "    pass"
   ]
  },
  {
   "cell_type": "code",
   "execution_count": null,
   "metadata": {},
   "outputs": [],
   "source": [
    "\"\"\" Write a function called ensure_fewer_than_three_args which accepts a function and returns another function. The function passed to it should only be invoked if there are fewer than three positional arguments passed to it. Otherwise, the inner function should return \"Too many arguments!\" \"\"\"\n",
    "\n",
    "\n",
    "'''\n",
    "@ensure_fewer_than_three_args\n",
    "def add_all(*nums):\n",
    "    return sum(nums)\n",
    "\n",
    "add_all() # 0\n",
    "add_all(1) # 1\n",
    "add_all(1,2) # 3\n",
    "add_all(1,2,3) # \"Too many arguments!\"\n",
    "add_all(1,2,3,4,5,6) # \"Too many arguments!\"\n",
    "'''\n",
    "\n",
    "from functools import wraps\n",
    "\n",
    "def ensure_fewer_than_three_args():\n",
    "    pass"
   ]
  },
  {
   "cell_type": "code",
   "execution_count": null,
   "metadata": {},
   "outputs": [],
   "source": [
    "\"\"\" Write a function called only_ints which accepts a function and returns another function. The function passed to it should only be invoked if all of the arguments passed to it are integers. Otherwise the inner function should return \"Please only invoke with integers.\". \"\"\"\n",
    "\n",
    "\n",
    "\n",
    "'''\n",
    "@only_ints \n",
    "def add(x, y):\n",
    "    return x + y\n",
    "    \n",
    "add(1, 2) # 3\n",
    "add(\"1\", \"2\") # \"Please only invoke with integers.\"\n",
    "'''\n",
    "\n",
    "from functools import wraps\n",
    "\n",
    "def only_ints():\n",
    "    pass"
   ]
  },
  {
   "cell_type": "code",
   "execution_count": null,
   "metadata": {},
   "outputs": [],
   "source": [
    "\"\"\" Write a function called ensure_authorized which accepts a function and returns another function. The function passed to it should only be invoked if there exists a keyword argument with a name of \"role\" and a value of \"admin\". Otherwise, the inner function should return \"Unauthorized\" \"\"\"\n",
    "\n",
    "\n",
    "'''\n",
    "@ensure_authorized\n",
    "def show_secrets(*args, **kwargs):\n",
    "    return \"Shh! Don't tell anybody!\"\n",
    "\n",
    "show_secrets(role=\"admin\") # \"Shh! Don't tell anybody!\"\n",
    "show_secrets(role=\"nobody\") # \"Unauthorized\"\n",
    "show_secrets(a=\"b\") # \"Unauthorized\"\n",
    "'''\n",
    "\n",
    "from functools import wraps\n",
    "\n",
    "def ensure_authorized():\n",
    "    pass"
   ]
  },
  {
   "cell_type": "code",
   "execution_count": null,
   "metadata": {},
   "outputs": [],
   "source": [
    "\"\"\" Write a function called delay which accepts a time and returns an inner function that accepts a function. When used as a decorator, delay will wait to execute the function being decorated by the amount of time passed into it. Before starting the timer, delay will also print a message informing the user that there will be a delay before the decorated function gets run.\n",
    "\n",
    "(Hint: take a look at the sleep function from the built-in time module if you want to pause code execution for a certain amount of time.) \"\"\"\n",
    "\n",
    "\n",
    "'''\n",
    "@delay(3)\n",
    "def say_hi():\n",
    "    return \"hi\"\n",
    "\n",
    "say_hi()\n",
    "# should print the message \"Waiting 3s before running say_hi\" to the console\n",
    "# should then wait 3 seconds\n",
    "# finally, should invoke say_hi and return \"hi\"\n",
    "'''\n",
    "\n",
    "from functools import wraps\n",
    "from time import sleep\n",
    "\n",
    "def delay():\n",
    "    pass"
   ]
  },
  {
   "cell_type": "code",
   "execution_count": null,
   "metadata": {},
   "outputs": [],
   "source": [
    "# Section 30"
   ]
  },
  {
   "cell_type": "code",
   "execution_count": null,
   "metadata": {},
   "outputs": [],
   "source": [
    "\"\"\" Write a function called copy, which takes in a file name and a new file name and copies the contents of the first file to the second file. \n",
    "\n",
    "copy('story.txt', 'story_copy.txt') # None\n",
    "# expect the contents of story.txt and story_copy.txt to be the same \"\"\""
   ]
  },
  {
   "cell_type": "code",
   "execution_count": null,
   "metadata": {},
   "outputs": [],
   "source": [
    "\"\"\" Write a function called copy_and_reverse, which takes in a file name and a new file name and copies the reversed contents of the first file to the second file.\n",
    "\"\"\""
   ]
  },
  {
   "cell_type": "code",
   "execution_count": null,
   "metadata": {},
   "outputs": [],
   "source": [
    "\"\"\" Write a function called statistics, which takes in a file name and returns a dictionary with the number of lines, words, and characters in the file.\n",
    "\"\"\"\n",
    "\n",
    "\n",
    "'''\n",
    "statistics('story.txt') \n",
    "# {'lines': 172, 'words': 2145, 'characters': 11227}\n",
    "'''\n",
    "\n",
    "def statistics():\n",
    "    pass"
   ]
  },
  {
   "cell_type": "code",
   "execution_count": null,
   "metadata": {},
   "outputs": [],
   "source": [
    "\"\"\" Write a function called find_and_replace, which takes in a file name, a word to search for, and a replacement word. Replaces all instances of the word in the file with the replacement word. \"\"\"\n",
    "\n",
    "'''\n",
    "find_and_replace('story.txt', 'Alice', 'Colt') \n",
    "# story.txt now contains the first chapter of my new book,\n",
    "# Colt's Adventures in Wonderland\n",
    "'''\n",
    "\n",
    "def find_and_replace():\n",
    "    pass"
   ]
  },
  {
   "cell_type": "code",
   "execution_count": null,
   "metadata": {},
   "outputs": [],
   "source": [
    "# Challanges"
   ]
  },
  {
   "cell_type": "code",
   "execution_count": null,
   "metadata": {},
   "outputs": [],
   "source": [
    "\"\"\" Write a function called reverse_string which accepts a string and returns a new string with all the characters reversed.  \"\"\""
   ]
  },
  {
   "cell_type": "code",
   "execution_count": null,
   "metadata": {},
   "outputs": [],
   "source": [
    "\"\"\"Write a function called list_check, which accepts a list and returns True if each value in the list is a list. Otherwise the function should return False.\"\"\""
   ]
  },
  {
   "cell_type": "code",
   "execution_count": null,
   "metadata": {},
   "outputs": [],
   "source": [
    "\"\"\"Write a function called remove_every_other that accepts a list and returns a new list with every second value removed.\"\"\"\n"
   ]
  },
  {
   "cell_type": "code",
   "execution_count": null,
   "metadata": {},
   "outputs": [],
   "source": [
    "\"\"\"Write a function called sum_pairs which accepts a list and a number and returns the first pair of numbers that sum to the number passed to the function.\"\"\"\n"
   ]
  },
  {
   "cell_type": "code",
   "execution_count": null,
   "metadata": {},
   "outputs": [],
   "source": [
    "\"\"\"Write a function called vowel_count that accepts a string and returns a dictionary with the keys as the vowels and values as the count of times that vowel appears in the string.\"\"\"\n"
   ]
  },
  {
   "cell_type": "code",
   "execution_count": null,
   "metadata": {},
   "outputs": [],
   "source": [
    "\"\"\"Write a function called titleize which accepts a string of words and returns a new string with the first letter of every word in the string capitalized.\"\"\"\n"
   ]
  },
  {
   "cell_type": "code",
   "execution_count": null,
   "metadata": {},
   "outputs": [],
   "source": [
    "\"\"\"Write a function called find_factors which accepts a number and returns a list of all of the numbers which are is divisible by starting from 1 and going up to the number.\"\"\"\n"
   ]
  },
  {
   "cell_type": "code",
   "execution_count": null,
   "metadata": {},
   "outputs": [],
   "source": [
    "\"\"\"Write a function called includes which accepts a collection, a value, and an optional starting index. The function should return True if the value exists in the collection when we search starting from the starting index. Otherwise, it should return False.\n",
    "\n",
    "The collection can be a string, a list, or a dictionary. If the collection is a string or array, the third parameter is a starting index for where to search from. If the collection is a dictionary, the function searches for the value among values in the dictionary; since objects have no sort order, the third parameter is ignored.\"\"\"\n"
   ]
  },
  {
   "cell_type": "code",
   "execution_count": null,
   "metadata": {},
   "outputs": [],
   "source": [
    "\"\"\"Write a function called repeat, which accepts a string and a number and returns a new string with the string passed to the function repeated the number amount of times. Do not use the built in repeat method!\"\"\"\n"
   ]
  },
  {
   "cell_type": "code",
   "execution_count": null,
   "metadata": {},
   "outputs": [],
   "source": [
    "\"\"\"Write a function called truncate that will shorten a string to a specified length, and add \"...\" to the end.  Given a string and a number n, truncate the string to a shorter string containing at most n characters. For example, truncate(\"long string\", 5)  should return a 5 character truncated version of \"long string\".  If the string gets truncated, the truncated return string should have a \"...\" at the end. Because of this, the smallest number passed in as a second argument should be 3. \n",
    "\n",
    "For example:\n",
    "\n",
    "                                #6 total characters, including the \"...\"\n",
    "truncate(\"Hello World\", 6) # \"Hel...\"   \n",
    "truncate(\"Woah\", 4) # \"W...\"\n",
    "truncate(\"Woah\", 3) # \"...\"\n",
    "truncate(\"Problem solving is the best!\", 10) # \"Problem...\"\n",
    "truncate(\"Super cool\", 2) # \"Truncation must be at least 3 characters.\"\"\"\"\n"
   ]
  },
  {
   "cell_type": "code",
   "execution_count": null,
   "metadata": {},
   "outputs": [],
   "source": [
    "\"\"\"Write a function called two_list_dictionary which accepts two lists of varying lengths.The first list consists of keys and the second one consists of values. Your function should return a dictionary created from the keys and values. If there are not enough values, the remaining keys should have a value of null. If there not enough keys, just ignore the remaining values.\"\"\"\n"
   ]
  },
  {
   "cell_type": "code",
   "execution_count": null,
   "metadata": {},
   "outputs": [],
   "source": [
    "\"\"\"Write a function called range_in_list which accepts a list and start and end indices, and returns the sum of the values between (and including) the start and end index.\n",
    "\n",
    "If a start parameter is not passed in, it should default to zero. If an end parameter is not passed in, it should default to the last value in the list. Also, if the end argument is too large, the sum should still go through the end of the list.\"\"\""
   ]
  },
  {
   "cell_type": "code",
   "execution_count": null,
   "metadata": {},
   "outputs": [],
   "source": [
    "\"\"\"Write a function called same_frequency which accepts two numbers and returns True if they contain the same frequency of digits. Otherwise, it returns False.\"\"\""
   ]
  },
  {
   "cell_type": "code",
   "execution_count": null,
   "metadata": {},
   "outputs": [],
   "source": [
    "\"\"\"Write a function called nth, which accepts a list and a number and returns the element at whatever index is the number in the list. If the number is negative, the nth element from the end is returned.\n",
    "\n",
    "You can assume that number will always be between the negative value of the list length, and the list length minus 1.\"\"\""
   ]
  },
  {
   "cell_type": "code",
   "execution_count": null,
   "metadata": {},
   "outputs": [],
   "source": [
    "\"\"\"Write a function called find_the_duplicate which accepts an array of numbers containing a single duplicate. The function returns the number which is a duplicate or None if there are no duplicates.\"\"\""
   ]
  },
  {
   "cell_type": "code",
   "execution_count": null,
   "metadata": {},
   "outputs": [],
   "source": [
    "\"\"\"Write a function called sum_up_diagonals which accepts an NxN list of lists and sums the two main diagonals in the array: the one from the upper left to the lower right, and the one from the upper right to the lower left.\"\"\""
   ]
  },
  {
   "cell_type": "code",
   "execution_count": null,
   "metadata": {},
   "outputs": [],
   "source": [
    "\"\"\"Write a function called min_max_key_in_dictionary which returns a list with the lowest key in the dictionary and the highest key in the dictionary. You can assume that the dictionary will have keys that are numbers.\"\"\""
   ]
  },
  {
   "cell_type": "code",
   "execution_count": null,
   "metadata": {},
   "outputs": [],
   "source": [
    "\"\"\"Write a function called find_greater_numbers which accepts a list and returns the number of times a number is followed by a larger number across the entire list. \n",
    "\n",
    "Take the example find_greater_numbers([6,1,2,7]) # 4 , there are 4 times where a number is followed by a greater number:  \n",
    "\n",
    "2 > 1\n",
    "7 > 6\n",
    "7 > 1\n",
    "7 > 2   \n",
    "Here are some other examples:\n",
    "\n",
    "find_greater_numbers([1,2,3]) # 3 \n",
    "find_greater_numbers([6,1,2,7]) # 4\n",
    "find_greater_numbers([5,4,3,2,1]) # 0\n",
    "find_greater_numbers([]) # 0\"\"\""
   ]
  },
  {
   "cell_type": "code",
   "execution_count": null,
   "metadata": {},
   "outputs": [],
   "source": [
    "\"\"\"Write a function called two_oldest. The function should take a list of numbers as its argument and return the two highest numbers within the list. The returned value should be a list in the format [second oldest age, oldest age].\n",
    "\n",
    "The order of the numbers passed in could be any order.\"\"\""
   ]
  },
  {
   "cell_type": "code",
   "execution_count": null,
   "metadata": {},
   "outputs": [],
   "source": [
    "\"\"\"Write a function called is_odd_string which returns true if sum of each character's position in the alphabet is odd. For example, \"a\" is in the first position, \"b\" is in the second position, and so on. If the sum is even, return false.  NOTE: INDEXING STARTS AT 1.  A is position 1, NOT POSITION 0.\"\"\""
   ]
  },
  {
   "cell_type": "code",
   "execution_count": null,
   "metadata": {},
   "outputs": [],
   "source": [
    "\"\"\"Write a function called valid_parentheses that takes a string of parentheses, and determines if the order of the parentheses is valid. valid_parentheses should return true if the string is valid, and false if it's invalid.\"\"\""
   ]
  },
  {
   "cell_type": "code",
   "execution_count": null,
   "metadata": {},
   "outputs": [],
   "source": [
    "\"\"\"Write a function called reverse_vowels. This function should reverse the vowels in a string. Any characters which are not vowels should remain in their original position. You should not consider \"y\" to be a vowel.\"\"\""
   ]
  },
  {
   "cell_type": "code",
   "execution_count": null,
   "metadata": {},
   "outputs": [],
   "source": [
    "\"\"\"Write a function called three_odd_numbers, which accepts a list of numbers and returns True  if any three consecutive numbers sum to an odd number.\"\"\""
   ]
  },
  {
   "cell_type": "code",
   "execution_count": null,
   "metadata": {},
   "outputs": [],
   "source": [
    "\"\"\"This is another trickier exercise.  Don't feel bad if you get stuck or need to move on and come back later on!\n",
    "\n",
    "Write a function called mode. This function accepts a list of numbers and returns the most frequent number in the list of numbers. You can assume that the mode will be unique.\n",
    "\n",
    "mode([2,4,1,2,3,3,4,4,5,4,4,6,4,6,7,4])  # 4\"\"\""
   ]
  },
  {
   "cell_type": "code",
   "execution_count": null,
   "metadata": {},
   "outputs": [],
   "source": [
    "\"\"\"Create a function running_average that returns a function. When the function returned is passed a value, the function returns the current average of all previous function calls. You will have to use closure to solve this. You should round all answers to the 2nd decimal place.\"\"\""
   ]
  },
  {
   "cell_type": "code",
   "execution_count": null,
   "metadata": {},
   "outputs": [],
   "source": [
    "\"\"\"Write a function called letter_counter which accepts a string and returns a function. When the inner function is invoked it should accept a parameter which is a letter, and the inner function should return the number of times that letter appears. This inner function should be case insensitive.\"\"\""
   ]
  },
  {
   "cell_type": "code",
   "execution_count": null,
   "metadata": {},
   "outputs": [],
   "source": [
    "\"\"\"Write a function called once. This function accepts a function and returns a new function that can only be invoked once. If the function is invoked more than once, it should return None. Hint you will need to define a new function inside of your once function and return that function. You can add properties to your inner function to see if it has run already.\"\"\""
   ]
  },
  {
   "cell_type": "code",
   "execution_count": null,
   "metadata": {},
   "outputs": [],
   "source": [
    "\"\"\"Write a function called next_prime, which returns a generator that will yield an unlimited number of primes, starting from the first prime (2).\n",
    "\n",
    "Recall that a prime number is any whole number that has exactly two divisors: one and the number itself. The first few primes are 2, 3, 5, 7, 11, ... .\"\"\"\""
   ]
  }
 ]
}