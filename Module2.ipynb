{
  "nbformat": 4,
  "nbformat_minor": 0,
  "metadata": {
    "colab": {
      "name": "Untitled1.ipynb",
      "provenance": [],
      "authorship_tag": "ABX9TyMqrAs/5JJXupc0PpxtS1np",
      "include_colab_link": true
    },
    "kernelspec": {
      "name": "python3",
      "display_name": "Python 3"
    }
  },
  "cells": [
    {
      "cell_type": "markdown",
      "metadata": {
        "id": "view-in-github",
        "colab_type": "text"
      },
      "source": [
        "<a href=\"https://colab.research.google.com/github/GhaziXX/python_course/blob/master/Module2.ipynb\" target=\"_parent\"><img src=\"https://colab.research.google.com/assets/colab-badge.svg\" alt=\"Open In Colab\"/></a>"
      ]
    },
    {
      "cell_type": "code",
      "metadata": {
        "id": "AMI1uqrskxBC",
        "colab_type": "code",
        "colab": {}
      },
      "source": [
        "data = input(\"Whats your favorite color \")\n",
        "print('your favorite color is ' + data)"
      ],
      "execution_count": null,
      "outputs": []
    },
    {
      "cell_type": "code",
      "metadata": {
        "id": "HErziDHiojER",
        "colab_type": "code",
        "colab": {}
      },
      "source": [
        "name = \"Jon Snow\"\n",
        "if name == 'Arya Stark':\n",
        "  print(\"something\")\n",
        "elif name == 'Jon Snow':\n",
        "  print(\"Other thing\")\n",
        "else:\n",
        "  print('Carry On')"
      ],
      "execution_count": null,
      "outputs": []
    },
    {
      "cell_type": "code",
      "metadata": {
        "id": "wfpSUy4YqHRo",
        "colab_type": "code",
        "colab": {}
      },
      "source": [
        "a = 5\n",
        "b = 6\n",
        "\n",
        "print(a==b)\n",
        "print(a!=b)\n",
        "print(a>b)\n",
        "print(a<b)\n",
        "print(a<=b)\n",
        "print(b<=a)"
      ],
      "execution_count": null,
      "outputs": []
    },
    {
      "cell_type": "code",
      "metadata": {
        "id": "vhWCHmogsvlD",
        "colab_type": "code",
        "colab": {}
      },
      "source": [
        "ord('A')"
      ],
      "execution_count": null,
      "outputs": []
    },
    {
      "cell_type": "code",
      "metadata": {
        "id": "iymDNEgFsySR",
        "colab_type": "code",
        "colab": {}
      },
      "source": [
        "chr(65)"
      ],
      "execution_count": null,
      "outputs": []
    },
    {
      "cell_type": "code",
      "metadata": {
        "id": "fsQpAvtps6Dl",
        "colab_type": "code",
        "colab": {}
      },
      "source": [
        "a = 0\n",
        "b = 1\n",
        "\n",
        "if a and b:\n",
        "  print(\"a and b are both true\")\n",
        "elif b and not a:\n",
        "  print(\"We used the operator not to get a true value\")\n",
        "elif a or b:\n",
        "  print(\"there is at least a true variable between a and b\")"
      ],
      "execution_count": null,
      "outputs": []
    },
    {
      "cell_type": "code",
      "metadata": {
        "id": "3DTX4Uxqtzxr",
        "colab_type": "code",
        "colab": {}
      },
      "source": [
        "s = 'hello'\n",
        "s1 = 'hello'\n",
        "\n",
        "if s > s1 or s == s1:\n",
        "  print(s + \" is bigger or both strings are equals\")\n",
        "else:\n",
        "  print(s1 + \" is smaller\")"
      ],
      "execution_count": null,
      "outputs": []
    },
    {
      "cell_type": "code",
      "metadata": {
        "id": "mzkbcZWTufqQ",
        "colab_type": "code",
        "colab": {}
      },
      "source": [
        "age = 21\n",
        "\n",
        "if not((age>=2 and age <= 8) or age >=65):\n",
        "  print('you pay 10 dinars')\n",
        "else: \n",
        "  print('you pay nothing')"
      ],
      "execution_count": null,
      "outputs": []
    },
    {
      "cell_type": "code",
      "metadata": {
        "id": "ZKPkeG5Iu5Q9",
        "colab_type": "code",
        "colab": {}
      },
      "source": [
        "# is vs. \"==\" \n",
        "\n",
        "x = 13\n",
        "y = 13\n",
        "print(x==y)\n",
        "print(x is y)\n",
        "\n",
        "a = [1,2]\n",
        "b = [1,2]\n",
        "print(a == b)\n",
        "print(a is b)"
      ],
      "execution_count": null,
      "outputs": []
    },
    {
      "cell_type": "code",
      "metadata": {
        "id": "ACNQ8_Xpu8c1",
        "colab_type": "code",
        "colab": {}
      },
      "source": [
        "# Simple project\n",
        "\"\"\" Your task is to create a simple program where you enter your score and the \n",
        "program tells you your grade \n",
        "\n",
        "0<=score<10 : C\n",
        "10<=score<15 : B\n",
        "15<=score<=20 : A\n",
        "\n",
        "\"\"\"\n",
        "\n",
        "score = input(\"Give me your score! \")\n",
        "if score:\n",
        "  s = int(score)\n",
        "  if s >= 0 and s<10:\n",
        "    print(\"C\")\n",
        "  elif s>=10 and s<15:\n",
        "    print(\"B\")\n",
        "  else:\n",
        "    print(\"A\")\n",
        "else:\n",
        "  print(\"You entered a wrong score\")"
      ],
      "execution_count": null,
      "outputs": []
    }
  ]
}