{
  "nbformat": 4,
  "nbformat_minor": 0,
  "metadata": {
    "colab": {
      "name": "Module5.ipynb",
      "provenance": [],
      "authorship_tag": "ABX9TyOdBV7UAxhNppEwg40laNT2",
      "include_colab_link": true
    },
    "kernelspec": {
      "name": "python3",
      "display_name": "Python 3"
    }
  },
  "cells": [
    {
      "cell_type": "markdown",
      "metadata": {
        "id": "view-in-github",
        "colab_type": "text"
      },
      "source": [
        "<a href=\"https://colab.research.google.com/github/GhaziXX/python_course/blob/master/Module5.ipynb\" target=\"_parent\"><img src=\"https://colab.research.google.com/assets/colab-badge.svg\" alt=\"Open In Colab\"/></a>"
      ]
    },
    {
      "cell_type": "code",
      "metadata": {
        "id": "bx3jYsONedp9",
        "colab_type": "code",
        "colab": {}
      },
      "source": [
        "my_dict = {'name' : 'colt', 'age' : 21 , 'favorite_num' : 35}"
      ],
      "execution_count": 6,
      "outputs": []
    },
    {
      "cell_type": "code",
      "metadata": {
        "id": "gSFMZ_64gAfw",
        "colab_type": "code",
        "colab": {
          "base_uri": "https://localhost:8080/",
          "height": 68
        },
        "outputId": "057efbe3-53e1-43c6-e8b7-25322d7030a5"
      },
      "source": [
        "for v in my_dict.values():\n",
        "  print(v)"
      ],
      "execution_count": 7,
      "outputs": [
        {
          "output_type": "stream",
          "text": [
            "colt\n",
            "21\n",
            "35\n"
          ],
          "name": "stdout"
        }
      ]
    },
    {
      "cell_type": "code",
      "metadata": {
        "id": "DlNN87ojgH0C",
        "colab_type": "code",
        "colab": {
          "base_uri": "https://localhost:8080/",
          "height": 68
        },
        "outputId": "a079a4b9-2d14-47d7-9864-387964eb639b"
      },
      "source": [
        "for k in my_dict.keys():\n",
        "  print(k)\n"
      ],
      "execution_count": 8,
      "outputs": [
        {
          "output_type": "stream",
          "text": [
            "name\n",
            "age\n",
            "favorite_num\n"
          ],
          "name": "stdout"
        }
      ]
    },
    {
      "cell_type": "code",
      "metadata": {
        "id": "S_D3SNS_gMFq",
        "colab_type": "code",
        "colab": {
          "base_uri": "https://localhost:8080/",
          "height": 68
        },
        "outputId": "915a0fdc-aed6-45af-bedd-e8abe848a1ed"
      },
      "source": [
        "for k,v in my_dict.items():\n",
        "  print(f'the value is {v} and value is {v}')"
      ],
      "execution_count": 9,
      "outputs": [
        {
          "output_type": "stream",
          "text": [
            "the value is colt and value is colt\n",
            "the value is 21 and value is 21\n",
            "the value is 35 and value is 35\n"
          ],
          "name": "stdout"
        }
      ]
    }
  ]
}