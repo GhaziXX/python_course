{
  "nbformat": 4,
  "nbformat_minor": 0,
  "metadata": {
    "colab": {
      "name": "Solutions.ipynb",
      "provenance": [],
      "authorship_tag": "ABX9TyOgBaCf/+RAE8z1hrB0I65c",
      "include_colab_link": true
    },
    "kernelspec": {
      "name": "python3",
      "display_name": "Python 3"
    }
  },
  "cells": [
    {
      "cell_type": "markdown",
      "metadata": {
        "id": "view-in-github",
        "colab_type": "text"
      },
      "source": [
        "<a href=\"https://colab.research.google.com/github/GhaziXX/python_course/blob/master/Solutions.ipynb\" target=\"_parent\"><img src=\"https://colab.research.google.com/assets/colab-badge.svg\" alt=\"Open In Colab\"/></a>"
      ]
    },
    {
      "cell_type": "markdown",
      "metadata": {
        "id": "E4iyzmwP0yTV",
        "colab_type": "text"
      },
      "source": [
        "# Solutions"
      ]
    },
    {
      "cell_type": "markdown",
      "metadata": {
        "id": "q1SOp4pl3Wic",
        "colab_type": "text"
      },
      "source": [
        "Boolean and Conditional Logic"
      ]
    },
    {
      "cell_type": "code",
      "metadata": {
        "id": "EYlrWZmu0w8O",
        "colab_type": "code",
        "colab": {}
      },
      "source": [
        "from random import randint\n",
        "choice = randint(1,10)\n",
        "\n",
        "if choice == 7:\n",
        "    print(\"lucky\")\n",
        "else:\n",
        "    print(\"unlucky\")"
      ],
      "execution_count": null,
      "outputs": []
    },
    {
      "cell_type": "code",
      "metadata": {
        "id": "2k2A6z2y13jD",
        "colab_type": "code",
        "colab": {}
      },
      "source": [
        "\n",
        "from random import randint\n",
        "num = randint(1, 1000)\n",
        "\n",
        "if num % 2 != 0:\n",
        "    print(\"odd\")\n",
        "else:\n",
        "    print(\"even\")"
      ],
      "execution_count": null,
      "outputs": []
    },
    {
      "cell_type": "code",
      "metadata": {
        "id": "yk-gTsqm1720",
        "colab_type": "code",
        "colab": {}
      },
      "source": [
        "from random import choice\n",
        "food = choice(['apple','grape', 'bacon', 'steak', 'worm'])\n",
        "\n",
        "if food == 'apple' or food == 'grape':\n",
        "    print (\"fruit\")\n",
        "elif food == 'bacon' or food == 'steak':\n",
        "    print(\"meat\")\n",
        "else:\n",
        "    print(\"yuck\")"
      ],
      "execution_count": null,
      "outputs": []
    },
    {
      "cell_type": "code",
      "metadata": {
        "id": "X5sKyAY41_ws",
        "colab_type": "code",
        "colab": {}
      },
      "source": [
        "\n",
        "from random import randint\n",
        "x = randint(-100, 100)\n",
        "while x == 0:  # make sure x isn't zero\n",
        "    x = randint(-100, 100)\n",
        "y = randint(-100, 100)\n",
        "while y == 0:  # make sure y isn't zero\n",
        "    y = randint(-100, 100)\n",
        "\n",
        "if x > 0 and y > 0:\n",
        "    print(\"both positive\")\n",
        "elif x < 0 and y < 0:\n",
        "    print(\"both negative\")\n",
        "elif x > 0 and y < 0:\n",
        "    print(\"x is positive and y is negative\")\n",
        "else:\n",
        "    print(\"y is positive and x is negative\")\n",
        "    \n"
      ],
      "execution_count": null,
      "outputs": []
    },
    {
      "cell_type": "code",
      "metadata": {
        "id": "jbptWvAo2FQM",
        "colab_type": "code",
        "colab": {}
      },
      "source": [
        "from random import choice, randint\n",
        "\n",
        "actually_sick = choice([True, False])\n",
        "kinda_sick = choice([True, False])\n",
        "hate_your_job = choice([True, False])\n",
        "sick_days = randint(0, 10)\n",
        "\n",
        "\n",
        "\n",
        "calling_in_sick = None\n",
        "\n",
        "\n",
        "if actually_sick and sick_days > 0:\n",
        "    calling_in_sick = True\n",
        "elif kinda_sick and hate_your_job and sick_days > 0:\n",
        "    calling_in_sick = True\n",
        "else:\n",
        "    calling_in_sick = False\n"
      ],
      "execution_count": null,
      "outputs": []
    },
    {
      "cell_type": "markdown",
      "metadata": {
        "id": "--J031Go3V3D",
        "colab_type": "text"
      },
      "source": [
        "Loops\n"
      ]
    },
    {
      "cell_type": "code",
      "metadata": {
        "id": "kWvd9eX32aYM",
        "colab_type": "code",
        "colab": {}
      },
      "source": [
        "x = 0\n",
        "for i in range(11,21,2):\n",
        "        x += i"
      ],
      "execution_count": null,
      "outputs": []
    },
    {
      "cell_type": "code",
      "metadata": {
        "id": "CCmVZ_BJ2pF8",
        "colab_type": "code",
        "colab": {}
      },
      "source": [
        "from random import randint  # use randint(a, b) to generate a random number between a and b\n",
        "\n",
        "number = 0 #store random number in here, each time through\n",
        "i = 0  # i should be incremented by one each iteration\n",
        "\n",
        "while number != 5: #keep looping while number is not 5\n",
        "    i += 1\n",
        "    number = randint(1, 10) #update number to be a new random int from 1-10"
      ],
      "execution_count": null,
      "outputs": []
    },
    {
      "cell_type": "markdown",
      "metadata": {
        "id": "dN20FUra3lPN",
        "colab_type": "text"
      },
      "source": [
        "Lists"
      ]
    },
    {
      "cell_type": "code",
      "metadata": {
        "id": "IB6A5qPm2-kU",
        "colab_type": "code",
        "colab": {}
      },
      "source": [
        "# Define my_stuff\n",
        "my_stuff = [1, 2, 3, 4, \"Camera\", 2.5]\n",
        "# Define nums\n",
        "nums = list(range(1,100))"
      ],
      "execution_count": null,
      "outputs": []
    },
    {
      "cell_type": "code",
      "metadata": {
        "id": "pFb9nsp53SG0",
        "colab_type": "code",
        "colab": {}
      },
      "source": [
        "# DON'T TOUCH THIS PLEASE!\n",
        "people = [\"Hanna\",\"Louisa\",\"Claudia\", \"Angela\",\"Geoffrey\", \"aparna\"]\n",
        "# DON'T TOUCH THIS PLEASE!\n",
        "#Change \"Hanna\" to \"Hanna\"\n",
        "people[0] = \"Hannah\"\n",
        "#Change \"Geoffrey\" to \"Jeffrey\"\n",
        "people[4] = \"Jeffrey\"\n",
        "#Change \"aparna\" to \"Aparna\" (capitalize it)\n",
        "people[-1] = \"Aparna\""
      ],
      "execution_count": null,
      "outputs": []
    },
    {
      "cell_type": "code",
      "metadata": {
        "id": "bClvVNHC3pGs",
        "colab_type": "code",
        "colab": {}
      },
      "source": [
        "sounds = [\"super\", \"cali\", \"fragil\", \"istic\", \"expi\", \"ali\", \"docious\"]\n",
        "# Define your code below:\n",
        "result = ''\n",
        "for s in sounds:\n",
        "    result += s\n",
        "result = result.upper()"
      ],
      "execution_count": null,
      "outputs": []
    },
    {
      "cell_type": "code",
      "metadata": {
        "id": "HZrz7BGs4P7k",
        "colab_type": "code",
        "colab": {}
      },
      "source": [
        "# Create a list called instructors\n",
        "instructors = []\n",
        "\n",
        "instructors.append(\"Colt\")\n",
        "instructors.append(\"Blue\")\n",
        "instructors.append(\"Lisa\")\n",
        "\n",
        "instructors.pop()\n",
        "instructors.insert(0,\"Done\")\n",
        "print(instructors)"
      ],
      "execution_count": null,
      "outputs": []
    },
    {
      "cell_type": "code",
      "metadata": {
        "id": "nULErji346KO",
        "colab_type": "code",
        "colab": {}
      },
      "source": [
        "answer = [person[0] for person in [\"Elie\", \"Tim\", \"Matt\"]]\n",
        "answer2 = [val for val in [1,2,3,4,5,6] if val % 2 == 0]"
      ],
      "execution_count": null,
      "outputs": []
    },
    {
      "cell_type": "code",
      "metadata": {
        "id": "TzY7LZSA48DU",
        "colab_type": "code",
        "colab": {}
      },
      "source": [
        "answer = [val for val in [1,2,3,4] if val in [3,4,5,6]]\n",
        "#the slice [::-1] is a quick way to reverse a string\n",
        "answer2 = [val[::-1].lower() for val in [\"Elie\", \"Tim\", \"Matt\"]]"
      ],
      "execution_count": null,
      "outputs": []
    },
    {
      "cell_type": "code",
      "metadata": {
        "id": "8We6JPBl5RK1",
        "colab_type": "code",
        "colab": {}
      },
      "source": [
        "answer = [val for val in range(1,101) if val % 12 == 0]"
      ],
      "execution_count": null,
      "outputs": []
    },
    {
      "cell_type": "code",
      "metadata": {
        "id": "mupLu7Jm5SXV",
        "colab_type": "code",
        "colab": {}
      },
      "source": [
        "answer = [char for char in \"amazing\" if char not in \"aeiou\"]"
      ],
      "execution_count": null,
      "outputs": []
    },
    {
      "cell_type": "code",
      "metadata": {
        "id": "-dPgKM8G5WMF",
        "colab_type": "code",
        "colab": {}
      },
      "source": [
        "answer = [[i for i in range(0,3)] for num in range(0,3)]"
      ],
      "execution_count": null,
      "outputs": []
    },
    {
      "cell_type": "code",
      "metadata": {
        "id": "RrTPjodm5ZPd",
        "colab_type": "code",
        "colab": {}
      },
      "source": [
        "answer = [[i for i in range(0,10)] for num in range(0,10)]"
      ],
      "execution_count": null,
      "outputs": []
    },
    {
      "cell_type": "markdown",
      "metadata": {
        "id": "88KBg7DU5eCk",
        "colab_type": "text"
      },
      "source": [
        "Dictionaries"
      ]
    },
    {
      "cell_type": "code",
      "metadata": {
        "id": "KN7MI5uc5eid",
        "colab_type": "code",
        "colab": {}
      },
      "source": [
        "artist = {\n",
        "    \"first\": \"Neil\",\n",
        "    \"last\": \"Young\",\n",
        "}\n",
        "\n",
        "full_name = f\"{artist['first']} {artist['last']}\""
      ],
      "execution_count": null,
      "outputs": []
    },
    {
      "cell_type": "code",
      "metadata": {
        "id": "2QKPBWRR5v9l",
        "colab_type": "code",
        "colab": {}
      },
      "source": [
        "total_donations = sum(donations.values())"
      ],
      "execution_count": null,
      "outputs": []
    },
    {
      "cell_type": "code",
      "metadata": {
        "id": "HpyPixV752f-",
        "colab_type": "code",
        "colab": {}
      },
      "source": [
        "# This code picks a random food item:\n",
        "from random import choice \n",
        "food = choice([\"cheese pizza\", \"quiche\",\"morning bun\",\"gummy bear\",\"tea cake\"])\n",
        "\n",
        "bakery_stock = {\n",
        "    \"almond croissant\" : 12,\n",
        "    \"toffee cookie\": 3,\n",
        "    \"morning bun\": 1,\n",
        "    \"chocolate chunk cookie\": 9,\n",
        "    \"tea cake\": 25\n",
        "}\n",
        "\n",
        "quantity = bakery_stock.get(food)\n",
        "if quantity:\n",
        "    print(\"{} left\".format(quantity))\n",
        "else:\n",
        "    print(\"we don't make that\")"
      ],
      "execution_count": null,
      "outputs": []
    },
    {
      "cell_type": "code",
      "metadata": {
        "id": "z62RWHNe6Au9",
        "colab_type": "code",
        "colab": {}
      },
      "source": [
        "game_properties = [\n",
        "    \"current_score\",\n",
        "    \"high_score\",\n",
        "    \"number_of_lives\",\n",
        "    \"items_in_inventory\",\n",
        "    \"power_ups\",\n",
        "    \"ammo\",\n",
        "    \"enemies_on_screen\",\n",
        "    \"enemy_kills\",\n",
        "    \"enemy_kill_streaks\",\n",
        "    \"minutes_played\",\n",
        "    \"notifications\",\n",
        "    \"achievements\"\n",
        "]\n",
        "initial_game_state = dict.fromkeys(game_properties, 0)"
      ],
      "execution_count": null,
      "outputs": []
    },
    {
      "cell_type": "code",
      "metadata": {
        "id": "Kzibs0iD6EwV",
        "colab_type": "code",
        "colab": {}
      },
      "source": [
        "inventory = {'croissant': 19, 'bagel': 4, 'muffin': 8, 'cake': 1} #DON'T CHANGE THIS LINE!\n",
        "# Make a copy of inventory and save it to a variable called stock_list\n",
        "stock_list = inventory.copy()\n",
        "# add the value 18 to stock_list under the key \"cookie\"\n",
        "stock_list['cookie'] = 18\n",
        "# remove 'cake' from stock_list\n",
        "stock_list.pop('cake')"
      ],
      "execution_count": null,
      "outputs": []
    },
    {
      "cell_type": "code",
      "metadata": {
        "id": "zJXz-yRp6IgH",
        "colab_type": "code",
        "colab": {}
      },
      "source": [
        "list1 = [\"CA\", \"NJ\", \"RI\"]\n",
        "list2 = [\"California\", \"New Jersey\", \"Rhode Island\"]\n",
        "\n",
        "answer = {list1[i]: list2[i] for i in range(0,3)}"
      ],
      "execution_count": null,
      "outputs": []
    },
    {
      "cell_type": "code",
      "metadata": {
        "id": "rNHVEpC86Nn9",
        "colab_type": "code",
        "colab": {}
      },
      "source": [
        "person = [[\"name\", \"Jared\"], [\"job\", \"Musician\"], [\"city\", \"Bern\"]]\n",
        "answer = dict(person)"
      ],
      "execution_count": null,
      "outputs": []
    },
    {
      "cell_type": "markdown",
      "metadata": {
        "id": "AGLgsDh56XwF",
        "colab_type": "text"
      },
      "source": [
        "Tuple and Sets"
      ]
    },
    {
      "cell_type": "code",
      "metadata": {
        "id": "c-geWO0m6ZcF",
        "colab_type": "code",
        "colab": {}
      },
      "source": [
        "# 1 - Create a variable called numbers which is a tuple with the the values 1, 2, 3 and 4 inside.\n",
        "numbers = (1,2,3,4)\n",
        "\n",
        "# 2 - Create a variable called value which is a tuple with the the value 1 inside.\n",
        "value = (1,)\n",
        "\n",
        "# 3 - Given the following variable:\n",
        "values = [10,20,30]\n",
        "# Create a variable called static_values which is the result of the values variable converted to a tuple\n",
        "static_values = tuple(values)\n",
        "\n",
        "# 3 - Given the following variable\n",
        "stuff = [1,3,1,5,2,5,1,2,5]\n",
        "\n",
        "# Create a variable called unique_stuff which is a set of only the unique values in the stuff list\n",
        "unique_stuff = set(stuff)"
      ],
      "execution_count": null,
      "outputs": []
    },
    {
      "cell_type": "markdown",
      "metadata": {
        "id": "nTrSovaT6dae",
        "colab_type": "text"
      },
      "source": [
        "Functions I"
      ]
    },
    {
      "cell_type": "code",
      "metadata": {
        "id": "_UPWoIUI6fOd",
        "colab_type": "code",
        "colab": {}
      },
      "source": [
        "def generate_evens():\n",
        "    return [x for x in range(1,50) if x%2 == 0]"
      ],
      "execution_count": null,
      "outputs": []
    },
    {
      "cell_type": "code",
      "metadata": {
        "id": "LzH5SntP6pBt",
        "colab_type": "code",
        "colab": {}
      },
      "source": [
        "def yell(word):\n",
        "    return f\"{word.upper()}!\""
      ],
      "execution_count": null,
      "outputs": []
    },
    {
      "cell_type": "code",
      "metadata": {
        "id": "6F0JU1xZ6t-N",
        "colab_type": "code",
        "colab": {}
      },
      "source": [
        "def count_dollar_signs(word):\n",
        "    count = 0\n",
        "    for char in word:\n",
        "        if char == '$':\n",
        "            count += 1\n",
        "    return count"
      ],
      "execution_count": null,
      "outputs": []
    },
    {
      "cell_type": "code",
      "metadata": {
        "id": "uDcc7KN866vd",
        "colab_type": "code",
        "colab": {}
      },
      "source": [
        "def speak(animal='dog'):\n",
        "    noises = {'pig':'oink', 'duck':'quack', 'cat':'meow', 'dog':'woof'}\n",
        "    return noises.get(animal, '?')"
      ],
      "execution_count": null,
      "outputs": []
    },
    {
      "cell_type": "code",
      "metadata": {
        "id": "QEqiFbKi7BeN",
        "colab_type": "code",
        "colab": {}
      },
      "source": [
        "def product(a,b):\n",
        "    return a*b"
      ],
      "execution_count": null,
      "outputs": []
    },
    {
      "cell_type": "code",
      "metadata": {
        "id": "oqUruF5p7B8X",
        "colab_type": "code",
        "colab": {}
      },
      "source": [
        "def single_letter_count(string,letter):\n",
        "    return string.lower().count(letter.lower())"
      ],
      "execution_count": null,
      "outputs": []
    },
    {
      "cell_type": "code",
      "metadata": {
        "id": "RQ9po6Ru7OAF",
        "colab_type": "code",
        "colab": {}
      },
      "source": [
        "def multiple_letter_count(string):\n",
        "    return {letter: string.count(letter) for letter in string}"
      ],
      "execution_count": null,
      "outputs": []
    },
    {
      "cell_type": "code",
      "metadata": {
        "id": "CIiA83U67QZt",
        "colab_type": "code",
        "colab": {}
      },
      "source": [
        "def list_manipulation(collection, command, location, value=None):\n",
        "    if(command == \"remove\" and location == \"end\"):\n",
        "        return collection.pop()\n",
        "    elif(command == \"remove\" and location == \"beginning\"):\n",
        "        return collection.pop(0)\n",
        "    elif(command == \"add\" and location == \"beginning\"):\n",
        "        collection.insert(0,value)\n",
        "        return collection\n",
        "    elif(command == \"add\" and location == \"end\"):\n",
        "        collection.append(value)\n",
        "        return collection"
      ],
      "execution_count": null,
      "outputs": []
    },
    {
      "cell_type": "code",
      "metadata": {
        "id": "m4yBrVu57Sbm",
        "colab_type": "code",
        "colab": {}
      },
      "source": [
        "def is_palindrome(string):\n",
        "    return string == string[::-1]"
      ],
      "execution_count": null,
      "outputs": []
    },
    {
      "cell_type": "code",
      "metadata": {
        "id": "wca-pHcY7W71",
        "colab_type": "code",
        "colab": {}
      },
      "source": [
        "def frequency(collection, searchTerm):\n",
        "    return collection.count(searchTerm)"
      ],
      "execution_count": null,
      "outputs": []
    },
    {
      "cell_type": "code",
      "metadata": {
        "id": "6HjAhjBU7Y5V",
        "colab_type": "code",
        "colab": {}
      },
      "source": [
        "def multiply_even_numbers(lst):\n",
        "    total = 1\n",
        "    for val in lst:\n",
        "        if val % 2 == 0:\n",
        "            total = total * val\n",
        "    return total"
      ],
      "execution_count": null,
      "outputs": []
    },
    {
      "cell_type": "code",
      "metadata": {
        "id": "YgRuf-hE7bK9",
        "colab_type": "code",
        "colab": {}
      },
      "source": [
        "def capitalize(string):\n",
        "    return string[:1].upper() + string[1:]"
      ],
      "execution_count": null,
      "outputs": []
    },
    {
      "cell_type": "code",
      "metadata": {
        "id": "IEDseqQz7emF",
        "colab_type": "code",
        "colab": {}
      },
      "source": [
        "def compact(l):\n",
        "    return [val for val in l if val]"
      ],
      "execution_count": null,
      "outputs": []
    },
    {
      "cell_type": "code",
      "metadata": {
        "id": "13MqfQh27iQl",
        "colab_type": "code",
        "colab": {}
      },
      "source": [
        "def intersection(l1, l2):\n",
        "    return [val for val in l1 if val in l2]"
      ],
      "execution_count": null,
      "outputs": []
    },
    {
      "cell_type": "code",
      "metadata": {
        "id": "MEklOm1f7itF",
        "colab_type": "code",
        "colab": {}
      },
      "source": [
        "def partition(lst, fn):\n",
        "    return [[val for val in lst if fn(val)], [val for val in lst if not fn(val)]]"
      ],
      "execution_count": null,
      "outputs": []
    },
    {
      "cell_type": "markdown",
      "metadata": {
        "id": "p9DJluM07q31",
        "colab_type": "text"
      },
      "source": [
        "Functions II"
      ]
    },
    {
      "cell_type": "code",
      "metadata": {
        "id": "Sr_dPUpF7vI1",
        "colab_type": "code",
        "colab": {}
      },
      "source": [
        "def contains_purple(*args):\n",
        "    if \"purple\" in args: return True\n",
        "    return False"
      ],
      "execution_count": null,
      "outputs": []
    },
    {
      "cell_type": "code",
      "metadata": {
        "id": "DCHElqzE70f9",
        "colab_type": "code",
        "colab": {}
      },
      "source": [
        "def combine_words(word,**kwargs):\n",
        "    if 'prefix' in kwargs:\n",
        "        return kwargs['prefix'] + word\n",
        "    elif 'suffix' in kwargs:\n",
        "        return word + kwargs['suffix']\n",
        "    return word"
      ],
      "execution_count": null,
      "outputs": []
    },
    {
      "cell_type": "code",
      "metadata": {
        "id": "Fn5CRvcC723V",
        "colab_type": "code",
        "colab": {}
      },
      "source": [
        "def count_sevens(*args):\n",
        "    return args.count(7)\n",
        "\n",
        "nums = [90,1,35,67,89,20,3,1,2,3,4,5,6,9,34,46,57,68,79,12,23,34,55,1,90,54,34,76,8,23,34,45,56,67,78,12,23,34,45,56,67,768,23,4,5,6,7,8,9,12,34,14,15,16,17,11,7,11,8,4,6,2,5,8,7,10,12,13,14,15,7,8,7,7,345,23,34,45,56,67,1,7,3,6,7,2,3,4,5,6,7,8,9,8,7,6,5,4,2,1,2,3,4,5,6,7,8,9,0,9,8,7,8,7,6,5,4,3,2,1,7]\n",
        "\n",
        "# Write your code below:\n",
        "result1 = count_sevens(1,4,7)\n",
        "result2 = count_sevens(*nums)"
      ],
      "execution_count": null,
      "outputs": []
    },
    {
      "cell_type": "code",
      "metadata": {
        "id": "CYRdjD977_5t",
        "colab_type": "code",
        "colab": {}
      },
      "source": [
        "def calculate(**kwargs):\n",
        "    operation_lookup = {\n",
        "        'add': kwargs.get('first', 0) + kwargs.get('second', 0),\n",
        "        'subtract': kwargs.get('first', 0) - kwargs.get('second', 0),\n",
        "        'divide': kwargs.get('first', 0) / kwargs.get('second', 0),\n",
        "        'multiply': kwargs.get('first', 0) * kwargs.get('second', 0)\n",
        "    }\n",
        "    is_float = kwargs.get('make_float', False)\n",
        "    operation_value = operation_lookup[kwargs.get('operation', '')]\n",
        "    if is_float:\n",
        "        final = \"{} {}\".format(kwargs.get('message','The result is'), float(operation_value))\n",
        "    else:\n",
        "        final = \"{} {}\".format(kwargs.get('message','The result is'), int(operation_value))\n",
        "    return final"
      ],
      "execution_count": null,
      "outputs": []
    },
    {
      "cell_type": "code",
      "metadata": {
        "id": "ZHD2xDyr8DSO",
        "colab_type": "code",
        "colab": {}
      },
      "source": [
        "cube = lambda num: num ** 3"
      ],
      "execution_count": null,
      "outputs": []
    },
    {
      "cell_type": "code",
      "metadata": {
        "id": "-5_3Y_g68N-l",
        "colab_type": "code",
        "colab": {}
      },
      "source": [
        "def decrement_list(l):\n",
        "    return list(map(lambda n: n-1, l))"
      ],
      "execution_count": null,
      "outputs": []
    },
    {
      "cell_type": "code",
      "metadata": {
        "id": "T-NMXAyx8RFm",
        "colab_type": "code",
        "colab": {}
      },
      "source": [
        "def remove_negatives(nums):\n",
        "    return list(filter(lambda l: l >= 0, nums))"
      ],
      "execution_count": null,
      "outputs": []
    },
    {
      "cell_type": "code",
      "metadata": {
        "id": "vSVYYBPc8TW2",
        "colab_type": "code",
        "colab": {}
      },
      "source": [
        "def is_all_strings(lst):\n",
        "    return all([type(l) == str for l in lst])"
      ],
      "execution_count": null,
      "outputs": []
    },
    {
      "cell_type": "code",
      "metadata": {
        "id": "5H_LZ4ZH8ZFO",
        "colab_type": "code",
        "colab": {}
      },
      "source": [
        "def extremes(nums):\n",
        "    return(min(nums), max(nums))"
      ],
      "execution_count": null,
      "outputs": []
    },
    {
      "cell_type": "code",
      "metadata": {
        "id": "7nYCbIR88bsm",
        "colab_type": "code",
        "colab": {}
      },
      "source": [
        "def max_magnitude(nums):\n",
        "    return max(abs(num) for num in nums)"
      ],
      "execution_count": null,
      "outputs": []
    },
    {
      "cell_type": "code",
      "metadata": {
        "id": "7nFLqNac8d1X",
        "colab_type": "code",
        "colab": {}
      },
      "source": [
        "def sum_even_values(*args):\n",
        "    return sum(arg for arg in args if arg % 2 == 0)"
      ],
      "execution_count": null,
      "outputs": []
    },
    {
      "cell_type": "code",
      "metadata": {
        "id": "5gjlRJzt8f35",
        "colab_type": "code",
        "colab": {}
      },
      "source": [
        "def interleave(str1,str2):\n",
        "    return ''.join(''.join(x) for x in (zip(str1,str2)))\n"
      ],
      "execution_count": null,
      "outputs": []
    },
    {
      "cell_type": "markdown",
      "metadata": {
        "id": "Op8XETQt87EM",
        "colab_type": "text"
      },
      "source": [
        "Debugging"
      ]
    },
    {
      "cell_type": "code",
      "metadata": {
        "id": "Od-gSiJI87xk",
        "colab_type": "code",
        "colab": {}
      },
      "source": [
        "def divide(a,b):\n",
        "    try:\n",
        "        total = a / b\n",
        "    except TypeError:\n",
        "        return \"Please provide two integers or floats\"\n",
        "    except ZeroDivisionError:\n",
        "        return \"Please do not divide by zero\"\n",
        "    return total"
      ],
      "execution_count": null,
      "outputs": []
    },
    {
      "cell_type": "markdown",
      "metadata": {
        "id": "adC3LEkE8_hL",
        "colab_type": "text"
      },
      "source": [
        "Modules"
      ]
    },
    {
      "cell_type": "code",
      "metadata": {
        "id": "8fbMmE7g9BHz",
        "colab_type": "code",
        "colab": {}
      },
      "source": [
        "import keyword\n",
        "\n",
        "def contains_keyword(*args):\n",
        "    for item in args:\n",
        "        if keyword.iskeyword(item): return True\n",
        "    return False"
      ],
      "execution_count": null,
      "outputs": []
    },
    {
      "cell_type": "markdown",
      "metadata": {
        "id": "nOhm7Qlw9QT0",
        "colab_type": "text"
      },
      "source": [
        "OOP"
      ]
    },
    {
      "cell_type": "code",
      "metadata": {
        "id": "mdQQqsHc9SfE",
        "colab_type": "code",
        "colab": {}
      },
      "source": [
        "class Vehicle:\n",
        "    pass\n",
        "\n",
        "car = Vehicle()\n",
        "boat = Vehicle()"
      ],
      "execution_count": null,
      "outputs": []
    },
    {
      "cell_type": "code",
      "metadata": {
        "id": "13Ma34JZ9Zpj",
        "colab_type": "code",
        "colab": {}
      },
      "source": [
        "class Comment():\n",
        "    def __init__(self, username, text, likes=0):\n",
        "        self.username = username\n",
        "        self.text = text\n",
        "        self.likes = likes"
      ],
      "execution_count": null,
      "outputs": []
    },
    {
      "cell_type": "code",
      "metadata": {
        "id": "0q9KbOOC9ePT",
        "colab_type": "code",
        "colab": {}
      },
      "source": [
        "class BankAccount:\n",
        "\n",
        "    def __init__(self, name):\n",
        "        self.owner = name\n",
        "        self.balance = 0.0\n",
        "\n",
        "    def getBalance(self):\n",
        "        return self.balance\n",
        "\n",
        "    def withdraw(self, amount):\n",
        "        self.balance -= amount\n",
        "        return self.balance\n",
        "\n",
        "    def deposit(self, amount):\n",
        "        self.balance += amount\n",
        "        return self.balance"
      ],
      "execution_count": null,
      "outputs": []
    },
    {
      "cell_type": "code",
      "metadata": {
        "id": "gNjiNXW59fBy",
        "colab_type": "code",
        "colab": {}
      },
      "source": [
        "class Chicken:\n",
        "    total_eggs = 0\n",
        "    def __init__(self, name, species):\n",
        "        self.name = name\n",
        "        self.species = species\n",
        "        self.eggs = 0\n",
        "    \n",
        "    def lay_egg(self):\n",
        "        self.eggs += 1\n",
        "        Chicken.total_eggs += 1\n",
        "        return self.eggs"
      ],
      "execution_count": null,
      "outputs": []
    },
    {
      "cell_type": "code",
      "metadata": {
        "id": "aFJxXNrQ9ioz",
        "colab_type": "code",
        "colab": {}
      },
      "source": [
        "class Character():\n",
        "    def __init__(self, name, hp, level):\n",
        "        self.name = name\n",
        "        self.hp = hp\n",
        "        self.level = level\n",
        "\n",
        "class NPC(Character):\n",
        "    def __init__(self, name, hp, level):\n",
        "        super().__init__(name, hp, level)\n",
        "\n",
        "    def speak(self):\n",
        "        return \"{0} says: 'I heard monsters running around last night!'\".format(self.name)"
      ],
      "execution_count": null,
      "outputs": []
    },
    {
      "cell_type": "code",
      "metadata": {
        "id": "2EsjCDxe9roL",
        "colab_type": "code",
        "colab": {}
      },
      "source": [
        "class Mother:\n",
        "    def __init__(self):\n",
        "        self.eye_color = \"brown\"\n",
        "        self.hair_color = \"dark brown\"\n",
        "        self.hair_type = \"curly\"\n",
        "\n",
        "\n",
        "class Father:\n",
        "    def __init__(self):\n",
        "        self.eye_color = \"blue\"\n",
        "        self.hair_color = \"blond\"\n",
        "        self.hair_type = \"straight\"\n",
        "\n",
        "\n",
        "class Child(Mother, Father):\n",
        "    pass"
      ],
      "execution_count": null,
      "outputs": []
    },
    {
      "cell_type": "code",
      "metadata": {
        "id": "wvUnhczR9ud0",
        "colab_type": "code",
        "colab": {}
      },
      "source": [
        "class Train():\n",
        "    def __init__(self, num_cars):\n",
        "        self.num_cars = num_cars\n",
        "\n",
        "    def __repr__(self):\n",
        "        return \"{} car train\".format(self.num_cars)\n",
        "\n",
        "    def __len__(self):\n",
        "        return self.num_cars"
      ],
      "execution_count": null,
      "outputs": []
    },
    {
      "cell_type": "markdown",
      "metadata": {
        "id": "oOReRCjk9zFU",
        "colab_type": "text"
      },
      "source": [
        "Generators and Decorators"
      ]
    },
    {
      "cell_type": "code",
      "metadata": {
        "id": "Q_8z7wuj92Av",
        "colab_type": "code",
        "colab": {}
      },
      "source": [
        "def make_song(verses=99, beverage=\"soda\"):\n",
        "    for num in range(verses, -1, -1):\n",
        "        if num > 1:\n",
        "            yield \"{} bottles of {} on the wall.\".format(num, beverage)\n",
        "        elif num == 1:\n",
        "            yield \"Only 1 bottle of {} left!\".format(beverage)\n",
        "        else:\n",
        "            yield \"No more {}!\".format(beverage)"
      ],
      "execution_count": null,
      "outputs": []
    },
    {
      "cell_type": "code",
      "metadata": {
        "id": "z3rXywDu-CpP",
        "colab_type": "code",
        "colab": {}
      },
      "source": [
        "def get_multiples(num=1, count=10):\n",
        "    next_num = num\n",
        "    while count > 0:\n",
        "        yield next_num\n",
        "        count -= 1\n",
        "        next_num += num"
      ],
      "execution_count": null,
      "outputs": []
    },
    {
      "cell_type": "code",
      "metadata": {
        "id": "JQENylyY-Hkb",
        "colab_type": "code",
        "colab": {}
      },
      "source": [
        "def get_unlimited_multiples(num=1):\n",
        "    next_num = num\n",
        "    while True:\n",
        "        yield next_num\n",
        "        next_num += num"
      ],
      "execution_count": null,
      "outputs": []
    },
    {
      "cell_type": "code",
      "metadata": {
        "id": "R4H0MTN8-OAF",
        "colab_type": "code",
        "colab": {}
      },
      "source": [
        "from functools import wraps\n",
        "\n",
        "def show_args(fn):\n",
        "    @wraps(fn)\n",
        "    def wrapper(*args, **kwargs):\n",
        "        print(\"Here are the args:\", args)\n",
        "        print(\"Here are the kwargs:\", kwargs)\n",
        "        return fn(*args, **kwargs)\n",
        "    return wrapper\n",
        "\n",
        "@show_args\n",
        "def do_nothing(*args, **kwargs):\n",
        "    pass\n",
        "\n",
        "do_nothing(1, 2, 3,a=\"hi\",b=\"bye\")"
      ],
      "execution_count": null,
      "outputs": []
    },
    {
      "cell_type": "code",
      "metadata": {
        "id": "WSgI6UhG-bM8",
        "colab_type": "code",
        "colab": {}
      },
      "source": [
        "from functools import wraps\n",
        "\n",
        "def double_return(fn):\n",
        "    @wraps(fn)\n",
        "    def wrapper(*args, **kwargs):\n",
        "        val = fn(*args, **kwargs)\n",
        "        return [val, val]\n",
        "    return wrapper"
      ],
      "execution_count": null,
      "outputs": []
    },
    {
      "cell_type": "code",
      "metadata": {
        "id": "yc34PqEE-gYG",
        "colab_type": "code",
        "colab": {}
      },
      "source": [
        "from functools import wraps\n",
        "\n",
        "def ensure_fewer_than_three_args(fn):\n",
        "    @wraps(fn)\n",
        "    def wrapper(*args, **kwargs):\n",
        "        if len(args) < 3:\n",
        "            return fn(*args, **kwargs)\n",
        "        return \"Too many arguments!\"\n",
        "    return wrapper"
      ],
      "execution_count": null,
      "outputs": []
    },
    {
      "cell_type": "code",
      "metadata": {
        "id": "lyqmVd3k-jJ8",
        "colab_type": "code",
        "colab": {}
      },
      "source": [
        "from functools import wraps\n",
        "\n",
        "def ensure_authorized(fn):\n",
        "    @wraps(fn)\n",
        "    def wrapper(*args, **kwargs):\n",
        "        if kwargs.get(\"role\") == \"admin\":\n",
        "            return fn(*args, **kwargs)\n",
        "        return \"Unauthorized\"\n",
        "    return wrapper"
      ],
      "execution_count": null,
      "outputs": []
    },
    {
      "cell_type": "markdown",
      "metadata": {
        "id": "70naEECCyAnP",
        "colab_type": "text"
      },
      "source": [
        "Files"
      ]
    },
    {
      "cell_type": "code",
      "metadata": {
        "id": "aA_bpGXD-nQ0",
        "colab_type": "code",
        "colab": {}
      },
      "source": [
        "def copy(file_name, new_file_name):\n",
        "    with open(file_name) as file:\n",
        "        text = file.read()\n",
        "    \n",
        "    with open(new_file_name, \"w\") as new_file:\n",
        "        new_file.write(text)"
      ],
      "execution_count": null,
      "outputs": []
    },
    {
      "cell_type": "code",
      "metadata": {
        "id": "r-mS0N4ayIvs",
        "colab_type": "code",
        "colab": {}
      },
      "source": [
        "def copy_and_reverse(file_name, new_file_name):\n",
        "    with open(file_name) as file:\n",
        "        text = file.read()\n",
        "\n",
        "    with open(new_file_name, \"w\") as new_file:\n",
        "        new_file.write(text[::-1])"
      ],
      "execution_count": null,
      "outputs": []
    },
    {
      "cell_type": "code",
      "metadata": {
        "id": "9WefjcZCyOwr",
        "colab_type": "code",
        "colab": {}
      },
      "source": [
        "def statistics(file_name):\n",
        "    with open(file_name) as file:\n",
        "        lines = file.readlines()\n",
        "\n",
        "    return { \"lines\": len(lines),\n",
        "             \"words\": sum(len(line.split(\" \")) for line in lines),\n",
        "             \"characters\": sum(len(line) for line in lines) }"
      ],
      "execution_count": null,
      "outputs": []
    },
    {
      "cell_type": "code",
      "metadata": {
        "id": "_hNWlcdTyepM",
        "colab_type": "code",
        "colab": {}
      },
      "source": [
        "def find_and_replace(file_name, old_word, new_word):\n",
        "    with open(file_name, \"r+\") as file:\n",
        "        text = file.read()\n",
        "        new_text = text.replace(old_word, new_word)\n",
        "        file.seek(0)\n",
        "        file.write(new_text)"
      ],
      "execution_count": null,
      "outputs": []
    }
  ]
}