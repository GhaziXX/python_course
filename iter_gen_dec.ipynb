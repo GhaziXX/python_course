{
  "nbformat": 4,
  "nbformat_minor": 0,
  "metadata": {
    "colab": {
      "name": "Untitled9.ipynb",
      "provenance": [],
      "authorship_tag": "ABX9TyM4t1HqPpoxGgBvmUHFoHF3",
      "include_colab_link": true
    },
    "kernelspec": {
      "name": "python3",
      "display_name": "Python 3"
    }
  },
  "cells": [
    {
      "cell_type": "markdown",
      "metadata": {
        "id": "view-in-github",
        "colab_type": "text"
      },
      "source": [
        "<a href=\"https://colab.research.google.com/github/GhaziXX/python_course/blob/master/iter_gen_dec.ipynb\" target=\"_parent\"><img src=\"https://colab.research.google.com/assets/colab-badge.svg\" alt=\"Open In Colab\"/></a>"
      ]
    },
    {
      "cell_type": "code",
      "metadata": {
        "id": "Z2CfaW2Dep46",
        "colab_type": "code",
        "colab": {}
      },
      "source": [
        "def fib_list(max):\n",
        "  nums = []\n",
        "  a,b = 0,1\n",
        "  while len(nums) < max:\n",
        "    nums.append(b)\n",
        "    a,b = b,a+b\n",
        "  return nums\n",
        "\n",
        "def fib_gen(max):\n",
        "  x,y = 0,1\n",
        "  count = 1\n",
        "  while count < max:\n",
        "    x,y =y,x+y\n",
        "    yield x\n",
        "    count+=1\n"
      ],
      "execution_count": null,
      "outputs": []
    },
    {
      "cell_type": "code",
      "metadata": {
        "id": "wYyjLGoSfMPk",
        "colab_type": "code",
        "colab": {}
      },
      "source": [
        "for x in fib_gen(1000000000):\n",
        "  print(x)"
      ],
      "execution_count": null,
      "outputs": []
    },
    {
      "cell_type": "code",
      "metadata": {
        "id": "-XvYMNQgrOXV",
        "colab_type": "code",
        "colab": {}
      },
      "source": [
        "def be_polite(fn):\n",
        "  def wrapper():\n",
        "    print(\"what a pleasure to meet you\")\n",
        "    fn()\n",
        "    print('have a great day')\n",
        "  return wrapper\n",
        "\n",
        "def greet():\n",
        "  print('my name is colt')\n"
      ],
      "execution_count": null,
      "outputs": []
    },
    {
      "cell_type": "code",
      "metadata": {
        "id": "_2drGSq1r-JE",
        "colab_type": "code",
        "colab": {}
      },
      "source": [
        "greeting = be_polite(greet)\n",
        "greeting()"
      ],
      "execution_count": null,
      "outputs": []
    },
    {
      "cell_type": "code",
      "metadata": {
        "id": "2-7tEPrbth4c",
        "colab_type": "code",
        "colab": {}
      },
      "source": [
        "def shout(fn):\n",
        "  def wrapper(*args,**kwargs):\n",
        "    return fn(*args,**kwargs).upper()\n",
        "  return wrapper\n",
        "\n",
        "def greet(name):\n",
        "  return f'Hi, I\"m {name}'\n",
        "\n",
        "def order(main,side):\n",
        "  return f\"Hi, this is {main}, and this is {side}\"\n",
        "\n",
        "greeting = shout(greet)\n",
        "print(greeting(\"ghazi\"))\n",
        "ordering = shout(order)\n",
        "print(ordering('Ghazi','Ahmed'))"
      ],
      "execution_count": null,
      "outputs": []
    },
    {
      "cell_type": "code",
      "metadata": {
        "id": "ozlGDsPxukVI",
        "colab_type": "code",
        "colab": {}
      },
      "source": [
        "@shout\n",
        "def greet(name):\n",
        "  return f'Hi, I\"m {name}'\n",
        "\n",
        "print(greet('tood'))"
      ],
      "execution_count": null,
      "outputs": []
    },
    {
      "cell_type": "code",
      "metadata": {
        "id": "MDtCSkQJwgM1",
        "colab_type": "code",
        "colab": {}
      },
      "source": [
        "def a(**x):\n",
        "  print(x)\n",
        "l = {\"first\":2,'last':30}\n",
        "a(**l)"
      ],
      "execution_count": null,
      "outputs": []
    }
  ]
}